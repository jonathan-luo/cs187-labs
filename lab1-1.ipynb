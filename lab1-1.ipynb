{
  "nbformat": 4,
  "nbformat_minor": 0,
  "metadata": {
    "celltoolbar": "Tags",
    "kernelspec": {
      "display_name": "Python 3",
      "language": "python",
      "name": "python3"
    },
    "language_info": {
      "codemirror_mode": {
        "name": "ipython",
        "version": 3
      },
      "file_extension": ".py",
      "mimetype": "text/x-python",
      "name": "python",
      "nbconvert_exporter": "python",
      "pygments_lexer": "ipython3",
      "version": "3.8.10"
    },
    "title": "CS187 Lab 1-1: Types, tokens, and representing text",
    "colab": {
      "name": "lab1-1.ipynb",
      "provenance": [],
      "collapsed_sections": [],
      "include_colab_link": true
    }
  },
  "cells": [
    {
      "cell_type": "markdown",
      "metadata": {
        "id": "view-in-github",
        "colab_type": "text"
      },
      "source": [
        "<a href=\"https://colab.research.google.com/github/jonathan-luo/cs187-labs/blob/main/lab1-1.ipynb\" target=\"_parent\"><img src=\"https://colab.research.google.com/assets/colab-badge.svg\" alt=\"Open In Colab\"/></a>"
      ]
    },
    {
      "cell_type": "code",
      "metadata": {
        "deletable": false,
        "editable": false,
        "jupyter": {
          "outputs_hidden": true,
          "source_hidden": true
        },
        "colab": {
          "base_uri": "https://localhost:8080/"
        },
        "id": "7ysZx-dvS3Nl",
        "outputId": "81f864d3-c3b8-4d3c-ea45-a9f9d5bc7e9c"
      },
      "source": [
        "# Please do not change this cell because some hidden tests might depend on it.\n",
        "import os\n",
        "\n",
        "# Otter grader does not handle ! commands well, so we define and use our\n",
        "# own function to execute shell commands.\n",
        "def shell(commands, warn=True):\n",
        "    \"\"\"Executes the string `commands` as a sequence of shell commands.\n",
        "     \n",
        "       Prints the result to stdout and returns the exit status. \n",
        "       Provides a printed warning on non-zero exit status unless `warn` \n",
        "       flag is unset.\n",
        "    \"\"\"\n",
        "    file = os.popen(commands)\n",
        "    print (file.read().rstrip('\\n'))\n",
        "    exit_status = file.close()\n",
        "    if warn and exit_status != None:\n",
        "        print(f\"Completed with errors. Exit status: {exit_status}\\n\")\n",
        "    return exit_status\n",
        "\n",
        "shell(\"\"\"\n",
        "ls requirements.txt >/dev/null 2>&1\n",
        "if [ ! $? = 0 ]; then\n",
        " rm -rf .tmp\n",
        " git clone https://github.com/cs187-2021/lab1-1.git .tmp\n",
        " mv .tmp/tests ./\n",
        " mv .tmp/requirements.txt ./\n",
        " rm -rf .tmp\n",
        "fi\n",
        "pip install -q -r requirements.txt\n",
        "\"\"\")"
      ],
      "execution_count": 3,
      "outputs": [
        {
          "output_type": "stream",
          "name": "stdout",
          "text": [
            "\n"
          ]
        }
      ]
    },
    {
      "cell_type": "code",
      "metadata": {
        "deletable": false,
        "editable": false,
        "id": "9d15c942"
      },
      "source": [
        "# Initialize Otter\n",
        "import otter\n",
        "grader = otter.Notebook()"
      ],
      "execution_count": 4,
      "outputs": []
    },
    {
      "cell_type": "markdown",
      "metadata": {
        "tags": [
          "remove_for_latex"
        ],
        "id": "MMKHPVGZS3Nn"
      },
      "source": [
        "# CS187\n",
        "## Lab 1-1 – Types, tokens, and representing text"
      ]
    },
    {
      "cell_type": "code",
      "metadata": {
        "id": "iYq_57JhS3No"
      },
      "source": [
        "import math\n",
        "import re\n",
        "import sys\n",
        "\n",
        "import torch\n",
        "import torchtext.legacy as tt"
      ],
      "execution_count": 5,
      "outputs": []
    },
    {
      "cell_type": "markdown",
      "metadata": {
        "id": "H3fwHURgS3Np"
      },
      "source": [
        "Where we're headed: Nearest neighbor text classification works by classifying a novel text with the same class as that of the training text that is closest according to some distance metric. These metrics are calculated based on representations of the texts. In this lab, we'll introduce some different representations and you'll use nearest neighbor classification to predict the speaker of sentences selected from a children's book.\n",
        "    \n",
        "The objectives of this lab are to:\n",
        "\n",
        "* Clarify terminology around words and texts,\n",
        "* Manipulate different representations of words and texts,\n",
        "* Apply these representations to calculate text similarity, and\n",
        "* Classify documents by a simple nearest neighbor model.\n",
        "   \n",
        "In this and later labs, we will have you carry out several exercises in notebook cells. The cells you are to do are marked '`#TODO`'. They will typically have a `...` where your code or answer should go. Where specified, you needn't write code to calculate the answer, but instead, simply work out the answer yourself and enter it."
      ]
    },
    {
      "cell_type": "markdown",
      "metadata": {
        "id": "EdldzKvJS3Np"
      },
      "source": [
        "New bits of Python used for the first time in the _solution set_ for this lab, and which you may therefore find useful:\n",
        "\n",
        "* `math.acos`\n",
        "* `math.pi`\n",
        "* `re.match`\n",
        "* `set`\n",
        "* `sorted`\n",
        "* `str.join`\n",
        "* `str.lower`\n",
        "* `torch.dot`\n",
        "* `torch.linalg.norm`\n",
        "* `torch.maximum`\n",
        "* `torch.minimum`\n",
        "* `torch.stack`\n",
        "* `torch.sum`\n",
        "* `torch.Tensor.type`\n",
        "* `torch.where`\n",
        "* `torch.zeros`\n",
        "* `torch.zeros_like`\n",
        "* `torchtext.data.get_tokenizer`"
      ]
    },
    {
      "cell_type": "markdown",
      "metadata": {
        "id": "0KJqHrytS3Np"
      },
      "source": [
        "# Counting words\n",
        "\n",
        "<img src=\"https://github.com/nlp-course/data/blob/master/Seuss/seuss%20-%201966%20-%20green%20eggs%20and%20ham.gif?raw=true\" width=150 align=right />\n",
        "\n",
        "Here are five sentences from Dr. Seuss's [_Green Eggs and Ham_](https://en.wikipedia.org/wiki/Green_Eggs_and_Ham):\n",
        "\n",
        "    Would you like them here or there?\n",
        "    I would not like them here or there.\n",
        "    I would not like them anywhere.\n",
        "    I do not like green eggs and ham.\n",
        "    I do not like them, Sam-I-am.\n",
        "\n",
        "We'll make this text available in the variable `text`."
      ]
    },
    {
      "cell_type": "code",
      "metadata": {
        "id": "868wQQrIS3Nq"
      },
      "source": [
        "text = \"\"\"\n",
        "    Would you like them here or there?\n",
        "    I would not like them here or there.\n",
        "    I would not like them anywhere.\n",
        "    I do not like green eggs and ham.\n",
        "    I do not like them, Sam-I-am.\n",
        "    \"\"\""
      ],
      "execution_count": 6,
      "outputs": []
    },
    {
      "cell_type": "markdown",
      "metadata": {
        "deletable": false,
        "editable": false,
        "id": "dCP56Y93S3Nq"
      },
      "source": [
        "A Python string like this is, of course, a sequence of characters. But we think of this text as a sequence of sentences each composed of a sequence of words. How many words are there in this text? That is a fraught question, for several reasons, including\n",
        "\n",
        "* The type-token distinction\n",
        "* Tokenization issues\n",
        "* Normalization\n",
        "\n",
        "## Types versus tokens\n",
        "\n",
        "In determining the number of words in `text`, are we talking about word _types_ or word _tokens_. (For instance, there are five _tokens_ of the word _type_ 'like'.)\n",
        "\n",
        "How many word tokens are there in total in this text? (Just count them manually.) Assign the number to the variable `token_count` in the next cell.\n",
        "<!--\n",
        "BEGIN QUESTION\n",
        "name: token_count\n",
        "-->"
      ]
    },
    {
      "cell_type": "code",
      "metadata": {
        "id": "tpvlltqHS3Nq"
      },
      "source": [
        "#TODO - define `token_count` to be the number of tokens in `text`\n",
        "token_count = 35"
      ],
      "execution_count": 7,
      "outputs": []
    },
    {
      "cell_type": "code",
      "metadata": {
        "deletable": false,
        "editable": false,
        "colab": {
          "base_uri": "https://localhost:8080/",
          "height": 46
        },
        "id": "22f59c91",
        "outputId": "352f6b60-4b21-4369-cabd-5569d852fd9d"
      },
      "source": [
        "grader.check(\"token_count\")"
      ],
      "execution_count": 8,
      "outputs": [
        {
          "output_type": "execute_result",
          "data": {
            "text/html": [
              "\n",
              "    \n",
              "    \n",
              "        <p>All tests passed!</p>\n",
              "    \n",
              "    "
            ],
            "text/plain": [
              "\n",
              "    All tests passed!\n",
              "    "
            ]
          },
          "metadata": {},
          "execution_count": 8
        }
      ]
    },
    {
      "cell_type": "markdown",
      "metadata": {
        "deletable": false,
        "editable": false,
        "id": "u5BHsilMS3Nr"
      },
      "source": [
        "How many word types are there? (Again, you can just count manually.)\n",
        "<!--\n",
        "BEGIN QUESTION\n",
        "name: type_count\n",
        "-->"
      ]
    },
    {
      "cell_type": "code",
      "metadata": {
        "id": "qmPOkDm_S3Nr"
      },
      "source": [
        "#TODO - define `type_count` to be the number of types in `text`\n",
        "type_count = 16"
      ],
      "execution_count": 9,
      "outputs": []
    },
    {
      "cell_type": "code",
      "metadata": {
        "deletable": false,
        "editable": false,
        "colab": {
          "base_uri": "https://localhost:8080/",
          "height": 46
        },
        "id": "b4b7df10",
        "outputId": "a1de0346-1f42-4cc0-e2f8-07dcbac731fc"
      },
      "source": [
        "grader.check(\"type_count\")"
      ],
      "execution_count": 10,
      "outputs": [
        {
          "output_type": "execute_result",
          "data": {
            "text/html": [
              "\n",
              "    \n",
              "    \n",
              "        <p>All tests passed!</p>\n",
              "    \n",
              "    "
            ],
            "text/plain": [
              "\n",
              "    All tests passed!\n",
              "    "
            ]
          },
          "metadata": {},
          "execution_count": 10
        }
      ]
    },
    {
      "cell_type": "markdown",
      "metadata": {
        "deletable": false,
        "editable": false,
        "id": "ABG9fMQyS3Ns"
      },
      "source": [
        "<!-- BEGIN QUESTION -->\n",
        "\n",
        "The set of types of a language is referred to as its _vocabulary_. Are there more types or tokens as you calculated above? Could it be otherwise?\n",
        "<!--\n",
        "BEGIN QUESTION\n",
        "name: type_vs_token_count\n",
        "manual: true\n",
        "-->"
      ]
    },
    {
      "cell_type": "markdown",
      "metadata": {
        "id": "9f2e0936"
      },
      "source": [
        "There are more tokens than types."
      ]
    },
    {
      "cell_type": "markdown",
      "metadata": {
        "id": "dMSO-ShPS3Nt"
      },
      "source": [
        "<!-- END QUESTION -->\n",
        "\n",
        "\n",
        "\n",
        "## Tokenization "
      ]
    },
    {
      "cell_type": "markdown",
      "metadata": {
        "id": "bb9wriwwS3Nt"
      },
      "source": [
        "Did you count 'there?' as one token or two? This raises the issue of _tokenization_ of text, how to decide where the token boundaries occur. For instance, here's a simple way to split a string – to _tokenize_ it – in Python by splitting at whitespace."
      ]
    },
    {
      "cell_type": "code",
      "metadata": {
        "id": "FtkfoZ56S3Nt"
      },
      "source": [
        "def whitespace_tokenize(str):\n",
        "    return str.split()"
      ],
      "execution_count": 11,
      "outputs": []
    },
    {
      "cell_type": "markdown",
      "metadata": {
        "deletable": false,
        "editable": false,
        "id": "YlsTBLQ9S3Nu"
      },
      "source": [
        "Try it out on the `text` defined above.\n",
        "<!--\n",
        "BEGIN QUESTION\n",
        "name: tokens_whitespace\n",
        "-->"
      ]
    },
    {
      "cell_type": "code",
      "metadata": {
        "id": "ZfAlb2gmS3Nu"
      },
      "source": [
        "#TODO - define `tokens` to be the tokens as defined by the `whitespace_tokenize` function\n",
        "tokens = len(whitespace_tokenize(text))\n",
        "\n",
        "# tokens"
      ],
      "execution_count": 12,
      "outputs": []
    },
    {
      "cell_type": "code",
      "metadata": {
        "deletable": false,
        "editable": false,
        "colab": {
          "base_uri": "https://localhost:8080/",
          "height": 46
        },
        "id": "18392b85",
        "outputId": "4db50219-5301-4da9-bc35-e3c162993c3b"
      },
      "source": [
        "grader.check(\"tokens_whitespace\")"
      ],
      "execution_count": 13,
      "outputs": [
        {
          "output_type": "execute_result",
          "data": {
            "text/html": [
              "\n",
              "    \n",
              "    \n",
              "        <p>All tests passed!</p>\n",
              "    \n",
              "    "
            ],
            "text/plain": [
              "\n",
              "    All tests passed!\n",
              "    "
            ]
          },
          "metadata": {},
          "execution_count": 13
        }
      ]
    },
    {
      "cell_type": "markdown",
      "metadata": {
        "deletable": false,
        "editable": false,
        "id": "x0Aec9gcS3Nv"
      },
      "source": [
        "Using this tokenization method, count the number of tokens in the text, this time using Python to do the work.\n",
        "<!--\n",
        "BEGIN QUESTION\n",
        "name: token_count_whitespace\n",
        "-->"
      ]
    },
    {
      "cell_type": "code",
      "metadata": {
        "id": "WIYkKWLYS3Nv"
      },
      "source": [
        "#TODO - place your token count here\n",
        "token_count_2 = len(set(whitespace_tokenize(text)))\n",
        "\n",
        "# token_count_2"
      ],
      "execution_count": 14,
      "outputs": []
    },
    {
      "cell_type": "code",
      "metadata": {
        "deletable": false,
        "editable": false,
        "colab": {
          "base_uri": "https://localhost:8080/",
          "height": 46
        },
        "id": "1901c348",
        "outputId": "afcd68f8-a77b-40cd-f871-b1d2d7ed10ee"
      },
      "source": [
        "grader.check(\"token_count_whitespace\")"
      ],
      "execution_count": 15,
      "outputs": [
        {
          "output_type": "execute_result",
          "data": {
            "text/html": [
              "\n",
              "    \n",
              "    \n",
              "        <p>All tests passed!</p>\n",
              "    \n",
              "    "
            ],
            "text/plain": [
              "\n",
              "    All tests passed!\n",
              "    "
            ]
          },
          "metadata": {},
          "execution_count": 15
        }
      ]
    },
    {
      "cell_type": "markdown",
      "metadata": {
        "id": "X5YJ-sVbS3Nw"
      },
      "source": [
        "Arguably, we _should_ split off punctuation as separate tokens, but even there, some care must be taken. We don't want to split 'don't' into three tokens or 'Sam-I-Am' into five. (There's a good argument to be made however that the string 'don't' should be construed as two tokens, namely, 'do' and 'n't', but that's beyond the scope of today's discussion.)\n",
        "\n",
        "Here, we provide an alternative tokenizer that splits tokens at whitespace and splits off punctuation at the beginning and end of non-whitespace regions as separate tokens as well. It makes use of [the Python `re` module](https://docs.python.org/3/library/re.html) for regular expressions to specify the splitting process. Look over the code and make sure you understand what's going on. You might find [this online tool](https://regexr.com/) useful."
      ]
    },
    {
      "cell_type": "code",
      "metadata": {
        "id": "qTAeGY8jS3Nw"
      },
      "source": [
        "def punc_tokenize(str):\n",
        "    return [tok for tok in re.split('(\\W*?)\\s+', str) if tok != '']"
      ],
      "execution_count": 16,
      "outputs": []
    },
    {
      "cell_type": "markdown",
      "metadata": {
        "deletable": false,
        "editable": false,
        "id": "Gggm1OtDS3Nw"
      },
      "source": [
        "Now how many tokens are there in the text if tokenized in this way?\n",
        "<!--\n",
        "BEGIN QUESTION\n",
        "name: token_count_punc\n",
        "-->"
      ]
    },
    {
      "cell_type": "code",
      "metadata": {
        "id": "Re2xYTLJS3Nw"
      },
      "source": [
        "#TODO\n",
        "token_count_3 = len(punc_tokenize(text))\n",
        "\n",
        "# token_count_3"
      ],
      "execution_count": 17,
      "outputs": []
    },
    {
      "cell_type": "code",
      "metadata": {
        "deletable": false,
        "editable": false,
        "colab": {
          "base_uri": "https://localhost:8080/",
          "height": 46
        },
        "id": "85f76089",
        "outputId": "7f08d6c7-edd8-4acd-943c-b88a9b539b4e"
      },
      "source": [
        "grader.check(\"token_count_punc\")"
      ],
      "execution_count": 18,
      "outputs": [
        {
          "output_type": "execute_result",
          "data": {
            "text/html": [
              "\n",
              "    \n",
              "    \n",
              "        <p>All tests passed!</p>\n",
              "    \n",
              "    "
            ],
            "text/plain": [
              "\n",
              "    All tests passed!\n",
              "    "
            ]
          },
          "metadata": {},
          "execution_count": 18
        }
      ]
    },
    {
      "cell_type": "markdown",
      "metadata": {
        "deletable": false,
        "editable": false,
        "id": "2JeGJ7vqS3Nx"
      },
      "source": [
        "## Normalization\n",
        "\n",
        "This tokenization method counts 'Would' and 'would' (capitalized and uncapitalized) as separate types. Is that a good idea? This raises the issue of text _normalization_.\n",
        "\n",
        "Define a function `normalize_token` that normalizes tokens by making them lowercase if at most the first character is uppercase. (Hints [here](https://docs.python.org/3/library/stdtypes.html#str.lower) and [here](https://docs.python.org/3/library/re.html#re.match). These are also listed in the hint cell at the top of the lab, so we'll mostly stop providing these hints from here on.)\n",
        "<!--\n",
        "BEGIN QUESTION\n",
        "name: normalize_token\n",
        "-->"
      ]
    },
    {
      "cell_type": "code",
      "metadata": {
        "id": "WLsKWZ4bS3Nx"
      },
      "source": [
        "#TODO - implement normalize_token, which returns the normalized word for a single word `str`\n",
        "def normalize_token(str):\n",
        "    return str.lower() if re.match('^[A-Z][^A-Z]*$', str) else str\n",
        "\n",
        "# print(normalize_token(\"Sam\"))\n",
        "# print(normalize_token(\"SaFam\"))"
      ],
      "execution_count": 19,
      "outputs": []
    },
    {
      "cell_type": "code",
      "metadata": {
        "deletable": false,
        "editable": false,
        "colab": {
          "base_uri": "https://localhost:8080/",
          "height": 46
        },
        "id": "0571e942",
        "outputId": "eafeaa9b-e4a9-4171-9661-f7a84ffbb178"
      },
      "source": [
        "grader.check(\"normalize_token\")"
      ],
      "execution_count": 20,
      "outputs": [
        {
          "output_type": "execute_result",
          "data": {
            "text/html": [
              "\n",
              "    \n",
              "    \n",
              "        <p>All tests passed!</p>\n",
              "    \n",
              "    "
            ],
            "text/plain": [
              "\n",
              "    All tests passed!\n",
              "    "
            ]
          },
          "metadata": {},
          "execution_count": 20
        }
      ]
    },
    {
      "cell_type": "markdown",
      "metadata": {
        "deletable": false,
        "editable": false,
        "id": "T-U95_lfS3Ny"
      },
      "source": [
        "Now define `norm_tokens_punc` to be the sequence of normalized tokens as tokenized by `punc_tokenize`\n",
        "<!--\n",
        "BEGIN QUESTION\n",
        "name: norm_tokens_punc\n",
        "-->"
      ]
    },
    {
      "cell_type": "code",
      "metadata": {
        "colab": {
          "base_uri": "https://localhost:8080/"
        },
        "id": "By8UKt4mS3Ny",
        "outputId": "c38d91cd-6b9e-41a8-9853-0804de8b4abc"
      },
      "source": [
        "#TODO\n",
        "norm_tokens_punc = [normalize_token(tok) for tok in punc_tokenize(text)]\n",
        "\n",
        "norm_tokens_punc"
      ],
      "execution_count": 21,
      "outputs": [
        {
          "output_type": "execute_result",
          "data": {
            "text/plain": [
              "['would',\n",
              " 'you',\n",
              " 'like',\n",
              " 'them',\n",
              " 'here',\n",
              " 'or',\n",
              " 'there',\n",
              " '?',\n",
              " 'i',\n",
              " 'would',\n",
              " 'not',\n",
              " 'like',\n",
              " 'them',\n",
              " 'here',\n",
              " 'or',\n",
              " 'there',\n",
              " '.',\n",
              " 'i',\n",
              " 'would',\n",
              " 'not',\n",
              " 'like',\n",
              " 'them',\n",
              " 'anywhere',\n",
              " '.',\n",
              " 'i',\n",
              " 'do',\n",
              " 'not',\n",
              " 'like',\n",
              " 'green',\n",
              " 'eggs',\n",
              " 'and',\n",
              " 'ham',\n",
              " '.',\n",
              " 'i',\n",
              " 'do',\n",
              " 'not',\n",
              " 'like',\n",
              " 'them',\n",
              " ',',\n",
              " 'Sam-I-am',\n",
              " '.']"
            ]
          },
          "metadata": {},
          "execution_count": 21
        }
      ]
    },
    {
      "cell_type": "code",
      "metadata": {
        "deletable": false,
        "editable": false,
        "colab": {
          "base_uri": "https://localhost:8080/",
          "height": 46
        },
        "id": "c8166912",
        "outputId": "da329442-0e2c-4d7a-e1b7-6b9e6453ce31"
      },
      "source": [
        "grader.check(\"norm_tokens_punc\")"
      ],
      "execution_count": 22,
      "outputs": [
        {
          "output_type": "execute_result",
          "data": {
            "text/html": [
              "\n",
              "    \n",
              "    \n",
              "        <p>All tests passed!</p>\n",
              "    \n",
              "    "
            ],
            "text/plain": [
              "\n",
              "    All tests passed!\n",
              "    "
            ]
          },
          "metadata": {},
          "execution_count": 22
        }
      ]
    },
    {
      "cell_type": "markdown",
      "metadata": {
        "deletable": false,
        "editable": false,
        "id": "PMoe5MQwS3Ny"
      },
      "source": [
        "How many types are there when tokenized and normalized in this way?\n",
        "<!--\n",
        "BEGIN QUESTION\n",
        "name: type_count_norm_punc\n",
        "-->"
      ]
    },
    {
      "cell_type": "code",
      "metadata": {
        "id": "FkORMlg8S3Ny"
      },
      "source": [
        "#TODO\n",
        "type_count_norm_punc = len(set(norm_tokens_punc))"
      ],
      "execution_count": 23,
      "outputs": []
    },
    {
      "cell_type": "code",
      "metadata": {
        "deletable": false,
        "editable": false,
        "colab": {
          "base_uri": "https://localhost:8080/",
          "height": 46
        },
        "id": "37cae631",
        "outputId": "243a360c-1784-4ed9-de54-6a93329d623a"
      },
      "source": [
        "grader.check(\"type_count_norm_punc\")"
      ],
      "execution_count": 24,
      "outputs": [
        {
          "output_type": "execute_result",
          "data": {
            "text/html": [
              "\n",
              "    \n",
              "    \n",
              "        <p>All tests passed!</p>\n",
              "    \n",
              "    "
            ],
            "text/plain": [
              "\n",
              "    All tests passed!\n",
              "    "
            ]
          },
          "metadata": {},
          "execution_count": 24
        }
      ]
    },
    {
      "cell_type": "markdown",
      "metadata": {
        "id": "AA_a8hdpS3Nz"
      },
      "source": [
        "## Using prebuilt tokenizers\n",
        "\n",
        "Tokenization and normalization are so commonly needed that many packages provide pre-built tokenizers of various sorts. We'll use one from `torchtext`, a package that we'll make a fair amount of use of in the course. It's already been imported above under the name `tt`."
      ]
    },
    {
      "cell_type": "markdown",
      "metadata": {
        "deletable": false,
        "editable": false,
        "id": "T06E7PlGS3Nz"
      },
      "source": [
        "Define two tokenizers, versions of `whitespace_tokenize` and a normalized version of `punc_tokenize` above, using [the `tt.data.get_tokenizer` function](https://pytorch.org/text/stable/data_utils.html#get-tokenizer). (Use respectively the `None` and `\"basic_english\"` tokenizers that they provide.)\n",
        "<!--\n",
        "BEGIN QUESTION\n",
        "name: tt_whitespace_tokenize_and_tt_normpunc_tokenize\n",
        "-->"
      ]
    },
    {
      "cell_type": "code",
      "metadata": {
        "id": "PmvKoU21S3Nz"
      },
      "source": [
        "#TODO\n",
        "def tt_whitespace_tokenize(str):\n",
        "    return tt.data.get_tokenizer(None)(str)\n",
        "    \n",
        "def tt_normpunc_tokenize(str):\n",
        "    return tt.data.get_tokenizer(\"basic_english\")(str)"
      ],
      "execution_count": 25,
      "outputs": []
    },
    {
      "cell_type": "code",
      "metadata": {
        "deletable": false,
        "editable": false,
        "colab": {
          "base_uri": "https://localhost:8080/",
          "height": 46
        },
        "id": "4f967d78",
        "outputId": "c365ddf8-12fd-428a-977c-4b7763b6d003"
      },
      "source": [
        "grader.check(\"tt_whitespace_tokenize_and_tt_normpunc_tokenize\")"
      ],
      "execution_count": 26,
      "outputs": [
        {
          "output_type": "execute_result",
          "data": {
            "text/html": [
              "\n",
              "    \n",
              "    \n",
              "        <p>All tests passed!</p>\n",
              "    \n",
              "    "
            ],
            "text/plain": [
              "\n",
              "    All tests passed!\n",
              "    "
            ]
          },
          "metadata": {},
          "execution_count": 26
        }
      ]
    },
    {
      "cell_type": "markdown",
      "metadata": {
        "id": "5I9Ot0TdS3N0"
      },
      "source": [
        "Now we should be able to print out the last few tokens of the sample text, tokenized using these functions."
      ]
    },
    {
      "cell_type": "code",
      "metadata": {
        "colab": {
          "base_uri": "https://localhost:8080/"
        },
        "id": "JFsN-cBzS3N0",
        "outputId": "1e4eb78c-c20f-4961-f1ae-c42d8de96511"
      },
      "source": [
        "print(tt_whitespace_tokenize(text)[-10:])\n",
        "print(tt_normpunc_tokenize(text)[-10:])"
      ],
      "execution_count": 27,
      "outputs": [
        {
          "output_type": "stream",
          "name": "stdout",
          "text": [
            "['green', 'eggs', 'and', 'ham.', 'I', 'do', 'not', 'like', 'them,', 'Sam-I-am.']\n",
            "['ham', '.', 'i', 'do', 'not', 'like', 'them', ',', 'sam-i-am', '.']\n"
          ]
        }
      ]
    },
    {
      "cell_type": "markdown",
      "metadata": {
        "id": "E03gu20mS3N0"
      },
      "source": [
        "> _Meta-comment:_ Because it's important that you get practice both with implementing the ideas in the course from first principles and also with using prebuilt software that provides similar functionality, we'll often have you engage in this seemingly redundant process of first implementing a small example and then applying a prebuilt method to do much the same thing. The effort may be duplicative, but it is not wasted."
      ]
    },
    {
      "cell_type": "markdown",
      "metadata": {
        "id": "1zkQkCIkS3N1"
      },
      "source": [
        "# Representing words\n",
        "\n",
        "In this section, we'll explore some simple representations for tokens, as a step on the way to representing texts – sentences or documents:\n",
        "\n",
        "## String encoding\n",
        "We've already seen string encoding above, representing a token of a word type by a string specific to that type: a token 'green' represented by an instance of the Python string `'green'`, for instance, or 'Sam-I-am' represented by `'Sam-I-am'`. So let's move on.\n",
        "\n",
        "## 1-hot encoding\n",
        "Given a vocabulary for a language, we can associate each type with an integer, say by its index in a vector. We've already imported the `torch` module; we'll use `torch` tensors for the index vector. For the Seuss text, we can use this list to represent the ordered vocabulary:"
      ]
    },
    {
      "cell_type": "code",
      "metadata": {
        "colab": {
          "base_uri": "https://localhost:8080/"
        },
        "id": "GPHZc12OS3N1",
        "outputId": "6797cf47-44e3-4f71-cff7-7dda9c18882e"
      },
      "source": [
        "vocabulary = sorted(set(norm_tokens_punc))\n",
        "vocabulary"
      ],
      "execution_count": 28,
      "outputs": [
        {
          "output_type": "execute_result",
          "data": {
            "text/plain": [
              "[',',\n",
              " '.',\n",
              " '?',\n",
              " 'Sam-I-am',\n",
              " 'and',\n",
              " 'anywhere',\n",
              " 'do',\n",
              " 'eggs',\n",
              " 'green',\n",
              " 'ham',\n",
              " 'here',\n",
              " 'i',\n",
              " 'like',\n",
              " 'not',\n",
              " 'or',\n",
              " 'them',\n",
              " 'there',\n",
              " 'would',\n",
              " 'you']"
            ]
          },
          "metadata": {},
          "execution_count": 28
        }
      ]
    },
    {
      "cell_type": "markdown",
      "metadata": {
        "id": "7lzUodRAS3N2"
      },
      "source": [
        "### A digression on `torch` tensors\n",
        "\n",
        "Recall that `torch` tensors allow for vectorized computations: many operations on them work [componentwise](https://en.wikipedia.org/wiki/Pointwise#Componentwise_operations), that is, separately for each component of the tensor, rather than on the tensor all at once. Compare the following two operations, first on lists, then on `torch` tensors."
      ]
    },
    {
      "cell_type": "code",
      "metadata": {
        "colab": {
          "base_uri": "https://localhost:8080/"
        },
        "id": "-eu9tJqJS3N2",
        "outputId": "6fbcdcef-872a-455e-e2ce-ff00279ac370"
      },
      "source": [
        "[1, 2] == 1"
      ],
      "execution_count": 29,
      "outputs": [
        {
          "output_type": "execute_result",
          "data": {
            "text/plain": [
              "False"
            ]
          },
          "metadata": {},
          "execution_count": 29
        }
      ]
    },
    {
      "cell_type": "code",
      "metadata": {
        "colab": {
          "base_uri": "https://localhost:8080/"
        },
        "id": "Cjyo0q8US3N2",
        "outputId": "f2d804bd-dae1-4a89-bce9-e0b7e8f8edba"
      },
      "source": [
        "torch.tensor([1, 2]) == 1"
      ],
      "execution_count": 30,
      "outputs": [
        {
          "output_type": "execute_result",
          "data": {
            "text/plain": [
              "tensor([ True, False])"
            ]
          },
          "metadata": {},
          "execution_count": 30
        }
      ]
    },
    {
      "cell_type": "markdown",
      "metadata": {
        "id": "mA7jNtqVS3N3"
      },
      "source": [
        "This behavior of tensors is quite powerful, allowing for simply specifying complex operations and for efficient, even parallelizable, computation of them. You'll want ot take advantage of these characteristics of tensors where possible, here and in future assignments.\n",
        "\n",
        "But back to the 1-hot representation."
      ]
    },
    {
      "cell_type": "markdown",
      "metadata": {
        "id": "gNaUn-xJS3N3"
      },
      "source": [
        "In the _1-hot representation_ of words, a token is then represented by a bit vector (again given as a `torch` tensor), with a 1 at the index of the token's type. (For consistency with some later `torch` functions, we'll take the elements to be floats rather than ints. The `.type` method is useful for converting the type, and it even conveniently broadcasts over the tensors.) For instance, the 1-hot representation of the comma token ',' would be"
      ]
    },
    {
      "cell_type": "code",
      "metadata": {
        "colab": {
          "base_uri": "https://localhost:8080/"
        },
        "id": "wObmow1LS3N3",
        "outputId": "d9ff2789-1bb6-45fd-839f-822a117dcb55"
      },
      "source": [
        "torch.tensor([1,0,0,0,0,0,0,0,0,0,0,0,0,0,0,0,0,0,0]).type(torch.float32)"
      ],
      "execution_count": 31,
      "outputs": [
        {
          "output_type": "execute_result",
          "data": {
            "text/plain": [
              "tensor([1., 0., 0., 0., 0., 0., 0., 0., 0., 0., 0., 0., 0., 0., 0., 0., 0., 0.,\n",
              "        0.])"
            ]
          },
          "metadata": {},
          "execution_count": 31
        }
      ]
    },
    {
      "cell_type": "markdown",
      "metadata": {
        "id": "ffi9N8ONS3N3"
      },
      "source": [
        "Conversion back and forth between these various representations is useful. Define functions `str_to_onehot` and `onehot_to_str` that convert between the string and one-hot representations using a vocabulary array to define the  conversion. \n",
        "\n",
        "Ideally, in your implementation, you'll want to take advantage of the componentwise nature of many tensor operations discussed above."
      ]
    },
    {
      "cell_type": "code",
      "metadata": {
        "id": "WX26PgAhS3N4"
      },
      "source": [
        "#TODO\n",
        "def str_to_onehot(wordtype, vocab):\n",
        "    \"\"\"Returns the 1-hot representation of `wordtype` with vocabulary \n",
        "    `vocab`.\n",
        "    The returned value should be a torch.tensor with data type float.\n",
        "    \"\"\"\n",
        "    onehot = torch.zeros(len(vocab)).type(torch.float32)\n",
        "    if wordtype in vocab:\n",
        "      onehot[vocab.index(wordtype)] = 1\n",
        "    return onehot\n",
        "\n",
        "def onehot_to_str(onehot, vocab):\n",
        "    \"\"\"Returns the string representation of `onehot`, a one-hot \n",
        "    representation of a word type, with vocabulary `vocab`.\n",
        "    \"\"\"\n",
        "    indices = onehot.nonzero()\n",
        "    assert all(1 for s in indices.size())\n",
        "    return vocab[indices.item()]"
      ],
      "execution_count": 87,
      "outputs": []
    },
    {
      "cell_type": "markdown",
      "metadata": {
        "deletable": false,
        "editable": false,
        "id": "fmVSg7QYS3N4"
      },
      "source": [
        "Now use `str_to_onehot` to define the variable `anywhere_1hot` to be the 1-hot representation for a token of the type 'anywhere'. \n",
        "<!--\n",
        "BEGIN QUESTION\n",
        "name: anywhere_1hot\n",
        "-->"
      ]
    },
    {
      "cell_type": "code",
      "metadata": {
        "id": "4KDUXFTVS3N4",
        "colab": {
          "base_uri": "https://localhost:8080/",
          "height": 35
        },
        "outputId": "594e72a2-6eff-48ca-ce4d-ed638bd006ac"
      },
      "source": [
        "#TODO\n",
        "anywhere_1hot = str_to_onehot(\"anywhere\", vocabulary)\n",
        "\n",
        "onehot_to_str(anywhere_1hot, vocabulary)"
      ],
      "execution_count": 88,
      "outputs": [
        {
          "output_type": "execute_result",
          "data": {
            "application/vnd.google.colaboratory.intrinsic+json": {
              "type": "string"
            },
            "text/plain": [
              "'anywhere'"
            ]
          },
          "metadata": {},
          "execution_count": 88
        }
      ]
    },
    {
      "cell_type": "code",
      "metadata": {
        "deletable": false,
        "editable": false,
        "colab": {
          "base_uri": "https://localhost:8080/",
          "height": 46
        },
        "id": "e1c0a09d",
        "outputId": "b149a9b6-bf2e-44db-e7e3-671f0146015d"
      },
      "source": [
        "grader.check(\"anywhere_1hot\")"
      ],
      "execution_count": 80,
      "outputs": [
        {
          "output_type": "execute_result",
          "data": {
            "text/html": [
              "\n",
              "    \n",
              "    \n",
              "        <p>All tests passed!</p>\n",
              "    \n",
              "    "
            ],
            "text/plain": [
              "\n",
              "    All tests passed!\n",
              "    "
            ]
          },
          "metadata": {},
          "execution_count": 80
        }
      ]
    },
    {
      "cell_type": "markdown",
      "metadata": {
        "deletable": false,
        "editable": false,
        "id": "r-WxTmtYS3N5"
      },
      "source": [
        "You can verify that the conversion worked correctly by inverting it using `onehot_to_str`, which we've done in the following unit test.\n",
        "<!--\n",
        "BEGIN QUESTION\n",
        "name: anywhere_1hot_reverse\n",
        "-->"
      ]
    },
    {
      "cell_type": "code",
      "metadata": {
        "deletable": false,
        "editable": false,
        "colab": {
          "base_uri": "https://localhost:8080/",
          "height": 46
        },
        "id": "a2d85c5c",
        "outputId": "4b7677a7-ec80-4068-f651-15257f03d645"
      },
      "source": [
        "grader.check(\"anywhere_1hot_reverse\")"
      ],
      "execution_count": 38,
      "outputs": [
        {
          "output_type": "execute_result",
          "data": {
            "text/html": [
              "\n",
              "    \n",
              "    \n",
              "        <p>All tests passed!</p>\n",
              "    \n",
              "    "
            ],
            "text/plain": [
              "\n",
              "    All tests passed!\n",
              "    "
            ]
          },
          "metadata": {},
          "execution_count": 38
        }
      ]
    },
    {
      "cell_type": "markdown",
      "metadata": {
        "id": "tQuOmTE9S3N5"
      },
      "source": [
        "# Representing texts\n",
        "\n",
        "## The set-of-words representation\n",
        "\n",
        "We can represent a whole text (a sequence of words) by manipulating the vector representations of the words within the text. For instance, we can take the componentwise maximum of the vectors. We refer to this as the _set-of-words_ representation.\n",
        "\n",
        "Here we've defined a function `set_of_words` that returns the set of words representation for a token sequence."
      ]
    },
    {
      "cell_type": "code",
      "metadata": {
        "id": "TG1R54HpS3N5"
      },
      "source": [
        "def set_of_words(tokens, vocabulary):\n",
        "    \"\"\"Returns the set-of-words representation as a tensor of floats for the \n",
        "    sequence of `tokens` using the `vocabulary` to specify the conversion.\n",
        "    \"\"\"\n",
        "    onehots = torch.stack([str_to_onehot(token, vocabulary) for token in tokens])\n",
        "    return torch.amax(onehots, 0).type(torch.float32)"
      ],
      "execution_count": 39,
      "outputs": []
    },
    {
      "cell_type": "markdown",
      "metadata": {
        "id": "hI_ot8k9S3N6"
      },
      "source": [
        "This representation for a text is a vector that has a `1` for each word type that occurs in the text. The vector represents the [characteristic function](https://en.wikipedia.org/wiki/Characteristic_function) for the subset of vocabulary words that appear in the text; hence the term 'set of words'.\n"
      ]
    },
    {
      "cell_type": "markdown",
      "metadata": {
        "deletable": false,
        "editable": false,
        "id": "GPRc46s6S3N6"
      },
      "source": [
        "What is the set-of-words representation for the example text 'I would not, would not, here or there.'?\n",
        "<!--\n",
        "BEGIN QUESTION\n",
        "name: example_sow\n",
        "-->"
      ]
    },
    {
      "cell_type": "code",
      "metadata": {
        "id": "EGoILMr8S3N6"
      },
      "source": [
        "#TODO - define the variable to be the set of words representation for the example text\n",
        "# 'I would not, would not, here or there.'\n",
        "# Use `tt_normpunc_tokenize` tokenizer\n",
        "example_sow = set_of_words(tt_normpunc_tokenize('I would not, would not, here or there.'), vocabulary)"
      ],
      "execution_count": 40,
      "outputs": []
    },
    {
      "cell_type": "code",
      "metadata": {
        "deletable": false,
        "editable": false,
        "colab": {
          "base_uri": "https://localhost:8080/",
          "height": 46
        },
        "id": "7b1a205d",
        "outputId": "fd6b412a-4553-4ddc-c914-8a356bd7e6fd"
      },
      "source": [
        "grader.check(\"example_sow\")"
      ],
      "execution_count": 41,
      "outputs": [
        {
          "output_type": "execute_result",
          "data": {
            "text/html": [
              "\n",
              "    \n",
              "    \n",
              "        <p>All tests passed!</p>\n",
              "    \n",
              "    "
            ],
            "text/plain": [
              "\n",
              "    All tests passed!\n",
              "    "
            ]
          },
          "metadata": {},
          "execution_count": 41
        }
      ]
    },
    {
      "cell_type": "markdown",
      "metadata": {
        "id": "rJupick5S3N6"
      },
      "source": [
        "## The bag of words representation\n",
        "\n",
        "If instead, we take the componentwise _addition_ of the vectors instead of the maximum, the text representation provides the _frequency_ of each word type in the text. We refer to this representation as the _[bag](https://en.wikipedia.org/wiki/Multiset) of words_ representation. \n",
        "\n",
        "Define a function `bag_of_words`, analogous to `set_of_words` above, that returns the bag-of-words representation for a token sequence."
      ]
    },
    {
      "cell_type": "code",
      "metadata": {
        "id": "r1-HjDKLS3N7"
      },
      "source": [
        "#TODO\n",
        "def bag_of_words(tokens, vocabulary):\n",
        "    onehots = torch.stack([str_to_onehot(token, vocabulary) for token in tokens])\n",
        "    return torch.sum(onehots, 0).type(torch.float32)"
      ],
      "execution_count": 42,
      "outputs": []
    },
    {
      "cell_type": "markdown",
      "metadata": {
        "deletable": false,
        "editable": false,
        "id": "vVJ7Aj9_S3N7"
      },
      "source": [
        "What is the bag of words representation for the example text 'I would not, would not, here or there.'?\n",
        "<!--\n",
        "BEGIN QUESTION\n",
        "name: example_bow\n",
        "-->"
      ]
    },
    {
      "cell_type": "code",
      "metadata": {
        "id": "_bGegRT2S3N7"
      },
      "source": [
        "#TODO - define the variable to be the bag of words representation for the example text\n",
        "# 'I would not, would not, here or there.'\n",
        "# Use the `tt_normpunc_tokenize` tokenizer\n",
        "example_bow = bag_of_words(tt_normpunc_tokenize('I would not, would not, here or there.'), vocabulary)"
      ],
      "execution_count": 43,
      "outputs": []
    },
    {
      "cell_type": "code",
      "metadata": {
        "deletable": false,
        "editable": false,
        "colab": {
          "base_uri": "https://localhost:8080/",
          "height": 46
        },
        "id": "fe5c7648",
        "outputId": "23a13c93-5b50-4a97-c295-76278a5728b2"
      },
      "source": [
        "grader.check(\"example_bow\")"
      ],
      "execution_count": 44,
      "outputs": [
        {
          "output_type": "execute_result",
          "data": {
            "text/html": [
              "\n",
              "    \n",
              "    \n",
              "        <p>All tests passed!</p>\n",
              "    \n",
              "    "
            ],
            "text/plain": [
              "\n",
              "    All tests passed!\n",
              "    "
            ]
          },
          "metadata": {},
          "execution_count": 44
        }
      ]
    },
    {
      "cell_type": "markdown",
      "metadata": {
        "id": "TRkr-8KtS3N8"
      },
      "source": [
        "# Document similarity metrics\n",
        "\n",
        "Consider the following text classification problem: Each sentence in _Green Eggs and Ham_ is spoken by one of two characters, Sam-I-Am and Guy-Am-I. We want to be able to classify new sentences as (most likely) being uttered by one of the two.\n",
        "\n",
        "A simple method for text classification is the _nearest neighbor_ method. We select the class for the new sentence that is the same as the class of the \"nearest\" (most similar) sentence for which we already know the class. (You'll experiment much more with this text classification method in the next lab.)\n",
        "\n",
        "To perform nearest neighbor classification, we need a method for measuring the (metaphorical) distance between two texts based on their representations. We'll explore a few methods here:\n",
        "\n",
        "* Hamming distance\n",
        "* Jaccard distance\n",
        "* Euclidean distance\n",
        "* cosine distance\n",
        "\n",
        "You'll implement code for all of these distance metrics. Try to implement the functions using `torch` tensor functions only, without explicit iteration over the elements in the vector.\n",
        "\n",
        "We'll take a look at the distances among the following sentences:\n",
        "\n",
        "1. Would you like them here or there?\n",
        "2. I would not like them here or there.\n",
        "3. Do you like green eggs and ham?\n",
        "4. I do not like them Sam-I-Am.\n",
        "\n",
        "We'll start with the set of words representations of these sentences:"
      ]
    },
    {
      "cell_type": "code",
      "metadata": {
        "id": "QSnePAx1S3N8"
      },
      "source": [
        "examples = \"\"\"Would you like them here or there?\n",
        "              I would not like them here or there.\n",
        "              Do you like green eggs and ham?\n",
        "              I do not like them Sam-I-Am.\"\"\" \\\n",
        "           .split(\"\\n\")\n",
        "sows = [set_of_words(tt_normpunc_tokenize(sentence), vocabulary) \n",
        "            for sentence in examples]"
      ],
      "execution_count": 45,
      "outputs": []
    },
    {
      "cell_type": "code",
      "metadata": {
        "colab": {
          "base_uri": "https://localhost:8080/"
        },
        "id": "7crSo2yMS3N8",
        "outputId": "ddf3efe8-7a5e-498e-f399-bdafffce7ded"
      },
      "source": [
        "sows"
      ],
      "execution_count": 46,
      "outputs": [
        {
          "output_type": "execute_result",
          "data": {
            "text/plain": [
              "[tensor([0., 0., 1., 0., 0., 0., 0., 0., 0., 0., 1., 0., 1., 0., 1., 1., 1., 1.,\n",
              "         1.]),\n",
              " tensor([0., 1., 0., 0., 0., 0., 0., 0., 0., 0., 1., 1., 1., 1., 1., 1., 1., 1.,\n",
              "         0.]),\n",
              " tensor([0., 0., 1., 0., 1., 0., 1., 1., 1., 1., 0., 0., 1., 0., 0., 0., 0., 0.,\n",
              "         1.]),\n",
              " tensor([0., 1., 0., 0., 0., 0., 1., 0., 0., 0., 0., 1., 1., 1., 0., 1., 0., 0.,\n",
              "         0.])]"
            ]
          },
          "metadata": {},
          "execution_count": 46
        }
      ]
    },
    {
      "cell_type": "markdown",
      "metadata": {
        "deletable": false,
        "editable": false,
        "id": "sh59VfW0S3N8"
      },
      "source": [
        "## Hamming distance\n",
        "\n",
        "The Hamming distance between two vectors is the number of positions at which they differ. Define a function `hamming_distance` that computes the Hamming distance between two vectors.\n",
        "<!--\n",
        "BEGIN QUESTION\n",
        "name: hamming_distance\n",
        "-->"
      ]
    },
    {
      "cell_type": "code",
      "metadata": {
        "id": "HTiZ-iUES3N9"
      },
      "source": [
        "#TODO - implement hamming_distance. The returned value should be an integer.\n",
        "def hamming_distance(v1, v2):\n",
        "    return torch.sum(torch.logical_xor(v1, v2)).type(torch.int32)\n",
        "  \n",
        "# hamming_distance(torch.tensor([0, 0, 1]), torch.tensor([0, 1, 1]))"
      ],
      "execution_count": 47,
      "outputs": []
    },
    {
      "cell_type": "code",
      "metadata": {
        "deletable": false,
        "editable": false,
        "colab": {
          "base_uri": "https://localhost:8080/",
          "height": 46
        },
        "id": "b85aa9c0",
        "outputId": "e3b4a82d-b695-413c-dc18-8c0d9ca3fa2c"
      },
      "source": [
        "grader.check(\"hamming_distance\")"
      ],
      "execution_count": 48,
      "outputs": [
        {
          "output_type": "execute_result",
          "data": {
            "text/html": [
              "\n",
              "    \n",
              "    \n",
              "        <p>All tests passed!</p>\n",
              "    \n",
              "    "
            ],
            "text/plain": [
              "\n",
              "    All tests passed!\n",
              "    "
            ]
          },
          "metadata": {},
          "execution_count": 48
        }
      ]
    },
    {
      "cell_type": "markdown",
      "metadata": {
        "id": "0aEfVpxYS3N9"
      },
      "source": [
        "Now we can generate the Hamming distances among all of the sample sentences in a little table. Do the values make sense?"
      ]
    },
    {
      "cell_type": "code",
      "metadata": {
        "colab": {
          "base_uri": "https://localhost:8080/"
        },
        "id": "NUwCAbvtS3N9",
        "outputId": "3883b862-3cc4-48df-a882-6112a632e0ca"
      },
      "source": [
        "for i in range(4):\n",
        "    for j in range(4):\n",
        "        print(f\"{hamming_distance(sows[i], sows[j]):4} \", end='')\n",
        "    print()"
      ],
      "execution_count": 49,
      "outputs": [
        {
          "output_type": "stream",
          "name": "stdout",
          "text": [
            "   0    5   10   10 \n",
            "   5    0   15    5 \n",
            "  10   15    0   10 \n",
            "  10    5   10    0 \n"
          ]
        }
      ]
    },
    {
      "cell_type": "markdown",
      "metadata": {
        "deletable": false,
        "editable": false,
        "id": "mT4Axw5US3N-"
      },
      "source": [
        "## Jaccard distance\n",
        "\n",
        "The Jaccard distance between two sets (and remember that these bit strings basically represent sets) is one minus the number of elements in their intersection divided by the number of elements in their union.\n",
        "\n",
        "$$ D_{jaccard}(v_1, v_2) = 1 - \\frac{| v_1 \\cap v_2 |}{| v_1 \\cup v_2 |} $$\n",
        "\n",
        "Define a function `jaccard_distance` to compute the Jaccard distance between two set-of-words representations.\n",
        "<!--\n",
        "BEGIN QUESTION\n",
        "name: jaccard_distance\n",
        "-->"
      ]
    },
    {
      "cell_type": "code",
      "metadata": {
        "id": "L5eCNZTPS3N-"
      },
      "source": [
        "#TODO\n",
        "def jaccard_distance(v1, v2):\n",
        "    return 1 - (torch.sum(torch.logical_and(v1, v2))) / (torch.sum(torch.logical_or(v1, v2)))\n",
        "\n",
        "# jaccard_distance(torch.tensor([0., 0., 1.]), torch.tensor([0., 1., 1.]))"
      ],
      "execution_count": 50,
      "outputs": []
    },
    {
      "cell_type": "code",
      "metadata": {
        "deletable": false,
        "editable": false,
        "colab": {
          "base_uri": "https://localhost:8080/",
          "height": 46
        },
        "id": "616dd464",
        "outputId": "68e2ca5e-f335-44eb-8581-35b42be8c883"
      },
      "source": [
        "grader.check(\"jaccard_distance\")"
      ],
      "execution_count": 51,
      "outputs": [
        {
          "output_type": "execute_result",
          "data": {
            "text/html": [
              "\n",
              "    \n",
              "    \n",
              "        <p>All tests passed!</p>\n",
              "    \n",
              "    "
            ],
            "text/plain": [
              "\n",
              "    All tests passed!\n",
              "    "
            ]
          },
          "metadata": {},
          "execution_count": 51
        }
      ]
    },
    {
      "cell_type": "markdown",
      "metadata": {
        "id": "3G0BbhCPS3N_"
      },
      "source": [
        "Again, here's a table of the Jaccard distances among the sample sentences."
      ]
    },
    {
      "cell_type": "code",
      "metadata": {
        "colab": {
          "base_uri": "https://localhost:8080/"
        },
        "id": "rNqhGnpzS3N_",
        "outputId": "a099ca67-6015-4d5b-eeee-1249a3b56f61"
      },
      "source": [
        "for i in range(4):\n",
        "    for j in range(4):\n",
        "        print(f\"{jaccard_distance(sows[i], sows[j]):5.3f} \", end='')\n",
        "    print()"
      ],
      "execution_count": 52,
      "outputs": [
        {
          "output_type": "stream",
          "name": "stdout",
          "text": [
            "0.000 0.455 0.769 0.833 \n",
            "0.455 0.000 0.938 0.500 \n",
            "0.769 0.938 0.000 0.833 \n",
            "0.833 0.500 0.833 0.000 \n"
          ]
        }
      ]
    },
    {
      "cell_type": "markdown",
      "metadata": {
        "deletable": false,
        "editable": false,
        "id": "b1ick3dBS3N_"
      },
      "source": [
        "## Euclidean distance\n",
        "\n",
        "The Euclidean distance between two vectors is the norm of the vector between them, that is,\n",
        "\n",
        "$$ D_{euclidean}(\\mathbf{x}, \\mathbf{y}) = |\\mathbf{x} - \\mathbf{y}| $$\n",
        "\n",
        "where $|\\mathbf{z}|$, the norm of a vector $\\mathbf{z}$, is calculated as\n",
        "\n",
        "$$ |\\mathbf{z}| = \\sqrt{\\sum_{i=1}^N \\mathbf{z}_i^2} $$\n",
        "\n",
        "Fortunately, `torch` provides the function [`torch.linalg.norm`](https://pytorch.org/docs/stable/generated/torch.linalg.norm.html#torch.linalg.norm) to compute the norm, and the vector between two vectors can be computed by componentwise subtraction.\n",
        "\n",
        "Define a function `euclidean_distance` to compute the Euclidean distance between two vectors.\n",
        "<!--\n",
        "BEGIN QUESTION\n",
        "name: euclidean_distance\n",
        "-->"
      ]
    },
    {
      "cell_type": "code",
      "metadata": {
        "id": "nS2Y2m7OS3OA"
      },
      "source": [
        "#TODO\n",
        "def euclidean_distance(v1, v2):\n",
        "    return torch.linalg.norm(v1 - v2)\n",
        "\n",
        "# euclidean_distance(torch.tensor([0., 0., 1.]), torch.tensor([0., 1., 1.]))"
      ],
      "execution_count": 53,
      "outputs": []
    },
    {
      "cell_type": "code",
      "metadata": {
        "deletable": false,
        "editable": false,
        "colab": {
          "base_uri": "https://localhost:8080/",
          "height": 46
        },
        "id": "205e83e4",
        "outputId": "777a6990-eaf0-40fb-a6ee-04db63485bf1"
      },
      "source": [
        "grader.check(\"euclidean_distance\")"
      ],
      "execution_count": 54,
      "outputs": [
        {
          "output_type": "execute_result",
          "data": {
            "text/html": [
              "\n",
              "    \n",
              "    \n",
              "        <p>All tests passed!</p>\n",
              "    \n",
              "    "
            ],
            "text/plain": [
              "\n",
              "    All tests passed!\n",
              "    "
            ]
          },
          "metadata": {},
          "execution_count": 54
        }
      ]
    },
    {
      "cell_type": "markdown",
      "metadata": {
        "id": "tZFovbX8S3OA"
      },
      "source": [
        "Again, here's a table of the Euclidean distances among the sample sentences."
      ]
    },
    {
      "cell_type": "code",
      "metadata": {
        "colab": {
          "base_uri": "https://localhost:8080/"
        },
        "id": "oAUJyLvDS3OA",
        "outputId": "22079253-cb60-4a93-b74b-be68e1436a6e"
      },
      "source": [
        "for i in range(4):\n",
        "    for j in range(4):\n",
        "        print(f\"{euclidean_distance(sows[i], sows[j]):5.3f} \", end='')\n",
        "    print()"
      ],
      "execution_count": 55,
      "outputs": [
        {
          "output_type": "stream",
          "name": "stdout",
          "text": [
            "0.000 2.236 3.162 3.162 \n",
            "2.236 0.000 3.873 2.236 \n",
            "3.162 3.873 0.000 3.162 \n",
            "3.162 2.236 3.162 0.000 \n"
          ]
        }
      ]
    },
    {
      "cell_type": "markdown",
      "metadata": {
        "id": "ltfy5CPyS3OB"
      },
      "source": [
        "## Cosine distance\n",
        "\n",
        "The _cosine similarity_ of two vectors of length $N$ is the cosine of the angle that they form, which is computed as the dot product of the two vectors divided by their norms.\n",
        "\n",
        "$$ cos(\\mathbf{x}, \\mathbf{y}) = \n",
        "      \\frac{\\sum_{i=1}^N \\mathbf{x}_i \\cdot \\mathbf{y}_i}{|\\mathbf{x}| \\cdot |\\mathbf{y}|} $$\n",
        "\n",
        "This isn't a distance metric, but a similarity metric. For vectors of non-negative numbers, it ranges from 0 to 1, where 0 is maximally different and 1 is maximally similar. To turn it into a distance metric, then, we take the inverse cosine (to convert the cosine to an angle between $\\pi$ and 0) and divide by $\\pi$.\n",
        "\n",
        "$$ D_{cosine}(\\mathbf{x}, \\mathbf{y}) = \\frac{cos^{-1}(cos(\\mathbf{x}, \\mathbf{y}))}{\\pi} $$\n",
        "\n",
        "Since we're using `torch`, some of these functions are already provided. See hints [here](https://pytorch.org/docs/stable/generated/torch.dot.html), [here](https://pytorch.org/docs/stable/generated/torch.linalg.norm.html), and [here](https://docs.python.org/3/library/math.html#math.acos).\n",
        "\n",
        "(To avoid some math domain errors, we recommend that you use the function `safe_acos` that we've provided to compute the inverse cosine function instead of using `math.acos` directly.)"
      ]
    },
    {
      "cell_type": "code",
      "metadata": {
        "id": "HlDuR9aAS3OB"
      },
      "source": [
        "def safe_acos(x):\n",
        "    \"\"\"Returns the arc cosine of `x`. Unlike `math.acos`, it \n",
        "       does not raise an exception for values of `x` out of range, \n",
        "       but rather clips `x` at -1..1, thereby avoiding math domain\n",
        "       errors in the case of numerical errors.\"\"\"\n",
        "    return math.acos(math.copysign(min(1.0, abs(x)), x))"
      ],
      "execution_count": 56,
      "outputs": []
    },
    {
      "cell_type": "code",
      "metadata": {
        "id": "04G5aMiOS3OB"
      },
      "source": [
        "#TODO\n",
        "def cosine_distance(v1, v2):\n",
        "    \"\"\"Returns the cosine distance between two vectors\"\"\"\n",
        "    cos_val = torch.dot(v1, v2) / (torch.linalg.norm(v1) * torch.linalg.norm(v2))\n",
        "    return safe_acos(cos_val) / math.pi"
      ],
      "execution_count": 57,
      "outputs": []
    },
    {
      "cell_type": "code",
      "metadata": {
        "deletable": false,
        "editable": false,
        "colab": {
          "base_uri": "https://localhost:8080/",
          "height": 46
        },
        "id": "56fa0f6f",
        "outputId": "89d53361-2afe-44a1-c192-45d423901bcc"
      },
      "source": [
        "grader.check(\"cosine_distance\")"
      ],
      "execution_count": 58,
      "outputs": [
        {
          "output_type": "execute_result",
          "data": {
            "text/html": [
              "\n",
              "    \n",
              "    \n",
              "        <p>All tests passed!</p>\n",
              "    \n",
              "    "
            ],
            "text/plain": [
              "\n",
              "    All tests passed!\n",
              "    "
            ]
          },
          "metadata": {},
          "execution_count": 58
        }
      ]
    },
    {
      "cell_type": "code",
      "metadata": {
        "colab": {
          "base_uri": "https://localhost:8080/"
        },
        "id": "xQelqozxS3OC",
        "outputId": "84001c64-e625-4650-9c5e-8efedc6512dd"
      },
      "source": [
        "for i in range(4):\n",
        "    for j in range(4):\n",
        "        print(f\"{cosine_distance(sows[i], sows[j]):5.3f} \", end='')\n",
        "    print()"
      ],
      "execution_count": 59,
      "outputs": [
        {
          "output_type": "stream",
          "name": "stdout",
          "text": [
            "0.000 0.250 0.378 0.407 \n",
            "0.250 0.000 0.462 0.262 \n",
            "0.378 0.462 0.000 0.407 \n",
            "0.407 0.262 0.407 0.000 \n"
          ]
        }
      ]
    },
    {
      "cell_type": "markdown",
      "metadata": {
        "id": "ZpqqhpE3S3OC"
      },
      "source": [
        "In the next lab, you'll use some of these distance metrics to automatically classify text using nearest neighbor classification."
      ]
    },
    {
      "cell_type": "markdown",
      "metadata": {
        "deletable": false,
        "editable": false,
        "id": "Agvx23jrS3OC"
      },
      "source": [
        "<!-- BEGIN QUESTION -->\n",
        "\n",
        "# Lab debrief – for consensus submission only\n",
        "\n",
        "**Question:** We're interested in any thoughts your group has about this lab so that we can improve this lab for later years, and to inform later labs for this year. Please list any issues that arose or comments you have to improve the lab. Useful things to comment on include the following: \n",
        "\n",
        "* Was the lab too long or too short?\n",
        "* Were the readings appropriate for the lab? \n",
        "* Was it clear (at least after you completed the lab) what the points of the exercises were? \n",
        "* Are there additions or changes you think would make the lab better?\n",
        "\n",
        "<!--\n",
        "BEGIN QUESTION\n",
        "name: open_response_debrief\n",
        "manual: true\n",
        "-->"
      ]
    },
    {
      "cell_type": "markdown",
      "metadata": {
        "id": "e4cbe8b0"
      },
      "source": [
        "This lab was a good length and the difficulty level was also good as well. Overall, quite an enjoyable lab. The readings were appropriate, though arguably unnecessary, and it was clear what the points of the exercises were. I wouldn't say this lab needs to be changed too much, just perhaps listing more regex and torch function hints would help. Thanks!"
      ]
    },
    {
      "cell_type": "markdown",
      "metadata": {
        "id": "yKPV82R3S3OD"
      },
      "source": [
        "<!-- END QUESTION -->\n",
        "\n",
        "\n",
        "\n",
        "# Submission Instructions\n",
        "\n",
        "This lab should be submitted to Gradescope at <http://go.cs187.info/lab1-1-submit>, which will be made available some time before the due date.\n",
        "\n",
        "Make sure that you have passed all public tests by running `grader.check_all()` below before submitting. Note that there are hidden tests on Gradescope, the results of which will be revealed after the submission deadline."
      ]
    },
    {
      "cell_type": "markdown",
      "metadata": {
        "id": "ckH_-rovS3OD"
      },
      "source": [
        "# End of lab 1-1"
      ]
    },
    {
      "cell_type": "markdown",
      "metadata": {
        "deletable": false,
        "editable": false,
        "id": "23c2b4e9"
      },
      "source": [
        "---\n",
        "\n",
        "To double-check your work, the cell below will rerun all of the autograder tests."
      ]
    },
    {
      "cell_type": "code",
      "metadata": {
        "deletable": false,
        "editable": false,
        "colab": {
          "base_uri": "https://localhost:8080/",
          "height": 798
        },
        "id": "8572ccc4",
        "outputId": "93e08278-e322-430b-c77f-e1c20504cc69"
      },
      "source": [
        "grader.check_all()"
      ],
      "execution_count": 60,
      "outputs": [
        {
          "output_type": "execute_result",
          "data": {
            "text/html": [
              "<p><strong>anywhere_1hot:</strong></p>\n",
              "\n",
              "    \n",
              "    \n",
              "        <p>All tests passed!</p>\n",
              "    \n",
              "    \n",
              "\n",
              "<p><strong>anywhere_1hot_reverse:</strong></p>\n",
              "\n",
              "    \n",
              "    \n",
              "        <p>All tests passed!</p>\n",
              "    \n",
              "    \n",
              "\n",
              "<p><strong>cosine_distance:</strong></p>\n",
              "\n",
              "    \n",
              "    \n",
              "        <p>All tests passed!</p>\n",
              "    \n",
              "    \n",
              "\n",
              "<p><strong>euclidean_distance:</strong></p>\n",
              "\n",
              "    \n",
              "    \n",
              "        <p>All tests passed!</p>\n",
              "    \n",
              "    \n",
              "\n",
              "<p><strong>example_bow:</strong></p>\n",
              "\n",
              "    \n",
              "    \n",
              "        <p>All tests passed!</p>\n",
              "    \n",
              "    \n",
              "\n",
              "<p><strong>example_sow:</strong></p>\n",
              "\n",
              "    \n",
              "    \n",
              "        <p>All tests passed!</p>\n",
              "    \n",
              "    \n",
              "\n",
              "<p><strong>hamming_distance:</strong></p>\n",
              "\n",
              "    \n",
              "    \n",
              "        <p>All tests passed!</p>\n",
              "    \n",
              "    \n",
              "\n",
              "<p><strong>jaccard_distance:</strong></p>\n",
              "\n",
              "    \n",
              "    \n",
              "        <p>All tests passed!</p>\n",
              "    \n",
              "    \n",
              "\n",
              "<p><strong>norm_tokens_punc:</strong></p>\n",
              "\n",
              "    \n",
              "    \n",
              "        <p>All tests passed!</p>\n",
              "    \n",
              "    \n",
              "\n",
              "<p><strong>normalize_token:</strong></p>\n",
              "\n",
              "    \n",
              "    \n",
              "        <p>All tests passed!</p>\n",
              "    \n",
              "    \n",
              "\n",
              "<p><strong>token_count:</strong></p>\n",
              "\n",
              "    \n",
              "    \n",
              "        <p>All tests passed!</p>\n",
              "    \n",
              "    \n",
              "\n",
              "<p><strong>token_count_punc:</strong></p>\n",
              "\n",
              "    \n",
              "    \n",
              "        <p>All tests passed!</p>\n",
              "    \n",
              "    \n",
              "\n",
              "<p><strong>token_count_whitespace:</strong></p>\n",
              "\n",
              "    \n",
              "    \n",
              "        <p>All tests passed!</p>\n",
              "    \n",
              "    \n",
              "\n",
              "<p><strong>tokens_whitespace:</strong></p>\n",
              "\n",
              "    \n",
              "    \n",
              "        <p>All tests passed!</p>\n",
              "    \n",
              "    \n",
              "\n",
              "<p><strong>tt_whitespace_tokenize_and_tt_normpunc_tokenize:</strong></p>\n",
              "\n",
              "    \n",
              "    \n",
              "        <p>All tests passed!</p>\n",
              "    \n",
              "    \n",
              "\n",
              "<p><strong>type_count:</strong></p>\n",
              "\n",
              "    \n",
              "    \n",
              "        <p>All tests passed!</p>\n",
              "    \n",
              "    \n",
              "\n",
              "<p><strong>type_count_norm_punc:</strong></p>\n",
              "\n",
              "    \n",
              "    \n",
              "        <p>All tests passed!</p>\n",
              "    \n",
              "    \n",
              "\n"
            ],
            "text/plain": [
              "anywhere_1hot:\n",
              "\n",
              "    All tests passed!\n",
              "    \n",
              "\n",
              "anywhere_1hot_reverse:\n",
              "\n",
              "    All tests passed!\n",
              "    \n",
              "\n",
              "cosine_distance:\n",
              "\n",
              "    All tests passed!\n",
              "    \n",
              "\n",
              "euclidean_distance:\n",
              "\n",
              "    All tests passed!\n",
              "    \n",
              "\n",
              "example_bow:\n",
              "\n",
              "    All tests passed!\n",
              "    \n",
              "\n",
              "example_sow:\n",
              "\n",
              "    All tests passed!\n",
              "    \n",
              "\n",
              "hamming_distance:\n",
              "\n",
              "    All tests passed!\n",
              "    \n",
              "\n",
              "jaccard_distance:\n",
              "\n",
              "    All tests passed!\n",
              "    \n",
              "\n",
              "norm_tokens_punc:\n",
              "\n",
              "    All tests passed!\n",
              "    \n",
              "\n",
              "normalize_token:\n",
              "\n",
              "    All tests passed!\n",
              "    \n",
              "\n",
              "token_count:\n",
              "\n",
              "    All tests passed!\n",
              "    \n",
              "\n",
              "token_count_punc:\n",
              "\n",
              "    All tests passed!\n",
              "    \n",
              "\n",
              "token_count_whitespace:\n",
              "\n",
              "    All tests passed!\n",
              "    \n",
              "\n",
              "tokens_whitespace:\n",
              "\n",
              "    All tests passed!\n",
              "    \n",
              "\n",
              "tt_whitespace_tokenize_and_tt_normpunc_tokenize:\n",
              "\n",
              "    All tests passed!\n",
              "    \n",
              "\n",
              "type_count:\n",
              "\n",
              "    All tests passed!\n",
              "    \n",
              "\n",
              "type_count_norm_punc:\n",
              "\n",
              "    All tests passed!\n",
              "    \n"
            ]
          },
          "metadata": {},
          "execution_count": 60
        }
      ]
    },
    {
      "cell_type": "code",
      "metadata": {
        "id": "3ei8DiUi5rSo"
      },
      "source": [
        ""
      ],
      "execution_count": null,
      "outputs": []
    }
  ]
}