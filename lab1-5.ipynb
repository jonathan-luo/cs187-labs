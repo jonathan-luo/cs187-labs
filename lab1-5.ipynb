{
  "nbformat": 4,
  "nbformat_minor": 0,
  "metadata": {
    "kernelspec": {
      "display_name": "Python 3",
      "language": "python",
      "name": "python3"
    },
    "language_info": {
      "codemirror_mode": {
        "name": "ipython",
        "version": 3
      },
      "file_extension": ".py",
      "mimetype": "text/x-python",
      "name": "python",
      "nbconvert_exporter": "python",
      "pygments_lexer": "ipython3",
      "version": "3.8.10"
    },
    "title": "CS187 Lab 1-5: Scaling up: Torchtext and PyTorch",
    "colab": {
      "name": "lab1-5.ipynb",
      "provenance": []
    }
  },
  "cells": [
    {
      "cell_type": "code",
      "metadata": {
        "deletable": false,
        "editable": false,
        "jupyter": {
          "outputs_hidden": true,
          "source_hidden": true
        },
        "colab": {
          "base_uri": "https://localhost:8080/"
        },
        "id": "fJRlPZK_G8t2",
        "outputId": "347f7798-5577-4d32-aa31-16484e5b2815"
      },
      "source": [
        "# Please do not change this cell because some hidden tests might depend on it.\n",
        "import os\n",
        "\n",
        "# Otter grader does not handle ! commands well, so we define and use our\n",
        "# own function to execute shell commands.\n",
        "def shell(commands, warn=True):\n",
        "    \"\"\"Executes the string `commands` as a sequence of shell commands.\n",
        "     \n",
        "       Prints the result to stdout and returns the exit status. \n",
        "       Provides a printed warning on non-zero exit status unless `warn` \n",
        "       flag is unset.\n",
        "    \"\"\"\n",
        "    file = os.popen(commands)\n",
        "    print (file.read().rstrip('\\n'))\n",
        "    exit_status = file.close()\n",
        "    if warn and exit_status != None:\n",
        "        print(f\"Completed with errors. Exit status: {exit_status}\\n\")\n",
        "    return exit_status\n",
        "\n",
        "shell(\"\"\"\n",
        "ls requirements.txt >/dev/null 2>&1\n",
        "if [ ! $? = 0 ]; then\n",
        " rm -rf .tmp\n",
        " git clone https://github.com/cs187-2021/lab1-5.git .tmp\n",
        " mv .tmp/tests ./\n",
        " mv .tmp/requirements.txt ./\n",
        " rm -rf .tmp\n",
        "fi\n",
        "pip install -q -r requirements.txt\n",
        "\"\"\")"
      ],
      "execution_count": 1,
      "outputs": [
        {
          "output_type": "stream",
          "name": "stdout",
          "text": [
            "\n"
          ]
        }
      ]
    },
    {
      "cell_type": "code",
      "metadata": {
        "deletable": false,
        "editable": false,
        "id": "ba9bb8e6"
      },
      "source": [
        "# Initialize Otter\n",
        "import otter\n",
        "grader = otter.Notebook()"
      ],
      "execution_count": 2,
      "outputs": []
    },
    {
      "cell_type": "raw",
      "metadata": {
        "id": "vEcmoN2gG8t4"
      },
      "source": [
        "%%latex\n",
        "\\newcommand{\\vect}[1]{\\mathbf{#1}}\n",
        "\\newcommand{\\cnt}[1]{\\sharp(#1)}\n",
        "\\newcommand{\\argmax}[1]{\\underset{#1}{\\operatorname{argmax}}}\n",
        "\\newcommand{\\softmax}{\\operatorname{softmax}}\n",
        "\\newcommand{\\Prob}{\\Pr}\n",
        "\\newcommand{\\given}{\\,|\\,}"
      ]
    },
    {
      "cell_type": "markdown",
      "metadata": {
        "id": "yTjfS42FG8t4"
      },
      "source": [
        "$$\n",
        "\\renewcommand{\\vect}[1]{\\mathbf{#1}}\n",
        "\\renewcommand{\\cnt}[1]{\\sharp(#1)}\n",
        "\\renewcommand{\\argmax}[1]{\\underset{#1}{\\operatorname{argmax}}}\n",
        "\\renewcommand{\\softmax}{\\operatorname{softmax}}\n",
        "\\renewcommand{\\Prob}{\\Pr}\n",
        "\\renewcommand{\\given}{\\,|\\,}\n",
        "$$"
      ]
    },
    {
      "cell_type": "markdown",
      "metadata": {
        "tags": [
          "remove_for_latex"
        ],
        "id": "sKeypCrkG8t5"
      },
      "source": [
        "# CS187\n",
        "## Lab 1-5 – Scaling up: Torchtext and PyTorch"
      ]
    },
    {
      "cell_type": "markdown",
      "metadata": {
        "id": "UdpiwwGdG8uC"
      },
      "source": [
        "As you've seen, a typical pipeline for NLP applications based on supervised machine learning involves several standard components:\n",
        "\n",
        "1. Loading of annotated textual corpora.\n",
        "2. Tokenization and normalization of the text.\n",
        "3. Distributing instances into subcorpora, for instance, training, development, and test corpora.\n",
        "4. Training of models on training data, using development data for model selection.\n",
        "5. Evaluation of the models on test data.\n",
        "\n",
        "Rather than recapitulate all of these component tasks for each application, standard packages have been developed to facilitate them. In order to facilitate your own experimentation, it's time to make use of some of these packages to scale up your ability to build and test models. That is the subject of this lab.\n",
        "\n",
        "Torchtext datasets provide a uniform system for establishing dataset objects that contain multiple examples, each of which may have multiple named fields. These fields themselves have specifications that tell whether the data in that field is sequential (like text sequences) or simple (like class labels); whether and how to preprocess, tokenize, or postprocess the data; and many other properties. Dataset objects can be easily split into parts (training and test, for instance), or turned into a sequence of small batches for processing by models.\n",
        "\n",
        "This lab provides an introduction to using `torchtext` and PyTorch in preparation for its appearance in later labs and homework problem sets.\n",
        "\n",
        "After this lab, you should be able to\n",
        "\n",
        "* Read `torchtext` code and understand what it is intending to accomplish.\n",
        "* Run experiments training and testing simple feed-forward neural networks using PyTorch."
      ]
    },
    {
      "cell_type": "markdown",
      "metadata": {
        "id": "3y_WnGbBG8uD"
      },
      "source": [
        "New bits of Python used for the first time in the *distribution version* of this lab include:\n",
        "\n",
        "* TorchText\n",
        "    * [`torchtext.data.TabularDataset`](https://pytorch.org/text/0.8.1/data.html#tabulardataset)\n",
        "    * `torchtext.data.TabularDataset.split`\n",
        "\n",
        "    * [`torchtext.data.Field`](https://pytorch.org/text/0.8.1/data.html#field)\n",
        "    * `torchtext.data.Field.build_vocab`\n",
        "    * `torchtext.data.Field.lower`\n",
        "    * `torchtext.data.Field.sequential`\n",
        "    * `torchtext.data.Field.tokenize`\n",
        "    * `torchtext.data.Field.vocab`\n",
        "    * `torchtext.data.Field.vocab.itos`\n",
        "    * `torchtext.data.Field.vocab.stoi`\n",
        "\n",
        "    > You'll notice that for `torchtext` we link to version 0.8.1 of the PyTorch documentation, because the `torchtext.data.Field` class is now deprecated. We therefore import it as `torchtext.legacy` at the top of this notebook. Sadly, `torchtext` has no convenient replacement for `Field` at the moment, so we resort to the legacy system.\n",
        "\n",
        "* Torch\n",
        "\n",
        "    * [`torch.nn.Module.eval`](https://pytorch.org/docs/stable/generated/torch.nn.Module.html#torch.nn.Module.eval)\n",
        "    * `torch.nn.Linear`\n",
        "    * `torch.nn.Sigmoid`\n",
        "    * `torch.distributions.normal.Normal`\n",
        "    * `torch.distributions.uniform.Uniform`\n",
        "\n",
        "\n",
        "* `tqdm.tqdm` (for generating progress bars)\n",
        "\n",
        "New bits of Python used for the first time in the *solution set* for this lab, and which you may therefore find useful:\n",
        "\n",
        "* [`torch.Tensor.backward`](https://pytorch.org/docs/stable/autograd.html#torch.Tensor.backward)\n",
        "* [`torch.optim.Optimizer.step`](https://pytorch.org/docs/stable/generated/torch.optim.Optimizer.step.html#torch.optim.Optimizer.step)"
      ]
    },
    {
      "cell_type": "markdown",
      "metadata": {
        "id": "fm5C90JhG8uE"
      },
      "source": [
        "## Preparation – Loading packages and data {-}"
      ]
    },
    {
      "cell_type": "code",
      "metadata": {
        "deletable": false,
        "editable": false,
        "id": "LEWfULF2G8uF"
      },
      "source": [
        "import copy\n",
        "import math\n",
        "import random\n",
        "import matplotlib.pyplot as plt\n",
        "import os\n",
        "import re\n",
        "import sys\n",
        "import torch\n",
        "import torch.distributions as ds\n",
        "import torch.nn as nn\n",
        "import torch.nn.functional as F\n",
        "import torchtext.legacy as tt\n",
        "import warnings\n",
        "import wget\n",
        "\n",
        "from torch import optim\n",
        "from tqdm import tqdm"
      ],
      "execution_count": 3,
      "outputs": []
    },
    {
      "cell_type": "code",
      "metadata": {
        "colab": {
          "base_uri": "https://localhost:8080/"
        },
        "id": "P9rKnB5lG8uF",
        "outputId": "ca2ef5ca-3cfc-4487-a228-55ab5f445177"
      },
      "source": [
        "# Set up plotting\n",
        "plt.style.use('tableau-colorblind10')\n",
        "\n",
        "# Fix random seed for replicability\n",
        "random_seed = 1234\n",
        "random.seed(random_seed)\n",
        "torch.manual_seed(random_seed)\n",
        "\n",
        "## GPU check\n",
        "device = torch.device(\"cuda\" if torch.cuda.is_available() else \"cpu\")\n",
        "print(device)"
      ],
      "execution_count": 4,
      "outputs": [
        {
          "output_type": "stream",
          "name": "stdout",
          "text": [
            "cpu\n"
          ]
        }
      ]
    },
    {
      "cell_type": "markdown",
      "metadata": {
        "id": "WE8k7itzG8uF"
      },
      "source": [
        "# Manipulating text corpora with `torchtext`"
      ]
    },
    {
      "cell_type": "markdown",
      "metadata": {
        "id": "ZIyvIwCIG8uG"
      },
      "source": [
        "You'll use `torchtext` to load the _Green Eggs and Ham_ (GEaH) dataset.\n",
        "\n",
        "We start with reading in the data and performing some ad hoc cleaning (removing comment lines and blank lines)."
      ]
    },
    {
      "cell_type": "code",
      "metadata": {
        "id": "sE9qDVw_G8uG"
      },
      "source": [
        "def strip_file(text):\n",
        "    \"\"\"strip #comments and empty lines from `text` string\"\"\"\n",
        "    result = \"\"\n",
        "    for line in text.split(\"\\n\"):\n",
        "        line = line.strip()              # trim whitespace\n",
        "        line = re.sub('#.*$', '', line)  # trim comments\n",
        "        if line != '':                   # drop blank lines\n",
        "            result += line + '\\n'\n",
        "    return result\n",
        "\n",
        "# Read the GEaH data and write out a corresponding TSV file\n",
        "os.makedirs('data', exist_ok=True)\n",
        "wget.download(\"https://github.com/nlp-course/data/raw/master/Seuss/seuss - 1960 - green eggs and ham.txt\", out=\"data/\")\n",
        "with open('data/seuss - 1960 - green eggs and ham.txt', 'r') as fin:\n",
        "    with open('data/geah.tsv', 'w') as fout:\n",
        "        fout.write(strip_file(fin.read()))"
      ],
      "execution_count": 5,
      "outputs": []
    },
    {
      "cell_type": "markdown",
      "metadata": {
        "id": "266y_n3qG8uG"
      },
      "source": [
        "## Constructing training and test datasets\n",
        "\n",
        "Take a look at the file `geah.tsv`, which we've just processed and placed into the sibling `data` folder. "
      ]
    },
    {
      "cell_type": "code",
      "metadata": {
        "colab": {
          "base_uri": "https://localhost:8080/"
        },
        "id": "uqVipM3lG8uH",
        "outputId": "657f85e5-7116-4077-8e63-13f35bc03fe1"
      },
      "source": [
        "shell('head \"data/geah.tsv\"')"
      ],
      "execution_count": 6,
      "outputs": [
        {
          "output_type": "stream",
          "name": "stdout",
          "text": [
            "SAM\tI am Sam.\n",
            "SAM\tI am Sam.\n",
            "SAM\tSam I am.\n",
            "GUY\tThat Sam-I-am!\n",
            "GUY\tThat Sam-I-am!\n",
            "GUY\tI do not like that Sam-I-am!\n",
            "SAM\tDo you like green eggs and ham?\n",
            "GUY\tI do not like them, Sam-I-am.\n",
            "GUY\tI do not like green eggs and ham.\n",
            "SAM\tWould you like them here or there?\n"
          ]
        }
      ]
    },
    {
      "cell_type": "markdown",
      "metadata": {
        "deletable": false,
        "editable": false,
        "id": "Sik4lxwHG8uH"
      },
      "source": [
        "Notice the structure of this corpus. Each line contains a sentence from the book, preceded by a label that provides the speaker of that sentence. The speaker and sentence are separated by a tab character. The data is thus set up properly for a [`torchtext.data.TabularDataset`](https://pytorch.org/text/0.8.1/data.html#tabulardataset) using its `\"TSV\"` (tab-separated values) format.\n",
        "\n",
        "In order to establish a `torchtext.data.TabularDataset` object for dealing with the GEaH dataset, you'll first need to establish the two fields (via [`torchtext.data.Field`](https://pytorch.org/text/0.8.1/data.html#field)), one for the label (the speaker) and one for the text, which you should call `LABEL` and `TEXT`, respectively. These fields are used for mapping from strings to ids or vice versa.\n",
        "\n",
        "When setting up a field with `torchtext.data.Field`, you'll want to consider whether you want to further specify the values for the various keyword arguments listed [here](https://pytorch.org/text/0.8.1/data.html#field), or to leave the default values.\n",
        "\n",
        "With respect to the tokenization of the text field, you should use the `torchtext` \"basic_english\" tokenizer introduced in lab 1-1 for the text field and lowercase all tokens.\n",
        "<!--\n",
        "BEGIN QUESTION\n",
        "name: fields_setup\n",
        "-->"
      ]
    },
    {
      "cell_type": "code",
      "metadata": {
        "id": "R-tezA-pG8uH"
      },
      "source": [
        "#TODO: Define one `tt.data.Field` for processing the label\n",
        "#      and another for processing the text using the \"basic_english\"\n",
        "#      tokenizer and **lowercase** all tokens\n",
        "LABEL = (\n",
        "    tt.data.Field(sequential=False, tokenize=(lambda s: s))\n",
        ")\n",
        "    \n",
        "TEXT = (\n",
        "    tt.data.Field(lower=True, tokenizer_language=\"basic_english\")\n",
        ")\n",
        "\n",
        "fields = [(\"label\", LABEL), (\"text\", TEXT)]"
      ],
      "execution_count": 7,
      "outputs": []
    },
    {
      "cell_type": "code",
      "metadata": {
        "deletable": false,
        "editable": false,
        "colab": {
          "base_uri": "https://localhost:8080/",
          "height": 46
        },
        "id": "d81f02d3",
        "outputId": "90b4b165-2216-437f-b58f-b2cb05c2e06b"
      },
      "source": [
        "grader.check(\"fields_setup\")"
      ],
      "execution_count": 8,
      "outputs": [
        {
          "output_type": "execute_result",
          "data": {
            "text/html": [
              "\n",
              "    \n",
              "    \n",
              "        <p>All tests passed!</p>\n",
              "    \n",
              "    "
            ],
            "text/plain": [
              "\n",
              "    All tests passed!\n",
              "    "
            ]
          },
          "metadata": {},
          "execution_count": 8
        }
      ]
    },
    {
      "cell_type": "markdown",
      "metadata": {
        "deletable": false,
        "editable": false,
        "id": "aaYs229yG8uI"
      },
      "source": [
        "Now, you can set up the dataset using [`torchtext.data.TabularDataset`](https://pytorch.org/text/0.8.1/data.html#tabulardataset). It should look for the TSV data in the file `data/geah.tsv`, and should use the `fields` defined above.\n",
        "<!--\n",
        "BEGIN QUESTION\n",
        "name: dataset_setup\n",
        "-->"
      ]
    },
    {
      "cell_type": "code",
      "metadata": {
        "id": "ruTvG5ouG8uI"
      },
      "source": [
        "#TODO: Set up the dataset using `tt.data.TabularDataset`\n",
        "# Note that you need to use `fields` for fields.\n",
        "geah = tt.data.TabularDataset(\"data/geah.tsv\", \"TSV\", fields)"
      ],
      "execution_count": 9,
      "outputs": []
    },
    {
      "cell_type": "code",
      "metadata": {
        "deletable": false,
        "editable": false,
        "colab": {
          "base_uri": "https://localhost:8080/",
          "height": 46
        },
        "id": "0517c6df",
        "outputId": "173cd123-b1cf-4a92-ddcd-156e61926f30"
      },
      "source": [
        "grader.check(\"dataset_setup\")"
      ],
      "execution_count": 10,
      "outputs": [
        {
          "output_type": "execute_result",
          "data": {
            "text/html": [
              "\n",
              "    \n",
              "    \n",
              "        <p>All tests passed!</p>\n",
              "    \n",
              "    "
            ],
            "text/plain": [
              "\n",
              "    All tests passed!\n",
              "    "
            ]
          },
          "metadata": {},
          "execution_count": 10
        }
      ]
    },
    {
      "cell_type": "markdown",
      "metadata": {
        "deletable": false,
        "editable": false,
        "id": "kXMubur9G8uJ"
      },
      "source": [
        "All [`torchtext.data.Dataset`](https://pytorch.org/text/0.8.1/data.html#dataset) objects have a [`split`](https://pytorch.org/text/0.8.1/data.html#torchtext.data.Dataset.split) method that splits the dataset into two or three pieces, for instance, to have a separate training and test set. Use the `split` method to generate a 70%/30% split of the GEaH corpus into two subsets called `train` and `test`.\n",
        "<!--\n",
        "BEGIN QUESTION\n",
        "name: dataset_split\n",
        "-->"
      ]
    },
    {
      "cell_type": "code",
      "metadata": {
        "id": "mO9zrlaIG8uJ"
      },
      "source": [
        "#TODO: Split geah into 70% training data and 30% test data\n",
        "train, test = \\\n",
        "    geah.split()     # Default split is 0.7"
      ],
      "execution_count": 11,
      "outputs": []
    },
    {
      "cell_type": "code",
      "metadata": {
        "deletable": false,
        "editable": false,
        "colab": {
          "base_uri": "https://localhost:8080/",
          "height": 46
        },
        "id": "9a399c2b",
        "outputId": "d4372891-854d-48b6-907b-6f58ac7d0d3f"
      },
      "source": [
        "grader.check(\"dataset_split\")"
      ],
      "execution_count": 12,
      "outputs": [
        {
          "output_type": "execute_result",
          "data": {
            "text/html": [
              "\n",
              "    \n",
              "    \n",
              "        <p>All tests passed!</p>\n",
              "    \n",
              "    "
            ],
            "text/plain": [
              "\n",
              "    All tests passed!\n",
              "    "
            ]
          },
          "metadata": {},
          "execution_count": 12
        }
      ]
    },
    {
      "cell_type": "markdown",
      "metadata": {
        "id": "cPLagwS2G8uK"
      },
      "source": [
        "Fields can have associated with them a _vocabulary_ consisiting of all of the possible values that are used in that field in a particular dataset. The vocabulary establishes the kind of indexing scheme between types and indices that we explored in lab 1-1. We will use the training corpus to establish vocabularies for the two fields `LABEL` and `TEXT` using the [`build_vocab`](https://pytorch.org/text/data.html#torchtext.data.Field.build_vocab) method."
      ]
    },
    {
      "cell_type": "code",
      "metadata": {
        "id": "B3J5htXKG8uK"
      },
      "source": [
        "LABEL.build_vocab(train.label)\n",
        "TEXT.build_vocab(train.text)"
      ],
      "execution_count": 13,
      "outputs": []
    },
    {
      "cell_type": "markdown",
      "metadata": {
        "deletable": false,
        "editable": false,
        "id": "QCKR36c3G8uL"
      },
      "source": [
        "The `TEXT` and `LABEL` fields, objects of class [`torchtext.data.Field`](https://pytorch.org/text/0.8.1/data.html#field), now have vocabularies associated with them, accessible in their respective `vocab` fields. How many elements are there in these vocabularies? You can use the `len` function to find out.\n",
        "<!--\n",
        "BEGIN QUESTION\n",
        "name: vocab_sizes\n",
        "-->"
      ]
    },
    {
      "cell_type": "code",
      "metadata": {
        "id": "qXWgDi8JG8uL"
      },
      "source": [
        "#TODO: Calculate the sizes of LABEL.vocab and TEXT.vocab\n",
        "label_vocab_size = len(LABEL.vocab)\n",
        "text_vocab_size = len(TEXT.vocab)"
      ],
      "execution_count": 14,
      "outputs": []
    },
    {
      "cell_type": "code",
      "metadata": {
        "deletable": false,
        "editable": false,
        "colab": {
          "base_uri": "https://localhost:8080/",
          "height": 46
        },
        "id": "bf4e7f51",
        "outputId": "922f8fe2-f783-4c22-a527-7e8deff909ec"
      },
      "source": [
        "grader.check(\"vocab_sizes\")"
      ],
      "execution_count": 15,
      "outputs": [
        {
          "output_type": "execute_result",
          "data": {
            "text/html": [
              "\n",
              "    \n",
              "    \n",
              "        <p>All tests passed!</p>\n",
              "    \n",
              "    "
            ],
            "text/plain": [
              "\n",
              "    All tests passed!\n",
              "    "
            ]
          },
          "metadata": {},
          "execution_count": 15
        }
      ]
    },
    {
      "cell_type": "code",
      "metadata": {
        "colab": {
          "base_uri": "https://localhost:8080/"
        },
        "id": "gmC45tCoG8uM",
        "outputId": "facd5ea3-5e9e-4d40-f7a6-3298d4b28b75"
      },
      "source": [
        "print(f\"label vocabulary size is {label_vocab_size}\\n\"\n",
        "      f\"text vocabulary size is {text_vocab_size}\")"
      ],
      "execution_count": 16,
      "outputs": [
        {
          "output_type": "stream",
          "name": "stdout",
          "text": [
            "label vocabulary size is 3\n",
            "text vocabulary size is 84\n"
          ]
        }
      ]
    },
    {
      "cell_type": "markdown",
      "metadata": {
        "id": "vpQNPUyAG8uM"
      },
      "source": [
        "Why are there three elements in the `LABEL` vocabulary, given that there are only two speakers, Guy and Sam? We can find out by examining the `LABEL` vocabulary more closely. `Field` vocabulary objects have an especially useful `stoi` data field, whose value is a dictionary that maps the elements of the vocabulary to integer index representations of the elements. Let's take a look."
      ]
    },
    {
      "cell_type": "code",
      "metadata": {
        "colab": {
          "base_uri": "https://localhost:8080/"
        },
        "id": "m5_2fXaEG8uM",
        "outputId": "fe627c19-e210-4708-8839-e942574b3ec5"
      },
      "source": [
        "LABEL.vocab.stoi"
      ],
      "execution_count": 17,
      "outputs": [
        {
          "output_type": "execute_result",
          "data": {
            "text/plain": [
              "defaultdict(<bound method Vocab._default_unk_index of <torchtext.legacy.vocab.Vocab object at 0x7f2d4a923fd0>>,\n",
              "            {'<unk>': 0, 'GUY': 1, 'SAM': 2})"
            ]
          },
          "metadata": {},
          "execution_count": 17
        }
      ]
    },
    {
      "cell_type": "markdown",
      "metadata": {
        "deletable": false,
        "editable": false,
        "id": "OOdcOgrhG8uM"
      },
      "source": [
        "<!-- BEGIN QUESTION -->\n",
        "\n",
        "**Question:** What is the unexpected third element in the label vocabulary? Why do you think it's there?\n",
        "<!--\n",
        "BEGIN QUESTION\n",
        "name: open_response_third_element\n",
        "manual: true\n",
        "-->"
      ]
    },
    {
      "cell_type": "markdown",
      "metadata": {
        "id": "f3b87ce1"
      },
      "source": [
        "The unexpected third element is \\<unk\\>; it is for all labels that are not in the vocabulary; I'm guessing it serves as a bucket for all labels that are not in the vocabulary."
      ]
    },
    {
      "cell_type": "markdown",
      "metadata": {
        "id": "DzH3g4QxG8uN"
      },
      "source": [
        "<!-- END QUESTION -->\n",
        "\n",
        "\n",
        "\n",
        "> As described in more detail in [the `torchtext` documentation](https://torchtext.readthedocs.io/en/latest/vocab.html#torchtext.vocab.Vocab), there's also an `itos` data field for conversion of vocabulary items from the index representation to the original values and a `freqs` data field that keeps a frequency distribution for the items in the vocabulary as a `collections.Counter` object."
      ]
    },
    {
      "cell_type": "markdown",
      "metadata": {
        "id": "cXK4l4b-G8uN"
      },
      "source": [
        "## Operations over datasets\n",
        "\n",
        "We now have training and test datasets. You can experiment with the kinds of operations you'll need to do to implement models like Naive Bayes or logistic regression.\n",
        "\n",
        "For instance, you can inspect an example from the dataset."
      ]
    },
    {
      "cell_type": "code",
      "metadata": {
        "colab": {
          "base_uri": "https://localhost:8080/"
        },
        "id": "rjrg3UtgG8uN",
        "outputId": "6a21af8e-ee1a-44ae-f693-52d89f6de5b2"
      },
      "source": [
        "example = train[1] # the second instance\n",
        "print (f\"text: {example.text}\\n\"\n",
        "       f\"label: {example.label}\")"
      ],
      "execution_count": 18,
      "outputs": [
        {
          "output_type": "stream",
          "name": "stdout",
          "text": [
            "text: ['i', 'would', 'not', 'eat', 'them', 'anywhere.']\n",
            "label: GUY\n"
          ]
        }
      ]
    },
    {
      "cell_type": "markdown",
      "metadata": {
        "deletable": false,
        "editable": false,
        "id": "WOdc8nxIG8uO"
      },
      "source": [
        "You might also need to iterate over the different class labels (the vocabulary of the `LABEL` field) or the word types (the vocabulary of the `TEXT` field). Define a function that iterates over the vocabulary of a field and prints each one out like this:\n",
        "\n",
        "```\n",
        ">>> print_vocab(LABEL)\n",
        "<unk>\n",
        "GUY\n",
        "SAM\n",
        "```\n",
        "\n",
        "<!--\n",
        "BEGIN QUESTION\n",
        "name: print_vocab\n",
        "-->"
      ]
    },
    {
      "cell_type": "code",
      "metadata": {
        "id": "Jj4MyT5LG8uO"
      },
      "source": [
        "#TODO\n",
        "def print_vocab(field):\n",
        "    for v in field.vocab.stoi:\n",
        "      print(v)"
      ],
      "execution_count": 19,
      "outputs": []
    },
    {
      "cell_type": "code",
      "metadata": {
        "deletable": false,
        "editable": false,
        "colab": {
          "base_uri": "https://localhost:8080/",
          "height": 46
        },
        "id": "7f5a0ee5",
        "outputId": "cf0afe6e-8045-4490-81aa-6850e7e7c91f"
      },
      "source": [
        "grader.check(\"print_vocab\")"
      ],
      "execution_count": 20,
      "outputs": [
        {
          "output_type": "execute_result",
          "data": {
            "text/html": [
              "\n",
              "    \n",
              "    \n",
              "        <p>All tests passed!</p>\n",
              "    \n",
              "    "
            ],
            "text/plain": [
              "\n",
              "    All tests passed!\n",
              "    "
            ]
          },
          "metadata": {},
          "execution_count": 20
        }
      ]
    },
    {
      "cell_type": "markdown",
      "metadata": {
        "id": "usbCFfFsG8uO"
      },
      "source": [
        " We can use the `print_vocab` function to print out the different class labels in the `LABEL` field."
      ]
    },
    {
      "cell_type": "code",
      "metadata": {
        "colab": {
          "base_uri": "https://localhost:8080/"
        },
        "id": "QcEKqtxWG8uO",
        "outputId": "e1d37c83-bb1b-425f-e68d-32fb98d91916"
      },
      "source": [
        "print_vocab(LABEL)"
      ],
      "execution_count": 21,
      "outputs": [
        {
          "output_type": "stream",
          "name": "stdout",
          "text": [
            "<unk>\n",
            "GUY\n",
            "SAM\n"
          ]
        }
      ]
    },
    {
      "cell_type": "markdown",
      "metadata": {
        "deletable": false,
        "editable": false,
        "id": "OnDTKR1WG8uP"
      },
      "source": [
        "Other simple calculations that will be useful in implementing the various models:\n",
        "\n",
        "1. Counting how many instances there are in a dataset.\n",
        "2. Counting how many instances of a certain class there are in a dataset.\n",
        "3. Counting how many tokens of a certain type there are in the text of an instance.\n",
        "\n",
        "Let's write functions for these. They'll come in handy in the first problem set.\n",
        "\n",
        "<!--\n",
        "BEGIN QUESTION\n",
        "name: count_instances\n",
        "-->"
      ]
    },
    {
      "cell_type": "code",
      "metadata": {
        "id": "BL5DTAL9G8uP"
      },
      "source": [
        "#TODO - 1. Counting how many instances there are in a dataset.\n",
        "def count_instances(dataset):\n",
        "    return len(dataset)"
      ],
      "execution_count": 22,
      "outputs": []
    },
    {
      "cell_type": "code",
      "metadata": {
        "deletable": false,
        "editable": false,
        "colab": {
          "base_uri": "https://localhost:8080/",
          "height": 46
        },
        "id": "f59d0482",
        "outputId": "069b0738-efed-4222-bd28-3973a05996c0"
      },
      "source": [
        "grader.check(\"count_instances\")"
      ],
      "execution_count": 23,
      "outputs": [
        {
          "output_type": "execute_result",
          "data": {
            "text/html": [
              "\n",
              "    \n",
              "    \n",
              "        <p>All tests passed!</p>\n",
              "    \n",
              "    "
            ],
            "text/plain": [
              "\n",
              "    All tests passed!\n",
              "    "
            ]
          },
          "metadata": {},
          "execution_count": 23
        }
      ]
    },
    {
      "cell_type": "code",
      "metadata": {
        "id": "7l6pA638G8uP"
      },
      "source": [
        "#TODO - 2. Counting how many instances of a certain class there are in a dataset.\n",
        "# Note: recall that you can access the label of an instance using `instance.label`\n",
        "def count_instances_class(dataset, label):\n",
        "    count = 0\n",
        "    for i in dataset:\n",
        "      if i.label == label:\n",
        "        count += 1\n",
        "    return count"
      ],
      "execution_count": 24,
      "outputs": []
    },
    {
      "cell_type": "code",
      "metadata": {
        "deletable": false,
        "editable": false,
        "colab": {
          "base_uri": "https://localhost:8080/",
          "height": 46
        },
        "id": "54e886cf",
        "outputId": "1ed16c94-a849-4610-a709-9b779686415d"
      },
      "source": [
        "grader.check(\"count_instances_class\")"
      ],
      "execution_count": 25,
      "outputs": [
        {
          "output_type": "execute_result",
          "data": {
            "text/html": [
              "\n",
              "    \n",
              "    \n",
              "        <p>All tests passed!</p>\n",
              "    \n",
              "    "
            ],
            "text/plain": [
              "\n",
              "    All tests passed!\n",
              "    "
            ]
          },
          "metadata": {},
          "execution_count": 25
        }
      ]
    },
    {
      "cell_type": "code",
      "metadata": {
        "id": "WUeqWrCuG8uQ"
      },
      "source": [
        "#TODO - 3. Counting how many tokens of a certain type there are in the text of an instance.\n",
        "# Note: recall that you can access the list of tokens using `instance.text`\n",
        "def count_tokens_instance(instance, tokentype):\n",
        "    count = 0\n",
        "    for tok in instance.text:\n",
        "      if tok == tokentype:\n",
        "        count += 1\n",
        "    return count"
      ],
      "execution_count": 26,
      "outputs": []
    },
    {
      "cell_type": "code",
      "metadata": {
        "deletable": false,
        "editable": false,
        "colab": {
          "base_uri": "https://localhost:8080/",
          "height": 46
        },
        "id": "789fb0ff",
        "outputId": "e3d3bfa3-63e7-4259-e959-046dbadbbb31"
      },
      "source": [
        "grader.check(\"count_tokens_instances\")"
      ],
      "execution_count": 27,
      "outputs": [
        {
          "output_type": "execute_result",
          "data": {
            "text/html": [
              "\n",
              "    \n",
              "    \n",
              "        <p>All tests passed!</p>\n",
              "    \n",
              "    "
            ],
            "text/plain": [
              "\n",
              "    All tests passed!\n",
              "    "
            ]
          },
          "metadata": {},
          "execution_count": 27
        }
      ]
    },
    {
      "cell_type": "markdown",
      "metadata": {
        "id": "bAqC0xV5G8uQ"
      },
      "source": [
        "Recall that the purpose of fields is to map back and forth between strings and word ids. Below provides an example of how to do that."
      ]
    },
    {
      "cell_type": "code",
      "metadata": {
        "colab": {
          "base_uri": "https://localhost:8080/"
        },
        "id": "E83NwGAvG8uQ",
        "outputId": "37346874-5dc9-4136-dfdd-114e6f02d3ef"
      },
      "source": [
        "example = train[1]\n",
        "text = example.text\n",
        "word_ids = [TEXT.vocab.stoi[word] for word in text]\n",
        "print (f\"Mapped to word ids: {word_ids}\\n\"\n",
        "       f\"Mapped back: {[TEXT.vocab.itos[id] for id in word_ids]}\")\n",
        "label = example.label\n",
        "label_id = LABEL.vocab.stoi[label]\n",
        "print (f\"Label id: {label_id}\\n\"\n",
        "       f\"label: {LABEL.vocab.itos[label_id]}\")"
      ],
      "execution_count": 28,
      "outputs": [
        {
          "output_type": "stream",
          "name": "stdout",
          "text": [
            "Mapped to word ids: [2, 10, 3, 11, 7, 29]\n",
            "Mapped back: ['i', 'would', 'not', 'eat', 'them', 'anywhere.']\n",
            "Label id: 1\n",
            "label: GUY\n"
          ]
        }
      ]
    },
    {
      "cell_type": "markdown",
      "metadata": {
        "id": "unikDF3TG8uR"
      },
      "source": [
        "# Training and testing with PyTorch\n",
        "\n",
        "Past labs have shown that all of the detail about \n",
        "\n",
        "* establishing models and their parameters,\n",
        "* using them to calculate the outputs for some inputs, \n",
        "* training them to optimize the parameters via stochastic gradient descent, and \n",
        "* evaluating them by testing on held-out data\n",
        "\n",
        "is tedious to manage. Fortunately, it is also so formulaic, at least for a certain class of models, that general tools can be deployed to manage the process. In the remainder of this lab, you'll use one such tool, PyTorch. For simplicity, rather than a natural-language task, you'll be training a model to fit a curve; it has an especially simple structure: one scalar input and one scalar output."
      ]
    },
    {
      "cell_type": "markdown",
      "metadata": {
        "id": "GtkZ7OTIG8uR"
      },
      "source": [
        "## Generating training and test data\n",
        "\n",
        "We start by generating some training and test data. The data is generated as a noisy sine function, calculated by the function `sinusoid`. (Here we make use of the PyTorch [distributions](https://pytorch.org/docs/stable/distributions.html) package, which was imported above as `ds`.) "
      ]
    },
    {
      "cell_type": "code",
      "metadata": {
        "id": "R7ESxRPRG8uR"
      },
      "source": [
        "def sinusoid(x, amplitude=1., phase=0., frequency=1., noise=1e-5):\n",
        "    \"\"\"Returns the values on input(s) `x` of a sinusoid determined by `amplitude`, \n",
        "       `phase`, and angular `frequency`, with some added normal noise with variance \n",
        "       given by `noise`.\"\"\"\n",
        "    normal_noise = ds.normal.Normal(torch.tensor([0.0]), torch.tensor([noise]))\n",
        "    noise_sample = normal_noise.sample(x.size()).view(-1)\n",
        "    y = amplitude * torch.sin(x * frequency + phase) + noise_sample\n",
        "    return y"
      ],
      "execution_count": 29,
      "outputs": []
    },
    {
      "cell_type": "markdown",
      "metadata": {
        "id": "yGQu1A8nG8uR"
      },
      "source": [
        "We can generate data for training and testing by sampling this function."
      ]
    },
    {
      "cell_type": "code",
      "metadata": {
        "id": "jSO7dDXZG8uS"
      },
      "source": [
        "def sample_input(func, count, bound, **kwargs):\n",
        "    \"\"\"Returns `count` samples of x-y pairs of function `func`, with the x \n",
        "       values sampled uniformly between +/-`bound`. The `kwargs` are passed\n",
        "       on to `func`.\"\"\"\n",
        "    input_unif = ds.uniform.Uniform(-bound, +bound)\n",
        "    x = input_unif.sample(torch.Size([count]))\n",
        "    y = func(x, **kwargs)\n",
        "    return x, y"
      ],
      "execution_count": 30,
      "outputs": []
    },
    {
      "cell_type": "markdown",
      "metadata": {
        "id": "S2VQlYDFG8uS"
      },
      "source": [
        "To give a sense of what a data sample looks like, we plot a sample of 100 points."
      ]
    },
    {
      "cell_type": "code",
      "metadata": {
        "id": "Q62dhTpXG8uS"
      },
      "source": [
        "def plot_sample(data):\n",
        "    \"\"\"Plots `data` given as a single pair of inputs and outputs.\"\"\"\n",
        "    X, Y = data\n",
        "    plt.plot(X.tolist(), Y.tolist(), '.')\n",
        "    plt.xlabel('Input')\n",
        "    plt.ylabel('Output')\n",
        "    # we cannot use plt.show() because otter-grader does not support it"
      ],
      "execution_count": 31,
      "outputs": []
    },
    {
      "cell_type": "code",
      "metadata": {
        "colab": {
          "base_uri": "https://localhost:8080/",
          "height": 279
        },
        "id": "3Bj3q3JRG8uS",
        "outputId": "38ae5535-e35b-4923-cca7-7b5ed44e65ee"
      },
      "source": [
        "plot_sample(sample_input(sinusoid, 100, 5, noise=0.1))"
      ],
      "execution_count": 32,
      "outputs": [
        {
          "output_type": "display_data",
          "data": {
            "image/png": "[encoded data removed]",
            "text/plain": [
              "<Figure size 432x288 with 1 Axes>"
            ]
          },
          "metadata": {
            "needs_background": "light"
          }
        }
      ]
    },
    {
      "cell_type": "markdown",
      "metadata": {
        "id": "BVjFQcXjG8uT"
      },
      "source": [
        "## Specifying a feed-forward neural network\n",
        "\n",
        "\n",
        "<img src=\"https://github.com/nlp-course/data/raw/master/Resources/ffnn-example.png\" width=33% align=right />\n",
        "\n",
        "The model that we will train to predict the output of this function based on a sample will consist of a series of sublayers as depicted in the figure at right. At the bottom of the figure, we start with $\\vect{x}$, the scalar input (of dimensionality $1$ as shown in the \"shape\" designation). The first layer is a perceptron layer, composed of a linear sublayer (with weights $\\vect{U}$) followed by a sigmoid sublayer. Since $\\vect{U}$ is of dimensionality $1 \\times D$, the output is a vector of dimensionality $D$. (We refer to $D$ as the *hidden dimension*.) Then comes another perceptron layer with input and output each of dimensionality $D$. Finally, a single linear layer reduces the dimensionality back to the predicted scalar output $\\tilde{y}$ of dimensionality $1$. The loss is calculated as the mean square error of $\\tilde{y}$ relative to $y$. (In this case, taking the mean for a single example is irrelevant, since $y$ is a scalar, though when training in \"batches\", the mean would be taken over the batch.)\n",
        "\n",
        "We define a class `FFNN` (**f**eed-**f**orward **n**eural **n**etwork), which inherits from the `nn.Module` class, PyTorch's class for neural network models. It takes an argument `hidden_dim` which is the size of the hidden layers, $D$ in the figure.\n",
        "\n",
        "The parameters of this model – the values that will be adjusted to minimize the loss – are the elements of the tensors $\\vect{U}$, $\\vect{V}$, and $\\vect{W}$. They don't appear explicitly in the code, but are PyTorch *parameters* created and tracked when the corresponding sublayers are created using `nn.Linear`. That's the wonder of using PyTorch – so much happens under the hood. But we can get access to the parameters because the `nn.Module` class provides a `parameters` method that returns an iterator over the parameters. (We use it to initialize the parameters to random values.)"
      ]
    },
    {
      "cell_type": "code",
      "metadata": {
        "id": "NYZMSE7eG8uT"
      },
      "source": [
        "class FFNN(nn.Module):\n",
        "    def __init__(self, hidden_dim, init_low=-2, init_high=2):\n",
        "        super().__init__()\n",
        "        # dimensionality of hidden layers\n",
        "        self.hidden_dim = hidden_dim\n",
        "        # establishing the sublayers -- two perceptrons and a final\n",
        "        # linear layer -- and their parameters\n",
        "        self.sublayer1 = nn.Linear(1, hidden_dim)          # U: 1 X D\n",
        "        self.sublayer2 = nn.Sigmoid() \n",
        "        self.sublayer3 = nn.Linear(hidden_dim, hidden_dim) # V: D X D\n",
        "        self.sublayer4 = nn.Sigmoid() \n",
        "        self.sublayer5 = nn.Linear(hidden_dim, 1)          # W: D X 1\n",
        "        \n",
        "        # initialize parameters randomly\n",
        "        torch.manual_seed(random_seed)\n",
        "        for p in self.parameters():\n",
        "            p.data.uniform_(init_low, init_high)\n",
        "        # save a copy of the parameters to allow resetting\n",
        "        self.init_state = copy.deepcopy(self.state_dict())\n",
        "\n",
        "    # Resetting state: If you want to rerun a model, say, with a different\n",
        "    # training regime, you can reset the model's parameter state using\n",
        "    #    model.reset_state()\n",
        "    # before retraining, e.g., \n",
        "    #    train_model(model, criterion, optim, train_data, n_epochs=50)\n",
        "    def reset_state(self):\n",
        "        self.load_state_dict(self.init_state)\n",
        "        \n",
        "    def forward(self, x):\n",
        "        # first perceptron layer\n",
        "        z = self.sublayer2(self.sublayer1(x))\n",
        "        # second perceptron layer\n",
        "        z_prime = self.sublayer4(self.sublayer3(z))\n",
        "        # final linear layer\n",
        "        return self.sublayer5(z_prime)"
      ],
      "execution_count": 33,
      "outputs": []
    },
    {
      "cell_type": "markdown",
      "metadata": {
        "id": "xCN0ykaEG8uT"
      },
      "source": [
        "We can build a model by instantiating the `FFNN` class. We'll do so with a hidden dimension of 4, being careful to move the model with its parameters to the device we're using for calculations (a GPU if one is available, as on Google Colab)."
      ]
    },
    {
      "cell_type": "code",
      "metadata": {
        "id": "K07-MMS7G8uT"
      },
      "source": [
        "HIDDEN_DIMENSION = 4\n",
        "model = FFNN(HIDDEN_DIMENSION).to(device)"
      ],
      "execution_count": 97,
      "outputs": []
    },
    {
      "cell_type": "markdown",
      "metadata": {
        "id": "6qFoKgzRG8uT"
      },
      "source": [
        "We specify the criterion to be optimized as the mean square error loss function provided by PyTorch."
      ]
    },
    {
      "cell_type": "code",
      "metadata": {
        "id": "9F9YVq08G8uU"
      },
      "source": [
        "criterion = nn.MSELoss(reduction='mean') "
      ],
      "execution_count": 98,
      "outputs": []
    },
    {
      "cell_type": "markdown",
      "metadata": {
        "id": "i86PLS5QG8uU"
      },
      "source": [
        "## Evaluating data according to a model\n",
        "\n",
        "To evaluate how well the model performs on some test data, we run the model forward on the $x$ values and compute the loss relative to the $y$ values. We define a function `eval_model` to carry out this calculation."
      ]
    },
    {
      "cell_type": "code",
      "metadata": {
        "id": "3FlgRuo3G8uU"
      },
      "source": [
        "def eval_model(model, criterion, data):\n",
        "    \"\"\"Applies the `model` to the x values in the `data` and returns the\n",
        "       loss relative to the y values in the `data` along with the predicted \n",
        "       y values.\"\"\"\n",
        "    model.eval()                          # turn on evaluation mode\n",
        "    with torch.no_grad():                 # turn off propagating gradients\n",
        "        X, Y = data                       # extract x and y values\n",
        "        X = X.view(-1, 1).to(device)      # convert x and y to column vectors\n",
        "        Y = Y.view(-1, 1).to(device)      # ...and move them to the device\n",
        "        predictions = model(X)            # calculate the predicted y values\n",
        "        loss = criterion(predictions, Y)  # see how far off they are\n",
        "    return loss.item(), predictions"
      ],
      "execution_count": 99,
      "outputs": []
    },
    {
      "cell_type": "markdown",
      "metadata": {
        "id": "F4HwYtGJG8uU"
      },
      "source": [
        "All that remains is training the model. We'll use one of PyTorch's built in optimizers, the `Adam` optimizer. We set a few parameters for the training process: the learning rate, the number of \"epochs\" (passes through the training data) to perform, and the number of examples to train on at a time (the \"batch size\")."
      ]
    },
    {
      "cell_type": "code",
      "metadata": {
        "id": "ZE0iCkfaG8uU"
      },
      "source": [
        "## Parameters of the training regimen\n",
        "LEARNING_RATE = 0.003\n",
        "NUMBER_EPOCHS = 25\n",
        "BATCH_SIZE = 20\n",
        "\n",
        "## Choices for optimizers:\n",
        "\n",
        "# Stochastic Gradient Descent (SGD) optimizer\n",
        "# optim = torch.optim.SGD(model.parameters(), lr = LEARNING_RATE)\n",
        "\n",
        "# The Adam optimizer, as described in the paper:\n",
        "# Kingma and Ba. 2014. Adam: A Method for Stochastic Optimization.\n",
        "# [https://arxiv.org/abs/1412.6980]\n",
        "optim = torch.optim.Adam(model.parameters(), lr = LEARNING_RATE)"
      ],
      "execution_count": 117,
      "outputs": []
    },
    {
      "cell_type": "markdown",
      "metadata": {
        "id": "JBJ9eF4qG8uV"
      },
      "source": [
        "## Training the parameters of a model\n",
        "\n",
        "Finally, we get to the function to train the parameters of the model so as to best fit the predictions to the actual values. We've provided the code, except for a few lines that you'll need to provide (marked `#TODO`), making use of some of the tools defined above. Those lines, which form the heart of the computation, calculate \"forwards\" to get the output predictions for the inputs, calculate the loss for those predictions, and calculate \"backwards\" the gradients of the loss for each of the parameters of the model. This sets up the optimizer to take a step of updating the parameters, making use of the calculated gradients to determine the direction to step. The saved gradients can then be zeroed and the process repeated.\n",
        "\n",
        "> Note: The code we're asking you to write is *tiny*. If you find yourself writing more than a short line of code per `#TODO`, you're missing something."
      ]
    },
    {
      "cell_type": "code",
      "metadata": {
        "id": "9vBSYLjgG8uV"
      },
      "source": [
        "def train_model(model, criterion, optimizer, data,\n",
        "                n_epochs=NUMBER_EPOCHS, batch_size=BATCH_SIZE):\n",
        "    \"\"\"Optimizes the parameters of the `model` by minimizing the `criterion`\n",
        "       on the training `data`, using the `optimizer` algorithm for updates.\"\"\"    \n",
        "    model.train()                     # Turn on training mode\n",
        "\n",
        "    X, Y = data\n",
        "    trainX_len = len(X)\n",
        "    \n",
        "    loss_per_epoch = math.inf\n",
        "    with tqdm(range(n_epochs)) as pbar:\n",
        "        for epoch in pbar:\n",
        "            pbar.set_postfix(epoch=epoch+1, loss=loss_per_epoch)\n",
        "            loss_per_epoch = 0.\n",
        "            for batch_i in range(int(trainX_len/batch_size)):\n",
        "                optimizer.zero_grad()     # new batch; zero the gradients of the parameters\n",
        "\n",
        "                # Input tensors and their corresponding output values for this batch\n",
        "                batch_X = (X[batch_i * batch_size\n",
        "                             : (batch_i+1) * batch_size] # extract examples in batch\n",
        "                           .view(-1, 1)                  # reshape to column vector\n",
        "                           .to(device)                   # move to device\n",
        "                          )\n",
        "                batch_Y = (Y[batch_i * batch_size \n",
        "                             : (batch_i+1) * batch_size]\n",
        "                           .view(-1, 1)\n",
        "                           .to(device)\n",
        "                          )\n",
        "\n",
        "                #TODO: Calculate predictions for the x values in this batch\n",
        "                predictions = model(batch_X)\n",
        "\n",
        "                #TODO: Calculate the loss for the predictions\n",
        "                loss = criterion(predictions, batch_Y)\n",
        "\n",
        "                #TODO: Perform backpropagation to calculate gradients\n",
        "                loss.backward()\n",
        "\n",
        "                # Update all parameters\n",
        "                optimizer.step()\n",
        "\n",
        "                loss_per_epoch += loss.item()"
      ],
      "execution_count": 118,
      "outputs": []
    },
    {
      "cell_type": "markdown",
      "metadata": {
        "id": "18ald9QJG8uV"
      },
      "source": [
        "## Putting it all together\n",
        "\n",
        "Let's try it out. We start by generating some training and test data. The training data will be 10,000 samples of a noisy sinusoid. The test data, 100 samples from the same sinusoid, will be noise-free, so we can see how close the predictions are to noise-free outputs."
      ]
    },
    {
      "cell_type": "code",
      "metadata": {
        "colab": {
          "base_uri": "https://localhost:8080/",
          "height": 279
        },
        "id": "8Uo-D3WcG8uV",
        "outputId": "cd9197c6-d804-4512-a718-07480e720cca"
      },
      "source": [
        "train_data = sample_input(sinusoid, 10000, 5., frequency=1.5, noise=0.05)\n",
        "test_data = sample_input(sinusoid, 100, 5., frequency=1.5)\n",
        "\n",
        "plot_sample(train_data)"
      ],
      "execution_count": 119,
      "outputs": [
        {
          "output_type": "display_data",
          "data": {
            "image/png": "[encoded data removed]",
            "text/plain": [
              "<Figure size 432x288 with 1 Axes>"
            ]
          },
          "metadata": {
            "needs_background": "light"
          }
        }
      ]
    },
    {
      "cell_type": "markdown",
      "metadata": {
        "id": "X3sn08htG8uW"
      },
      "source": [
        "We train the model."
      ]
    },
    {
      "cell_type": "code",
      "metadata": {
        "colab": {
          "base_uri": "https://localhost:8080/"
        },
        "id": "MEB7XglKG8uW",
        "outputId": "5661037c-da3b-4339-909a-374fd2ba7c20"
      },
      "source": [
        "model.reset_state()\n",
        "train_model(model, criterion, optim, train_data)"
      ],
      "execution_count": 120,
      "outputs": [
        {
          "output_type": "stream",
          "name": "stderr",
          "text": [
            "100%|██████████| 25/25 [00:09<00:00,  2.65it/s, epoch=25, loss=13.6]\n"
          ]
        }
      ]
    },
    {
      "cell_type": "markdown",
      "metadata": {
        "id": "2-Jhi70uG8uW"
      },
      "source": [
        "...and test the trained model by evaluating it on the the test data."
      ]
    },
    {
      "cell_type": "code",
      "metadata": {
        "id": "UcIeKnDUG8uW"
      },
      "source": [
        "loss, predictions = eval_model(model, criterion, test_data)"
      ],
      "execution_count": 121,
      "outputs": []
    },
    {
      "cell_type": "code",
      "metadata": {
        "deletable": false,
        "editable": false,
        "colab": {
          "base_uri": "https://localhost:8080/",
          "height": 46
        },
        "id": "079f6ea9",
        "outputId": "9f6ccea5-7b8a-44b9-f68e-9c1637e769dd"
      },
      "source": [
        "grader.check(\"model_reduces_loss\")"
      ],
      "execution_count": 122,
      "outputs": [
        {
          "output_type": "execute_result",
          "data": {
            "text/html": [
              "\n",
              "    \n",
              "    \n",
              "        <p>All tests passed!</p>\n",
              "    \n",
              "    "
            ],
            "text/plain": [
              "\n",
              "    All tests passed!\n",
              "    "
            ]
          },
          "metadata": {},
          "execution_count": 122
        }
      ]
    },
    {
      "cell_type": "markdown",
      "metadata": {
        "id": "hvTEC3gQG8uW"
      },
      "source": [
        "We can see how well the model works by plotting the test data (circles) along with the predicted values (crosses)."
      ]
    },
    {
      "cell_type": "code",
      "metadata": {
        "id": "-Ps4VQJVG8uX"
      },
      "source": [
        "def visualize_predictions(data, predictions):\n",
        "    X, Y = data\n",
        "    \n",
        "    # Plot the actual output values\n",
        "    plt.plot(X.tolist(), Y.tolist(), '.', label = 'Target Values')\n",
        "    \n",
        "    # Plot the predicted output values\n",
        "    predictions = predictions.view(-1, 1)\n",
        "    plt.plot(X.tolist(), predictions.tolist(), 'x', label = 'Predictions')\n",
        "    \n",
        "    plt.xlabel('Input')\n",
        "    plt.ylabel('Output')\n",
        "    plt.legend()\n",
        "    # we cannot use plt.show() because otter-grader does not support it"
      ],
      "execution_count": 123,
      "outputs": []
    },
    {
      "cell_type": "code",
      "metadata": {
        "colab": {
          "base_uri": "https://localhost:8080/",
          "height": 279
        },
        "id": "UieqPd_eG8uX",
        "outputId": "52499e1c-16d1-4cb3-c82e-8af9fa2d6346"
      },
      "source": [
        "# Visualize the predictions\n",
        "visualize_predictions(test_data, predictions)"
      ],
      "execution_count": 124,
      "outputs": [
        {
          "output_type": "display_data",
          "data": {
            "image/png": "[encoded data removed]",
            "text/plain": [
              "<Figure size 432x288 with 1 Axes>"
            ]
          },
          "metadata": {
            "needs_background": "light"
          }
        }
      ]
    },
    {
      "cell_type": "markdown",
      "metadata": {
        "id": "mqLHjCJlG8uX"
      },
      "source": [
        "## Trying different models\n",
        "\n",
        "Now that we have the infrastructure, try experimenting with different models. Here are a few things you might play with. (No need to try them all.) What happens if you change the hidden dimension, increasing it to 8 or decreasing it to 2? What happens if you drop the middle layer? What about no middle layer but a much higher hidden dimension size? Does running for more epochs improve performance? Does the SGD optimizer work better or worse than the Adam optimizer?\n",
        "\n",
        "**Perform any experimentation in cells below this point, so you don't modify the cells above that are being unit tested.**"
      ]
    },
    {
      "cell_type": "markdown",
      "metadata": {
        "deletable": false,
        "editable": false,
        "id": "Pju9uJejG8uX"
      },
      "source": [
        "<!-- BEGIN QUESTION -->\n",
        "\n",
        "**Question:** What conclusions have you drawn from your experimentation?\n",
        "<!--\n",
        "BEGIN QUESTION\n",
        "name: open_response_testing_models\n",
        "manual: true\n",
        "-->"
      ]
    },
    {
      "cell_type": "markdown",
      "metadata": {
        "id": "1ea36b78"
      },
      "source": [
        "When all other setting were kept constant, the Adam optimizer performed much better than the SGD optimizer.\n",
        "\n",
        "When increasing the hidden dimension to values such as 8, 25, and 80, both optimizers performance improve. Contrarily, decreasing the hidden dimension to 2 decreased performance for both models. \n",
        "\n",
        "Running for more epochs does also improve performance; likewise, decreasing the amount of epochs worsened performance significantly. "
      ]
    },
    {
      "cell_type": "markdown",
      "metadata": {
        "deletable": false,
        "editable": false,
        "id": "OXJRsTkiG8uY"
      },
      "source": [
        "<!-- END QUESTION -->\n",
        "\n",
        "<!-- BEGIN QUESTION -->\n",
        "\n",
        "# Lab debrief – for consensus submission only\n",
        "\n",
        "**Question:** We're interested in any thoughts your group has about this lab so that we can improve this lab for later years, and to inform later labs for this year. Please list any issues that arose or comments you have to improve the lab. Useful things to comment on include the following: \n",
        "\n",
        "* Was the lab too long or too short?\n",
        "* Were the readings appropriate for the lab? \n",
        "* Was it clear (at least after you completed the lab) what the points of the exercises were? \n",
        "* Are there additions or changes you think would make the lab better?\n",
        "\n",
        "<!--\n",
        "BEGIN QUESTION\n",
        "name: open_response_debrief\n",
        "manual: true\n",
        "-->"
      ]
    },
    {
      "cell_type": "markdown",
      "metadata": {
        "id": "a5479dca"
      },
      "source": [
        "_Type your answer here, replacing this text._"
      ]
    },
    {
      "cell_type": "markdown",
      "metadata": {
        "id": "d7w2M4vxG8uY"
      },
      "source": [
        "<!-- END QUESTION -->\n",
        "\n",
        "\n",
        "\n",
        "# End of lab 1-5 {-}"
      ]
    },
    {
      "cell_type": "markdown",
      "metadata": {
        "deletable": false,
        "editable": false,
        "id": "41a915dc"
      },
      "source": [
        "---\n",
        "\n",
        "To double-check your work, the cell below will rerun all of the autograder tests."
      ]
    },
    {
      "cell_type": "code",
      "metadata": {
        "deletable": false,
        "editable": false,
        "colab": {
          "base_uri": "https://localhost:8080/",
          "height": 434
        },
        "id": "f491d4bb",
        "outputId": "03e0fa27-08e0-4f6f-cf35-b5c8e03e8740"
      },
      "source": [
        "grader.check_all()"
      ],
      "execution_count": 116,
      "outputs": [
        {
          "output_type": "execute_result",
          "data": {
            "text/html": [
              "<p><strong>count_instances:</strong></p>\n",
              "\n",
              "    \n",
              "    \n",
              "        <p>All tests passed!</p>\n",
              "    \n",
              "    \n",
              "\n",
              "<p><strong>count_instances_class:</strong></p>\n",
              "\n",
              "    \n",
              "    \n",
              "        <p>All tests passed!</p>\n",
              "    \n",
              "    \n",
              "\n",
              "<p><strong>count_tokens_instances:</strong></p>\n",
              "\n",
              "    \n",
              "    \n",
              "        <p>All tests passed!</p>\n",
              "    \n",
              "    \n",
              "\n",
              "<p><strong>dataset_setup:</strong></p>\n",
              "\n",
              "    \n",
              "    \n",
              "        <p>All tests passed!</p>\n",
              "    \n",
              "    \n",
              "\n",
              "<p><strong>dataset_split:</strong></p>\n",
              "\n",
              "    \n",
              "    \n",
              "        <p>All tests passed!</p>\n",
              "    \n",
              "    \n",
              "\n",
              "<p><strong>fields_setup:</strong></p>\n",
              "\n",
              "    \n",
              "    \n",
              "        <p>All tests passed!</p>\n",
              "    \n",
              "    \n",
              "\n",
              "<p><strong>model_reduces_loss:</strong></p>\n",
              "\n",
              "    \n",
              "    \n",
              "        <p>All tests passed!</p>\n",
              "    \n",
              "    \n",
              "\n",
              "<p><strong>print_vocab:</strong></p>\n",
              "\n",
              "    \n",
              "    \n",
              "        <p>All tests passed!</p>\n",
              "    \n",
              "    \n",
              "\n",
              "<p><strong>vocab_sizes:</strong></p>\n",
              "\n",
              "    \n",
              "    \n",
              "        <p>All tests passed!</p>\n",
              "    \n",
              "    \n",
              "\n"
            ],
            "text/plain": [
              "count_instances:\n",
              "\n",
              "    All tests passed!\n",
              "    \n",
              "\n",
              "count_instances_class:\n",
              "\n",
              "    All tests passed!\n",
              "    \n",
              "\n",
              "count_tokens_instances:\n",
              "\n",
              "    All tests passed!\n",
              "    \n",
              "\n",
              "dataset_setup:\n",
              "\n",
              "    All tests passed!\n",
              "    \n",
              "\n",
              "dataset_split:\n",
              "\n",
              "    All tests passed!\n",
              "    \n",
              "\n",
              "fields_setup:\n",
              "\n",
              "    All tests passed!\n",
              "    \n",
              "\n",
              "model_reduces_loss:\n",
              "\n",
              "    All tests passed!\n",
              "    \n",
              "\n",
              "print_vocab:\n",
              "\n",
              "    All tests passed!\n",
              "    \n",
              "\n",
              "vocab_sizes:\n",
              "\n",
              "    All tests passed!\n",
              "    \n"
            ]
          },
          "metadata": {},
          "execution_count": 116
        }
      ]
    },
    {
      "cell_type": "code",
      "metadata": {
        "id": "ioF8ybP2Lwvm"
      },
      "source": [
        ""
      ],
      "execution_count": null,
      "outputs": []
    }
  ]
}