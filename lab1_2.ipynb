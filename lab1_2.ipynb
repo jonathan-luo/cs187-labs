{
  "nbformat": 4,
  "nbformat_minor": 0,
  "metadata": {
    "kernelspec": {
      "display_name": "Python 3",
      "language": "python",
      "name": "python3"
    },
    "language_info": {
      "codemirror_mode": {
        "name": "ipython",
        "version": 3
      },
      "file_extension": ".py",
      "mimetype": "text/x-python",
      "name": "python",
      "nbconvert_exporter": "python",
      "pygments_lexer": "ipython3",
      "version": "3.8.10"
    },
    "title": "CS187 Lab 1-2: Text classification and evaluation methodology",
    "colab": {
      "name": "lab1-2.ipynb",
      "provenance": []
    }
  },
  "cells": [
    {
      "cell_type": "code",
      "metadata": {
        "deletable": false,
        "editable": false,
        "jupyter": {
          "outputs_hidden": true,
          "source_hidden": true
        },
        "colab": {
          "base_uri": "https://localhost:8080/"
        },
        "id": "luatYjkOyqbK",
        "outputId": "97e22708-e537-410f-909d-e3f2a3ffb8a6"
      },
      "source": [
        "# Please do not change this cell because some hidden tests might depend on it.\n",
        "import os\n",
        "\n",
        "# Otter grader does not handle ! commands well, so we define and use our\n",
        "# own function to execute shell commands.\n",
        "def shell(commands, warn=True):\n",
        "    \"\"\"Executes the string `commands` as a sequence of shell commands.\n",
        "     \n",
        "       Prints the result to stdout and returns the exit status. \n",
        "       Provides a printed warning on non-zero exit status unless `warn` \n",
        "       flag is unset.\n",
        "    \"\"\"\n",
        "    file = os.popen(commands)\n",
        "    print (file.read().rstrip('\\n'))\n",
        "    exit_status = file.close()\n",
        "    if warn and exit_status != None:\n",
        "        print(f\"Completed with errors. Exit status: {exit_status}\\n\")\n",
        "    return exit_status\n",
        "\n",
        "shell(\"\"\"\n",
        "ls requirements.txt >/dev/null 2>&1\n",
        "if [ ! $? = 0 ]; then\n",
        " rm -rf .tmp\n",
        " git clone https://github.com/cs187-2021/lab1-2.git .tmp\n",
        " mv .tmp/tests ./\n",
        " mv .tmp/requirements.txt ./\n",
        " rm -rf .tmp\n",
        "fi\n",
        "pip install -q -r requirements.txt\n",
        "\"\"\")"
      ],
      "execution_count": 2,
      "outputs": [
        {
          "output_type": "stream",
          "name": "stdout",
          "text": [
            "\n"
          ]
        }
      ]
    },
    {
      "cell_type": "code",
      "metadata": {
        "deletable": false,
        "editable": false,
        "id": "fb0e98b3"
      },
      "source": [
        "# Initialize Otter\n",
        "import otter\n",
        "grader = otter.Notebook()"
      ],
      "execution_count": 3,
      "outputs": []
    },
    {
      "cell_type": "markdown",
      "metadata": {
        "tags": [
          "remove_for_latex"
        ],
        "id": "3ZhmhbPVyqbS"
      },
      "source": [
        "# CS187\n",
        "## Lab 1-2 — Text classification and evaluation methodology"
      ]
    },
    {
      "cell_type": "markdown",
      "metadata": {
        "id": "JZuAltakyqbV"
      },
      "source": [
        "After this lab, you should be able to\n",
        "\n",
        "* Understand the distinction between training and test corpora, and why both are needed;\n",
        "* Understand the role of gold labels;\n",
        "* Implement a majority class baseline as a benchmark to compare other methods;\n",
        "* Implement nearest neighbor classification, and understand the role of distance metrics in its operation;\n",
        "* Compare multiple methods for acccuracy."
      ]
    },
    {
      "cell_type": "markdown",
      "metadata": {
        "id": "qCr8mXdzyqbW"
      },
      "source": [
        "New bits of Python used for the first time in the _solution set_ for this lab, and which you may therefore find useful, include\n",
        "\n",
        "* [`collections.Counter`](https://docs.python.org/3/library/collections.html#collections.Counter)\n",
        "* [`collections.Counter.most_common`](https://docs.python.org/3/library/collections.html#collections.Counter.most_common)\n",
        "* [`torch.float`](https://pytorch.org/docs/stable/tensors.html)\n",
        "* [`torch.Tensor.type`](https://pytorch.org/docs/stable/generated/torch.Tensor.type.html?highlight=torch%20tensor%20type#torch.Tensor.type)"
      ]
    },
    {
      "cell_type": "markdown",
      "metadata": {
        "id": "rtC0WjOSyqbX"
      },
      "source": [
        "# Preparation – Loading packages and data"
      ]
    },
    {
      "cell_type": "code",
      "metadata": {
        "deletable": false,
        "editable": false,
        "jupyter": {
          "source_hidden": true
        },
        "id": "dhD9ydNVyqbY"
      },
      "source": [
        "# Please do not change these imports because some hidden tests might depend on them.\n",
        "# You can add a cell below if you need to import anything else.\n",
        "import collections\n",
        "import copy\n",
        "import json\n",
        "import math\n",
        "from pprint import pprint\n",
        "import torch\n",
        "import wget"
      ],
      "execution_count": 4,
      "outputs": []
    },
    {
      "cell_type": "markdown",
      "metadata": {
        "id": "7HOlnLB8yqbZ"
      },
      "source": [
        "# The Federalist Papers\n",
        "\n",
        "<img src=\"https://github.com/nlp-course/data/raw/master/Federalist/federalist.jpg\" width=150 align=right />\n",
        "\n",
        "The _Federalist_ papers is a collection of 85 essays written pseudonymously by Alexander Hamilton, John Jay, and James Madison following the Constitutional Convention of 1787, promoting the ratification of the nascent United States Constitution.\n",
        "\n",
        "The authorship of many of the individual papers has been well established and acknowledged by the various authors, but a number of the papers have been contentious, with both Madison and Hamilton as possible authors. Determining the authorship of these disputed papers is a classic text classification problem, and one that has received great attention. The seminal work on the problem is that of [Mosteller and Wallace](http://www.historyofinformation.com/detail.php?entryid=4799), who applied then-novel statistical methods to the problem. In this lab, we'll use the _Federalist_ data to experiment with some of the ideas about distance metrics and classification methods that you've read about. (It's also an excuse to make some points about proper testing methodology.)\n",
        "\n",
        "Mosteller and Wallace used the frequencies of various words in the papers as the raw data for determining authorship. We've provided access to a heavily pre-digested version of this data. (If you're interested, you can find the raw data – all 85 papers – and the notebook used to generate the pre-digested data in the [course `data` github repository](https://github.com/nlp-course/data).)\n",
        "\n",
        "Start by evaluating the cells below to load the data and view a sample."
      ]
    },
    {
      "cell_type": "code",
      "metadata": {
        "id": "OTJ4pRKHyqbb"
      },
      "source": [
        "# Retrieve the Federalist data\n",
        "os.makedirs('data', exist_ok=True)\n",
        "wget.download('https://github.com/nlp-course/data/raw/master/Federalist/federalist_data.json', out='data/')\n",
        "# Read the json data into a data structure\n",
        "with open('data/federalist_data.json', 'r') as fin:\n",
        "    dataset = json.load(fin)\n",
        "# Convert counts to tensors of floats\n",
        "for example in dataset:\n",
        "    example['counts'] = torch.tensor(example['counts']).type(torch.float)"
      ],
      "execution_count": 5,
      "outputs": []
    },
    {
      "cell_type": "code",
      "metadata": {
        "colab": {
          "base_uri": "https://localhost:8080/"
        },
        "id": "F61Wkfu0yqbc",
        "outputId": "9e58c13e-6156-4dee-d56f-610969435329"
      },
      "source": [
        "# View a sample of the data\n",
        "print(f\"Number of papers in the dataset: {len(dataset)}\")\n",
        "print(\"Some examples:\")\n",
        "pprint(dataset[:3])"
      ],
      "execution_count": 6,
      "outputs": [
        {
          "output_type": "stream",
          "name": "stdout",
          "text": [
            "Number of papers in the dataset: 85\n",
            "Some examples:\n",
            "[{'authors': 'Hamilton',\n",
            "  'counts': tensor([9., 6., 2., 0.]),\n",
            "  'number': '1',\n",
            "  'title': 'General Introduction'},\n",
            " {'authors': 'Jay',\n",
            "  'counts': tensor([8., 1., 0., 0.]),\n",
            "  'number': '2',\n",
            "  'title': 'Concerning Dangers from Foreign Force and Influence'},\n",
            " {'authors': 'Jay',\n",
            "  'counts': tensor([6., 0., 1., 0.]),\n",
            "  'number': '3',\n",
            "  'title': 'The Same Subject Continued: Concerning Dangers from Foreign Force '\n",
            "           'and Influence'}]\n"
          ]
        }
      ]
    },
    {
      "cell_type": "markdown",
      "metadata": {
        "id": "tVIxCbCGyqbe"
      },
      "source": [
        "You'll see above that the dataset is a list of *examples*, one for each paper, each a dictionary providing the paper number, its title and author(s), and the raw counts for a few important words in the papers. From the last lab, you'll recognize the `counts` field as a bag-of-words representation of the document. The `counts` field is the document representation that we will be wanting to classify, and the `authors` field contains the pertinent class label for each example. \n",
        "\n",
        "For your reference, here are the words that were used to derive the counts:"
      ]
    },
    {
      "cell_type": "code",
      "metadata": {
        "id": "_yWw8r-nyqbe"
      },
      "source": [
        "keywords = ['on', 'upon', 'there', 'whilst']"
      ],
      "execution_count": 7,
      "outputs": []
    },
    {
      "cell_type": "markdown",
      "metadata": {
        "id": "oq71K4xgyqbf"
      },
      "source": [
        "Thus in the first example paper, *Federalist 1*, there were 9 tokens of \"on\", 6 of \"upon\", 2 of \"there\", and none of \"whilst\". \n",
        "\n",
        "The `authors` field takes on various values. Here's a table of the frequency of each of the values. (This will come in handy later.)"
      ]
    },
    {
      "cell_type": "code",
      "metadata": {
        "colab": {
          "base_uri": "https://localhost:8080/"
        },
        "id": "NG4oWrpiyqbg",
        "outputId": "97224aa2-a1a8-40bb-f90c-ba8c11bddbdb"
      },
      "source": [
        "# Generate a table of the number of papers by each author label\n",
        "cnt = collections.Counter(map(lambda ex: ex['authors'],\n",
        "                              dataset))\n",
        "for author, count in cnt.items():\n",
        "    print(f\"{count:3d} ({100.0*count/len(dataset):.3f}%) {author}\")"
      ],
      "execution_count": 8,
      "outputs": [
        {
          "output_type": "stream",
          "name": "stdout",
          "text": [
            " 51 (60.000%) Hamilton\n",
            "  5 (5.882%) Jay\n",
            " 15 (17.647%) Madison\n",
            "  3 (3.529%) Hamilton and Madison\n",
            " 11 (12.941%) Hamilton or Madison\n"
          ]
        }
      ]
    },
    {
      "cell_type": "markdown",
      "metadata": {
        "id": "-sYyF0H7yqbh"
      },
      "source": [
        "As you can see, some of the papers are of known authorship by one of Madison or Hamilton. We can use these as training data."
      ]
    },
    {
      "cell_type": "code",
      "metadata": {
        "id": "VheIQSSTyqbi"
      },
      "source": [
        "# Extract the papers by either of Madison and Hamilton\n",
        "training = list(filter(lambda ex: ex['authors'] in ['Madison', 'Hamilton'],\n",
        "                       dataset))"
      ],
      "execution_count": 9,
      "outputs": []
    },
    {
      "cell_type": "code",
      "metadata": {
        "colab": {
          "base_uri": "https://localhost:8080/"
        },
        "id": "luJQHaCryqbi",
        "outputId": "9e21343f-4e7a-4244-c922-9d3ee91d8c0e"
      },
      "source": [
        "# View a sample of the training data\n",
        "print(f\"Number of papers in the dataset: {len(training)}\")\n",
        "print(\"Some examples:\")\n",
        "pprint(training[:3])"
      ],
      "execution_count": 10,
      "outputs": [
        {
          "output_type": "stream",
          "name": "stdout",
          "text": [
            "Number of papers in the dataset: 66\n",
            "Some examples:\n",
            "[{'authors': 'Hamilton',\n",
            "  'counts': tensor([9., 6., 2., 0.]),\n",
            "  'number': '1',\n",
            "  'title': 'General Introduction'},\n",
            " {'authors': 'Hamilton',\n",
            "  'counts': tensor([2., 4., 7., 0.]),\n",
            "  'number': '6',\n",
            "  'title': 'Concerning Dangers from Dissensions Between the States'},\n",
            " {'authors': 'Hamilton',\n",
            "  'counts': tensor([13., 11.,  9.,  0.]),\n",
            "  'number': '7',\n",
            "  'title': 'The Same Subject Continued: Concerning Dangers from Dissensions '\n",
            "           'Between the States'}]\n"
          ]
        }
      ]
    },
    {
      "cell_type": "markdown",
      "metadata": {
        "id": "O_H5qq38yqbj"
      },
      "source": [
        "Others of the papers are of ambiguous authorship. They are shown as having `'Hamilton or Madison'` as author. These will be the elements that we want to test our models on."
      ]
    },
    {
      "cell_type": "code",
      "metadata": {
        "id": "OOGzzEBiyqbj"
      },
      "source": [
        "# Extract the papers of unknown authorship\n",
        "testing = list(filter(lambda ex: ex['authors'] == 'Hamilton or Madison',\n",
        "                      dataset))"
      ],
      "execution_count": 11,
      "outputs": []
    },
    {
      "cell_type": "code",
      "metadata": {
        "colab": {
          "base_uri": "https://localhost:8080/"
        },
        "id": "9puWR_jzyqbk",
        "outputId": "971ebf89-b2cd-46cc-dedd-db191c5c8002"
      },
      "source": [
        "# View a sample of the data\n",
        "print(f\"Number of papers in the dataset: {len(testing)}\")\n",
        "print(\"Some sample elements:\")\n",
        "pprint(testing[:3])"
      ],
      "execution_count": 12,
      "outputs": [
        {
          "output_type": "stream",
          "name": "stdout",
          "text": [
            "Number of papers in the dataset: 11\n",
            "Some sample elements:\n",
            "[{'authors': 'Hamilton or Madison',\n",
            "  'counts': tensor([16.,  0.,  2.,  1.]),\n",
            "  'number': '49',\n",
            "  'title': 'Method of Guarding Against the Encroachments of Any One Department '\n",
            "           'of Government by Appealing to the People Through a Convention'},\n",
            " {'authors': 'Hamilton or Madison',\n",
            "  'counts': tensor([11.,  1.,  0.,  0.]),\n",
            "  'number': '50',\n",
            "  'title': 'Periodic Appeals to the People Considered'},\n",
            " {'authors': 'Hamilton or Madison',\n",
            "  'counts': tensor([21.,  0.,  2.,  2.]),\n",
            "  'number': '51',\n",
            "  'title': 'The Structure of the Government Must Furnish the Proper Checks and '\n",
            "           'Balances Between the Different Departments'}]\n"
          ]
        }
      ]
    },
    {
      "cell_type": "markdown",
      "metadata": {
        "id": "41fD0JJHyqbk"
      },
      "source": [
        "# Models for text classification"
      ]
    },
    {
      "cell_type": "markdown",
      "metadata": {
        "deletable": false,
        "editable": false,
        "id": "7jVBtPbsyqbk"
      },
      "source": [
        "We can think of a _model_ for a text classification problem as a function taking a test example and returning a class label for the test example. Generating the model will rely on a corpus of training data.\n",
        "\n",
        "With a model in hand, we can evaluate its _accuracy_ on a test corpus by computing the proportion of test examples that the model correctly classifies, that is, the model assigns to a test example the author that the test example specifies. Define a higher-order function `accuracy` that takes a test corpus (like `testing`) and a model (which is a function, remember), and returns the accuracy of the model on that corpus. \n",
        "\n",
        "> For you CS51 aficionados, `accuracy` is a _higher-order function_ since it _takes a function as an argument_. Yes, [higher-order functions are possible in Python](https://en.wikipedia.org/wiki/Higher-order_function#Python).\n",
        "<!--\n",
        "BEGIN QUESTION\n",
        "name: accuracy\n",
        "-->"
      ]
    },
    {
      "cell_type": "code",
      "metadata": {
        "id": "25eGH9zoyqbl"
      },
      "source": [
        "#TODO -- Define the `accuracy` function.\n",
        "def accuracy(test_corpus, model):\n",
        "    \"\"\"Computes the accuracy of a model on a corpus.\n",
        "    Arguments:\n",
        "      `test_corpus`: a list of test examples, such as `testing`\n",
        "      `model`: a function whose input is an example from the corpus (such as \n",
        "              `testing[0]`, and whose output is the predicted author\n",
        "    Returns:\n",
        "      accuracy, a float number.\n",
        "    \"\"\"\n",
        "    num_correct = 0\n",
        "    for t in test_corpus:\n",
        "      if model(t) == t['authors']:\n",
        "        num_correct += 1\n",
        "    return num_correct / len(test_corpus)"
      ],
      "execution_count": 46,
      "outputs": []
    },
    {
      "cell_type": "markdown",
      "metadata": {
        "deletable": false,
        "editable": false,
        "id": "z7STfWNsyqbm"
      },
      "source": [
        "## Majority class classification\n",
        "\n",
        "An especially simple classification model labels each test example with whichever label happens to occur most frequently in the training data. It completely ignores the test example that it classifies!\n",
        "\n",
        "By examination of the table provided above, what is the majority class label for the training dataset?\n",
        "\n",
        "<!--\n",
        "BEGIN QUESTION\n",
        "name: maj_class_label\n",
        "-->"
      ]
    },
    {
      "cell_type": "code",
      "metadata": {
        "id": "w-MZfWLSyqbm"
      },
      "source": [
        "#TODO -- Set this variable to the majority class label for the training set.\n",
        "maj_class_label = \"Hamilton\""
      ],
      "execution_count": 14,
      "outputs": []
    },
    {
      "cell_type": "code",
      "metadata": {
        "deletable": false,
        "editable": false,
        "colab": {
          "base_uri": "https://localhost:8080/",
          "height": 46
        },
        "id": "fd58da9f",
        "outputId": "9efd7bbe-749e-4a9a-8748-991c903af3e1"
      },
      "source": [
        "grader.check(\"maj_class_label\")"
      ],
      "execution_count": 15,
      "outputs": [
        {
          "output_type": "execute_result",
          "data": {
            "text/html": [
              "\n",
              "    \n",
              "    \n",
              "        <p>All tests passed!</p>\n",
              "    \n",
              "    "
            ],
            "text/plain": [
              "\n",
              "    All tests passed!\n",
              "    "
            ]
          },
          "metadata": {},
          "execution_count": 15
        }
      ]
    },
    {
      "cell_type": "markdown",
      "metadata": {
        "deletable": false,
        "editable": false,
        "id": "-QCo3v2Syqbn"
      },
      "source": [
        "Rather than determining the majority class by inspection, it's better to have a function to compute it for us. Define a function `majority_class_label` that returns the majority class label for a training set.\n",
        "<!--\n",
        "BEGIN QUESTION\n",
        "name: majority_class_label\n",
        "-->"
      ]
    },
    {
      "cell_type": "code",
      "metadata": {
        "id": "RsxhrinOyqbn"
      },
      "source": [
        "#TODO -- Define the `majority_class_label` function.\n",
        "def majority_class_label(training):\n",
        "    \"\"\"Find the majority class label for a training set.\n",
        "    Arguments:\n",
        "      `training`: a list of training examples, such as `training`\n",
        "    Returns:\n",
        "      the majority class label, a string.\n",
        "    \"\"\"\n",
        "    freq_map = {}\n",
        "    for t in training:\n",
        "      authors = t['authors']\n",
        "      if authors not in freq_map:\n",
        "        freq_map[authors] = 1\n",
        "      else:\n",
        "        freq_map[authors] += 1\n",
        "    \n",
        "    return collections.Counter(freq_map).most_common(1)[0][0]"
      ],
      "execution_count": 16,
      "outputs": []
    },
    {
      "cell_type": "code",
      "metadata": {
        "deletable": false,
        "editable": false,
        "colab": {
          "base_uri": "https://localhost:8080/",
          "height": 46
        },
        "id": "1f9f369e",
        "outputId": "c838858d-0137-4d48-9e6e-96aa024ab614"
      },
      "source": [
        "grader.check(\"majority_class_label\")"
      ],
      "execution_count": 17,
      "outputs": [
        {
          "output_type": "execute_result",
          "data": {
            "text/html": [
              "\n",
              "    \n",
              "    \n",
              "        <p>All tests passed!</p>\n",
              "    \n",
              "    "
            ],
            "text/plain": [
              "\n",
              "    All tests passed!\n",
              "    "
            ]
          },
          "metadata": {},
          "execution_count": 17
        }
      ]
    },
    {
      "cell_type": "markdown",
      "metadata": {
        "deletable": false,
        "editable": false,
        "id": "JzO2So0qyqbo"
      },
      "source": [
        "What proportions of the *training* examples do you think would be classified correctly by the majority class model?\n",
        "<!--\n",
        "BEGIN QUESTION\n",
        "name: maj_class_accuracy_guess\n",
        "-->"
      ]
    },
    {
      "cell_type": "code",
      "metadata": {
        "id": "hr7PkvkKyqbp"
      },
      "source": [
        "#TODO -- Define this variable to be what you think the \n",
        "#        accuracy of the majority class model would be\n",
        "#        on the training data.\n",
        "maj_class_accuracy_guess = 0.7"
      ],
      "execution_count": 18,
      "outputs": []
    },
    {
      "cell_type": "code",
      "metadata": {
        "deletable": false,
        "editable": false,
        "colab": {
          "base_uri": "https://localhost:8080/",
          "height": 46
        },
        "id": "e1fbb0e4",
        "outputId": "aed79038-e0d0-460d-ab81-26319e6d554e"
      },
      "source": [
        "grader.check(\"maj_class_accuracy_guess\")"
      ],
      "execution_count": 19,
      "outputs": [
        {
          "output_type": "execute_result",
          "data": {
            "text/html": [
              "\n",
              "    \n",
              "    \n",
              "        <p>All tests passed!</p>\n",
              "    \n",
              "    "
            ],
            "text/plain": [
              "\n",
              "    All tests passed!\n",
              "    "
            ]
          },
          "metadata": {},
          "execution_count": 19
        }
      ]
    },
    {
      "cell_type": "markdown",
      "metadata": {
        "deletable": false,
        "editable": false,
        "id": "umUrhtbfyqbp"
      },
      "source": [
        "Now define a function `majority_class` that takes a single argument (a test example) and returns the particular class label that is most frequent in the training data `training` (regardless of what the test example is).\n",
        "<!--\n",
        "BEGIN QUESTION\n",
        "name: majority_class\n",
        "-->"
      ]
    },
    {
      "cell_type": "code",
      "metadata": {
        "id": "zgnBH9VHyqbq"
      },
      "source": [
        "#TODO - Define the `majority_class` model.\n",
        "def majority_class(example):\n",
        "    \"\"\"Defines a majority class model.\n",
        "    Arguments:\n",
        "      `example`: an example, such as `testing[0]`\n",
        "    Returns:\n",
        "      the majority class in the *training* set, a string.\n",
        "    \"\"\"\n",
        "    return majority_class_label(training)"
      ],
      "execution_count": 20,
      "outputs": []
    },
    {
      "cell_type": "code",
      "metadata": {
        "deletable": false,
        "editable": false,
        "colab": {
          "base_uri": "https://localhost:8080/",
          "height": 46
        },
        "id": "5ec8c86c",
        "outputId": "ae8f84ef-0ed3-46b2-d533-f21b4231ac55"
      },
      "source": [
        "grader.check(\"majority_class\")"
      ],
      "execution_count": 21,
      "outputs": [
        {
          "output_type": "execute_result",
          "data": {
            "text/html": [
              "\n",
              "    \n",
              "    \n",
              "        <p>All tests passed!</p>\n",
              "    \n",
              "    "
            ],
            "text/plain": [
              "\n",
              "    All tests passed!\n",
              "    "
            ]
          },
          "metadata": {},
          "execution_count": 21
        }
      ]
    },
    {
      "cell_type": "markdown",
      "metadata": {
        "deletable": false,
        "editable": false,
        "id": "J8US6M6Wyqbq"
      },
      "source": [
        "Now we can see how well this majority class model works by trying it out on some examples. Use the `accuracy` function to determine the model's accuracy when applied to the task of labeling the _training_ data.\n",
        "<!--\n",
        "BEGIN QUESTION\n",
        "name: accuracy_maj_class_train\n",
        "-->"
      ]
    },
    {
      "cell_type": "code",
      "metadata": {
        "id": "Aa93ZDlSyqbr"
      },
      "source": [
        "#TODO -- Define `maj_class_on_train` to be the accuracy of the majority \n",
        "#        class model on the training data.\n",
        "accuracy_maj_class_train = accuracy(training, majority_class)"
      ],
      "execution_count": 22,
      "outputs": []
    },
    {
      "cell_type": "code",
      "metadata": {
        "deletable": false,
        "editable": false,
        "colab": {
          "base_uri": "https://localhost:8080/",
          "height": 46
        },
        "id": "4d786439",
        "outputId": "b78533ec-a2c2-4faf-9572-93a297418ec2"
      },
      "source": [
        "grader.check(\"accuracy_maj_class_train\")"
      ],
      "execution_count": 23,
      "outputs": [
        {
          "output_type": "execute_result",
          "data": {
            "text/html": [
              "\n",
              "    \n",
              "    \n",
              "        <p>All tests passed!</p>\n",
              "    \n",
              "    "
            ],
            "text/plain": [
              "\n",
              "    All tests passed!\n",
              "    "
            ]
          },
          "metadata": {},
          "execution_count": 23
        }
      ]
    },
    {
      "cell_type": "code",
      "metadata": {
        "colab": {
          "base_uri": "https://localhost:8080/"
        },
        "id": "TB4FScuuyqbs",
        "outputId": "74a4b685-bace-411c-f979-9a7d722af832"
      },
      "source": [
        "print(f\"Accuracy of the majority class model on training data: \"\n",
        "      f\"{accuracy_maj_class_train:.3f}\")"
      ],
      "execution_count": 24,
      "outputs": [
        {
          "output_type": "stream",
          "name": "stdout",
          "text": [
            "Accuracy of the majority class model on training data: 0.773\n"
          ]
        }
      ]
    },
    {
      "cell_type": "markdown",
      "metadata": {
        "id": "kqfXRlkWyqbs"
      },
      "source": [
        "Was your guess from above right?\n",
        "\n",
        "> Yes, it was quite close.\n",
        "\n"
      ]
    },
    {
      "cell_type": "markdown",
      "metadata": {
        "id": "2P7nS9rryqbs"
      },
      "source": [
        "## Nearest neighbor classification\n",
        "\n",
        "Recall that nearest neighbor classification classifies a test example with the label of the nearest training example. To calculate nearest neighbors, we need a distance metric between the representations of the documents. Below we've provided two such metrics, familiar from the previous lab, for Euclidean distance and cosine distance.\n",
        "\n",
        "> Note: In order to allow full use of `torch` operations, these functions assume that the vectors are provided as tensors of type `float`. (That's why we tensorified the `counts` data as we loaded the dataset at the top  of this notebook.) When you call them, you'll want to make sure of this. They also return singleton tensors, not floats."
      ]
    },
    {
      "cell_type": "code",
      "metadata": {
        "id": "C193eWwEyqbs"
      },
      "source": [
        "def euclidean_distance(v1, v2):\n",
        "    \"\"\"Returns the Euclidean distance between two vectors\"\"\"\n",
        "    return torch.linalg.norm(v1 - v2)"
      ],
      "execution_count": 25,
      "outputs": []
    },
    {
      "cell_type": "code",
      "metadata": {
        "id": "YvvAmklsyqbt"
      },
      "source": [
        "def safe_acos(x):\n",
        "    \"\"\"Returns the arc cosine of `x`. Unlike `math.acos`, it \n",
        "       does not raise an exception for values of `x` out of range, \n",
        "       but rather clips `x` at -1..1, thereby avoiding math domain\n",
        "       errors in the case of numerical errors.\"\"\"\n",
        "    return math.acos(math.copysign(min(1.0, abs(x)), x))\n",
        "        \n",
        "def cosine_distance(v1, v2):\n",
        "    \"\"\"Returns the cosine distance between two vectors\"\"\"\n",
        "    dot_product = (v1 * v2).sum()\n",
        "    v1_norm = (v1 * v1).sum().sqrt()\n",
        "    v2_norm = (v2 * v2).sum().sqrt()\n",
        "    return safe_acos(dot_product / (v1_norm * v2_norm)) / math.pi"
      ],
      "execution_count": 26,
      "outputs": []
    },
    {
      "cell_type": "markdown",
      "metadata": {
        "id": "zzQPvO5Eyqbt"
      },
      "source": [
        "Here's an example of the use of these distance metrics:"
      ]
    },
    {
      "cell_type": "code",
      "metadata": {
        "colab": {
          "base_uri": "https://localhost:8080/"
        },
        "id": "snJFVIMcyqbt",
        "outputId": "4b876390-076c-4626-91f6-e9d0482bb0aa"
      },
      "source": [
        "t1 = torch.tensor([1., 2.])\n",
        "t2 = torch.tensor([3., 4.])\n",
        "\n",
        "print(\"Testing on two different tensors\\n\"\n",
        "      f\"Euclidean: {euclidean_distance(t1, t2)}\\n\"\n",
        "      f\"Cosine   : {cosine_distance(t1, t2)}\\n\\n\"\n",
        "      \"Testing on two identical tensors\\n\"\n",
        "      f\"Euclidean: {euclidean_distance(t1, t1)}\\n\"\n",
        "      f\"Cosine   : {cosine_distance(t1, t1)}\")"
      ],
      "execution_count": 27,
      "outputs": [
        {
          "output_type": "stream",
          "name": "stdout",
          "text": [
            "Testing on two different tensors\n",
            "Euclidean: 2.8284270763397217\n",
            "Cosine   : 0.05724914679911019\n",
            "\n",
            "Testing on two identical tensors\n",
            "Euclidean: 0.0\n",
            "Cosine   : 0.0\n"
          ]
        }
      ]
    },
    {
      "cell_type": "markdown",
      "metadata": {
        "deletable": false,
        "editable": false,
        "id": "fjf1gfN_yqbu"
      },
      "source": [
        "### Generating nearest neighbor models\n",
        "\n",
        "To specify a nearest neighbor model, we need both a training corpus (like `training`) and a distance metric (like `euclidean_distance` or `cosine_distance` defined just above). \n",
        "\n",
        "Define a function called `define_nearest_neighbor` that takes a training corpus and a distance metric and returns a model -- that is, a function that classifies a single test example. The model should return the class _label_ of that training example whose _counts vector_ is closest to that of the test example according to the metric.\n",
        "\n",
        "> Again, harkening to CS51, `define_nearest_neighbor` is a higher-order function since it _returns a function_. Yes, [higher-order functions are possible in Python](https://en.wikipedia.org/wiki/Higher-order_function#Python).\n",
        "<!--\n",
        "BEGIN QUESTION\n",
        "name: define_nearest_neighbor\n",
        "-->"
      ]
    },
    {
      "cell_type": "code",
      "metadata": {
        "id": "ymJL2wWNyqbu"
      },
      "source": [
        "#TODO -- Define this function that generates nearest neighbor models.\n",
        "def define_nearest_neighbor(corpus, metric):\n",
        "    \"\"\"Generates a nearest neighbor model from a training corpus and a\n",
        "    distance metric.\n",
        "    Arguments:\n",
        "      `corpus`: a training corpus, such as `training`\n",
        "      `metric`: a metric function which takes two tensors as input and \n",
        "                returns their distance, such as `euclidean_distance`\n",
        "    Returns:\n",
        "      a model, which is a function that takes in a test example (such as \n",
        "      `testing[0]`) and returns the author of the nearest example in the \n",
        "      training set, where distances are measured on the counts vector \n",
        "      using `metric`.\n",
        "    \"\"\"\n",
        "    # Define model\n",
        "    def nn_model(example):\n",
        "      nearest_dist, nearest_author = torch.tensor([float('inf')]), ''\n",
        "      for c in corpus:\n",
        "        dist = metric(example['counts'], c['counts']) \n",
        "        if dist < nearest_dist:\n",
        "          nearest_dist, nearest_author = dist, c['authors']\n",
        "      \n",
        "      return nearest_author\n",
        "          \n",
        "    # Return model\n",
        "    return nn_model"
      ],
      "execution_count": 28,
      "outputs": []
    },
    {
      "cell_type": "markdown",
      "metadata": {
        "id": "9J0Ftkqwyqbv"
      },
      "source": [
        "We can use the `define_nearest_neighbor` function to define two new models for nearest neighbor classification, one using Euclidean distance and one using cosine distance."
      ]
    },
    {
      "cell_type": "code",
      "metadata": {
        "id": "pqgv22Isyqbv"
      },
      "source": [
        "nearest_neighbor_euclidean_model = \\\n",
        "    define_nearest_neighbor(training, euclidean_distance)\n",
        "\n",
        "nearest_neighbor_cosine_model = \\\n",
        "    define_nearest_neighbor(training, cosine_distance)"
      ],
      "execution_count": 29,
      "outputs": []
    },
    {
      "cell_type": "markdown",
      "metadata": {
        "id": "ge4aJ4c-yqbv"
      },
      "source": [
        "### Testing the nearest neighbor models on the training data"
      ]
    },
    {
      "cell_type": "markdown",
      "metadata": {
        "deletable": false,
        "editable": false,
        "id": "A65xPUO2yqbv"
      },
      "source": [
        "How accurate are these models when used to label the training data (as we did for the majority class model above)? Use the `accuracy` function above to calculate the accuracy of `nearest_neighbor_euclidean_model` in labeling the _training_ data (not the test data), and similarly for `nearest_neighbor_cosine_model`.\n",
        "<!--\n",
        "BEGIN QUESTION\n",
        "name: accuracy_train\n",
        "-->"
      ]
    },
    {
      "cell_type": "code",
      "metadata": {
        "id": "g8UaXpHgyqbw"
      },
      "source": [
        "#TODO - Define the variable to be the calculated accuracy.\n",
        "accuracy_nn_euclidean_train = accuracy(training, nearest_neighbor_euclidean_model)\n",
        "accuracy_nn_cosine_train = accuracy(training, nearest_neighbor_cosine_model)"
      ],
      "execution_count": 30,
      "outputs": []
    },
    {
      "cell_type": "code",
      "metadata": {
        "deletable": false,
        "editable": false,
        "colab": {
          "base_uri": "https://localhost:8080/",
          "height": 46
        },
        "id": "95cfe56e",
        "outputId": "c34e296e-9651-415e-82ac-ff2571996e91"
      },
      "source": [
        "grader.check(\"accuracy_train\")"
      ],
      "execution_count": 31,
      "outputs": [
        {
          "output_type": "execute_result",
          "data": {
            "text/html": [
              "\n",
              "    \n",
              "    \n",
              "        <p>All tests passed!</p>\n",
              "    \n",
              "    "
            ],
            "text/plain": [
              "\n",
              "    All tests passed!\n",
              "    "
            ]
          },
          "metadata": {},
          "execution_count": 31
        }
      ]
    },
    {
      "cell_type": "code",
      "metadata": {
        "colab": {
          "base_uri": "https://localhost:8080/"
        },
        "id": "a19N3lFJyqbw",
        "outputId": "1b400d29-b848-4189-98c1-cc4e04275af1"
      },
      "source": [
        "print(f\"Accuracy of the nearest neighbor euclidean model tested on training data: \"\n",
        "      f\"{accuracy_nn_euclidean_train:.3f}\")\n",
        "print(f\"Accuracy of the nearest neighbor cosine model tested on training data: \"\n",
        "      f\"{accuracy_nn_cosine_train:.3f}\")"
      ],
      "execution_count": 32,
      "outputs": [
        {
          "output_type": "stream",
          "name": "stdout",
          "text": [
            "Accuracy of the nearest neighbor euclidean model tested on training data: 1.000\n",
            "Accuracy of the nearest neighbor cosine model tested on training data: 1.000\n"
          ]
        }
      ]
    },
    {
      "cell_type": "markdown",
      "metadata": {
        "deletable": false,
        "editable": false,
        "id": "gydTOvADyqbw"
      },
      "source": [
        "<!-- BEGIN QUESTION -->\n",
        "\n",
        "**Question:** Does the performance of these classifiers on the training data seem to you to be representative of how good a classifier each is? Why or why not?\n",
        "\n",
        "<!--\n",
        "BEGIN QUESTION\n",
        "name: open_response_1\n",
        "manual: true\n",
        "-->"
      ]
    },
    {
      "cell_type": "markdown",
      "metadata": {
        "id": "957dd53c"
      },
      "source": [
        "Not really, since we are simply testing the classifiers on the training data that we trained them on. Of course they'll work well!\n"
      ]
    },
    {
      "cell_type": "markdown",
      "metadata": {
        "deletable": false,
        "editable": false,
        "id": "Oa-_wwwryqbx"
      },
      "source": [
        "<!-- END QUESTION -->\n",
        "\n",
        "#### Testing the nearest neighbor models on the testing data\n",
        "\n",
        "To get a better sense of how the nearest neighbor models perform, let's try them out on the testing data that we have. (Recall that the testing data in `testing` were the ambiguously-authored Federalist papers, where the `authors` field was `'Hamilton or Madison'`.)\n",
        "\n",
        "We start by looking in detail at the predictions generated by the two nearest neighbor models. Print out a table that lists, for each `testing` example, the paper number and the authors predicted under the nearest neighbor Euclidean model and the nearest neighbor cosine model. It might look something like\n",
        "```\n",
        "49 Madison  Madison \n",
        "50 Hamilton Madison \n",
        "51 Madison  Madison\n",
        "...\n",
        "```\n",
        "\n",
        "<!--\n",
        "BEGIN QUESTION\n",
        "name: print_table\n",
        "-->"
      ]
    },
    {
      "cell_type": "code",
      "metadata": {
        "colab": {
          "base_uri": "https://localhost:8080/"
        },
        "id": "VMvHoAigyqbx",
        "outputId": "0f9c5e0a-8f12-4766-eedd-020359daba09"
      },
      "source": [
        "#TODO - Print out the requested table.\n",
        "for t in testing:\n",
        "  print(t['number'],\n",
        "        define_nearest_neighbor(training, euclidean_distance)(t),\n",
        "        define_nearest_neighbor(training, cosine_distance)(t))"
      ],
      "execution_count": 33,
      "outputs": [
        {
          "output_type": "stream",
          "name": "stdout",
          "text": [
            "49 Madison Madison\n",
            "50 Hamilton Madison\n",
            "51 Madison Madison\n",
            "52 Madison Madison\n",
            "53 Madison Madison\n",
            "54 Madison Madison\n",
            "55 Madison Hamilton\n",
            "56 Madison Madison\n",
            "57 Madison Madison\n",
            "62 Madison Madison\n",
            "63 Madison Madison\n"
          ]
        }
      ]
    },
    {
      "cell_type": "markdown",
      "metadata": {
        "deletable": false,
        "editable": false,
        "id": "Zw20UVWFyqby"
      },
      "source": [
        "<!-- BEGIN QUESTION -->\n",
        "\n",
        "What do you notice about the two models?\n",
        "<!--\n",
        "BEGIN QUESTION\n",
        "name: open_response_2\n",
        "manual: true\n",
        "-->"
      ]
    },
    {
      "cell_type": "markdown",
      "metadata": {
        "id": "75bc8573"
      },
      "source": [
        "Seems like the models pick Madison nearly every time. Also, at least in this case, when one model picked Hamilton, the other never agreed. "
      ]
    },
    {
      "cell_type": "markdown",
      "metadata": {
        "deletable": false,
        "editable": false,
        "id": "onQs9kFJyqby"
      },
      "source": [
        "<!-- END QUESTION -->\n",
        "\n",
        "### Testing the nearest neighbor models on the training data\n",
        "\n",
        "Now use the `accuracy` function to calculate the accuracy of the two nearest neighbor models as you did above, but this time calculating accuracy on the *testing* corpus rather than the training corpus. (Expect to find a surprising result. Read ahead for an explanation if you're confused.)\n",
        "<!--\n",
        "BEGIN QUESTION\n",
        "name: accuracy_test\n",
        "-->"
      ]
    },
    {
      "cell_type": "code",
      "metadata": {
        "id": "3hWBANA7yqbz"
      },
      "source": [
        "#TODO -- Define the variables to be, respectively, the calculated accuracy of the nearest \n",
        "#        neighbor Euclidean model and cosine model on the testing data.\n",
        "accuracy_nn_euclidean_test = accuracy(testing, nearest_neighbor_euclidean_model)\n",
        "accuracy_nn_cosine_test = accuracy(testing, nearest_neighbor_cosine_model)"
      ],
      "execution_count": 40,
      "outputs": []
    },
    {
      "cell_type": "code",
      "metadata": {
        "deletable": false,
        "editable": false,
        "colab": {
          "base_uri": "https://localhost:8080/",
          "height": 46
        },
        "id": "1d787e83",
        "outputId": "0c6ba9f7-7c9c-4762-d04c-8394b9b8b94a"
      },
      "source": [
        "grader.check(\"accuracy_test\")"
      ],
      "execution_count": 41,
      "outputs": [
        {
          "output_type": "execute_result",
          "data": {
            "text/html": [
              "\n",
              "    \n",
              "    \n",
              "        <p>All tests passed!</p>\n",
              "    \n",
              "    "
            ],
            "text/plain": [
              "\n",
              "    All tests passed!\n",
              "    "
            ]
          },
          "metadata": {},
          "execution_count": 41
        }
      ]
    },
    {
      "cell_type": "code",
      "metadata": {
        "colab": {
          "base_uri": "https://localhost:8080/"
        },
        "id": "bNFBuoxbyqbz",
        "outputId": "1b5e43bf-5d14-4e54-e1c3-24d957211ef5"
      },
      "source": [
        "print(f\"Accuracy of the nearest neighbor euclidean model tested on testing data: \"\n",
        "      f\"{accuracy_nn_euclidean_test:.3f}\")\n",
        "print(f\"Accuracy of the nearest neighbor cosine model tested on testing data: \"\n",
        "      f\"{accuracy_nn_cosine_test:.3f}\")"
      ],
      "execution_count": 42,
      "outputs": [
        {
          "output_type": "stream",
          "name": "stdout",
          "text": [
            "Accuracy of the nearest neighbor euclidean model tested on testing data: 0.000\n",
            "Accuracy of the nearest neighbor cosine model tested on testing data: 0.000\n"
          ]
        }
      ]
    },
    {
      "cell_type": "markdown",
      "metadata": {
        "deletable": false,
        "editable": false,
        "id": "SH5A0jMzyqbz"
      },
      "source": [
        "<!-- BEGIN QUESTION -->\n",
        "\n",
        "**Question:** Does the performance of these classifiers on the testing data seem to you to be representative of how good a classifier each is? Why or why not?\n",
        "<!--\n",
        "BEGIN QUESTION\n",
        "name: open_response_3\n",
        "manual: true\n",
        "-->"
      ]
    },
    {
      "cell_type": "markdown",
      "metadata": {
        "id": "1254e76a"
      },
      "source": [
        "Nope, because we haven't specified what the correct authors are in the testing data. Our models never return \"Madison or Hamilton\" as the testing data has for each essay's \"authors\" attribute. Hence, our accuracy will always be at zero."
      ]
    },
    {
      "cell_type": "markdown",
      "metadata": {
        "deletable": false,
        "editable": false,
        "id": "W6YXPy6jyqb0"
      },
      "source": [
        "<!-- END QUESTION -->\n",
        "\n",
        "### The importance of gold labels\n",
        "\n",
        "In order to evaluate the accuracy of the nearest neighbor model – and any model – we need to have the correct labels for the testing corpus, the so-called _gold_ labels. What shall we use for gold labels? Mosteller and Wallace's much more extensive analysis concluded that all of the papers of ambiguous origin were penned by Madison, so we'll use that. We should use a version of the `testing` corpus with the gold labels. \n",
        "\n",
        "Write some code to generate a version of the testing corpus with the gold labels.\n",
        "\n",
        "> Hint: In defining `testing_gold`, you'll want to be careful not to change `testing`. Otherwise, some unit tests that use `testing` may fail. The `copy.deepcopy` function may be useful.\n",
        "\n",
        "<!--\n",
        "BEGIN QUESTION\n",
        "name: get_gold\n",
        "-->"
      ]
    },
    {
      "cell_type": "code",
      "metadata": {
        "id": "X2NSd4yFyqb0"
      },
      "source": [
        "#TODO - Write code that defines `testing_gold`, which is the same\n",
        "# as `testing` except that it has the correct gold labels.\n",
        "# Note: be careful to not change `testing`.\n",
        "testing_gold = copy.deepcopy(testing)\n",
        "for t in testing_gold:\n",
        "  t['authors'] = 'Madison'"
      ],
      "execution_count": 59,
      "outputs": []
    },
    {
      "cell_type": "code",
      "metadata": {
        "deletable": false,
        "editable": false,
        "colab": {
          "base_uri": "https://localhost:8080/",
          "height": 46
        },
        "id": "cf1514eb",
        "outputId": "4c51027a-d161-4140-833c-e36e73664815"
      },
      "source": [
        "  grader.check(\"get_gold\")"
      ],
      "execution_count": 60,
      "outputs": [
        {
          "output_type": "execute_result",
          "data": {
            "text/html": [
              "\n",
              "    \n",
              "    \n",
              "        <p>All tests passed!</p>\n",
              "    \n",
              "    "
            ],
            "text/plain": [
              "\n",
              "    All tests passed!\n",
              "    "
            ]
          },
          "metadata": {},
          "execution_count": 60
        }
      ]
    },
    {
      "cell_type": "markdown",
      "metadata": {
        "id": "hL5pdbL3yqb1"
      },
      "source": [
        "Now we can rerun the accuracy calculations."
      ]
    },
    {
      "cell_type": "code",
      "metadata": {
        "id": "-vpDBn9Eyqb1"
      },
      "source": [
        "accuracy_nn_euclidean_test_with_gold = accuracy(testing_gold, nearest_neighbor_euclidean_model)\n",
        "accuracy_nn_cosine_test_with_gold = accuracy(testing_gold, nearest_neighbor_cosine_model)"
      ],
      "execution_count": 61,
      "outputs": []
    },
    {
      "cell_type": "code",
      "metadata": {
        "colab": {
          "base_uri": "https://localhost:8080/"
        },
        "id": "Oax39Hmbyqb1",
        "outputId": "87684fe6-e1bf-4988-a775-01af7a971653"
      },
      "source": [
        "print(f\"Accuracy of the nearest neighbor euclidean model tested on testing data: \"\n",
        "      f\"{accuracy_nn_euclidean_test_with_gold:.3f}\")\n",
        "print(f\"Accuracy of the nearest neighbor cosine model tested on testing data: \"\n",
        "      f\"{accuracy_nn_cosine_test_with_gold:.3f}\")"
      ],
      "execution_count": 62,
      "outputs": [
        {
          "output_type": "stream",
          "name": "stdout",
          "text": [
            "Accuracy of the nearest neighbor euclidean model tested on testing data: 0.909\n",
            "Accuracy of the nearest neighbor cosine model tested on testing data: 0.909\n"
          ]
        }
      ]
    },
    {
      "cell_type": "markdown",
      "metadata": {
        "id": "t7mQza30yqb2"
      },
      "source": [
        "Yes, it now more accurately displays the effectiveness of our models on the testing data, now that we have gold stars representing the desired, correct output from our models."
      ]
    },
    {
      "cell_type": "markdown",
      "metadata": {
        "deletable": false,
        "editable": false,
        "id": "53JXiwUNyqb2"
      },
      "source": [
        "<!-- BEGIN QUESTION -->\n",
        "\n",
        "# Lab debrief – for consensus submission only\n",
        "\n",
        "**Question:** We're interested in any thoughts your group has about this lab so that we can improve this lab for later years, and to inform later labs for this year. Please list any issues that arose or comments you have to improve the lab. Useful things to comment on include the following: \n",
        "\n",
        "* Was the lab too long or too short?\n",
        "* Were the readings appropriate for the lab? \n",
        "* Was it clear (at least after you completed the lab) what the points of the exercises were? \n",
        "* Are there additions or changes you think would make the lab better?\n",
        "\n",
        "<!--\n",
        "BEGIN QUESTION\n",
        "name: open_response_debrief\n",
        "manual: true\n",
        "-->"
      ]
    },
    {
      "cell_type": "markdown",
      "metadata": {
        "id": "aa2af648"
      },
      "source": [
        "_Type your answer here, replacing this text._"
      ]
    },
    {
      "cell_type": "markdown",
      "metadata": {
        "id": "7s2rZgRhyqb2"
      },
      "source": [
        "<!-- END QUESTION -->\n",
        "\n",
        "\n",
        "\n",
        "# End of lab 1-2"
      ]
    },
    {
      "cell_type": "markdown",
      "metadata": {
        "deletable": false,
        "editable": false,
        "id": "a3afb02d"
      },
      "source": [
        "---\n",
        "\n",
        "To double-check your work, the cell below will rerun all of the autograder tests."
      ]
    },
    {
      "cell_type": "code",
      "metadata": {
        "deletable": false,
        "editable": false,
        "colab": {
          "base_uri": "https://localhost:8080/",
          "height": 388
        },
        "id": "c03ac370",
        "outputId": "f7b3c84b-ebff-441b-98dc-a69b47171a92"
      },
      "source": [
        "grader.check_all()"
      ],
      "execution_count": 54,
      "outputs": [
        {
          "output_type": "execute_result",
          "data": {
            "text/html": [
              "<p><strong>accuracy_maj_class_train:</strong></p>\n",
              "\n",
              "    \n",
              "    \n",
              "        <p>All tests passed!</p>\n",
              "    \n",
              "    \n",
              "\n",
              "<p><strong>accuracy_test:</strong></p>\n",
              "\n",
              "    \n",
              "    \n",
              "        <p>All tests passed!</p>\n",
              "    \n",
              "    \n",
              "\n",
              "<p><strong>accuracy_train:</strong></p>\n",
              "\n",
              "    \n",
              "    \n",
              "        <p>All tests passed!</p>\n",
              "    \n",
              "    \n",
              "\n",
              "<p><strong>get_gold:</strong></p>\n",
              "\n",
              "    \n",
              "    \n",
              "        <p>All tests passed!</p>\n",
              "    \n",
              "    \n",
              "\n",
              "<p><strong>maj_class_accuracy_guess:</strong></p>\n",
              "\n",
              "    \n",
              "    \n",
              "        <p>All tests passed!</p>\n",
              "    \n",
              "    \n",
              "\n",
              "<p><strong>maj_class_label:</strong></p>\n",
              "\n",
              "    \n",
              "    \n",
              "        <p>All tests passed!</p>\n",
              "    \n",
              "    \n",
              "\n",
              "<p><strong>majority_class:</strong></p>\n",
              "\n",
              "    \n",
              "    \n",
              "        <p>All tests passed!</p>\n",
              "    \n",
              "    \n",
              "\n",
              "<p><strong>majority_class_label:</strong></p>\n",
              "\n",
              "    \n",
              "    \n",
              "        <p>All tests passed!</p>\n",
              "    \n",
              "    \n",
              "\n"
            ],
            "text/plain": [
              "accuracy_maj_class_train:\n",
              "\n",
              "    All tests passed!\n",
              "    \n",
              "\n",
              "accuracy_test:\n",
              "\n",
              "    All tests passed!\n",
              "    \n",
              "\n",
              "accuracy_train:\n",
              "\n",
              "    All tests passed!\n",
              "    \n",
              "\n",
              "get_gold:\n",
              "\n",
              "    All tests passed!\n",
              "    \n",
              "\n",
              "maj_class_accuracy_guess:\n",
              "\n",
              "    All tests passed!\n",
              "    \n",
              "\n",
              "maj_class_label:\n",
              "\n",
              "    All tests passed!\n",
              "    \n",
              "\n",
              "majority_class:\n",
              "\n",
              "    All tests passed!\n",
              "    \n",
              "\n",
              "majority_class_label:\n",
              "\n",
              "    All tests passed!\n",
              "    \n"
            ]
          },
          "metadata": {},
          "execution_count": 54
        }
      ]
    },
    {
      "cell_type": "code",
      "metadata": {
        "id": "PQ72D0jDjLby"
      },
      "source": [
        ""
      ],
      "execution_count": null,
      "outputs": []
    }
  ]
}