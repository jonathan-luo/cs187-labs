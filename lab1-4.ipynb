{
  "nbformat": 4,
  "nbformat_minor": 0,
  "metadata": {
    "kernelspec": {
      "display_name": "Python 3",
      "language": "python",
      "name": "python3"
    },
    "language_info": {
      "codemirror_mode": {
        "name": "ipython",
        "version": 3
      },
      "file_extension": ".py",
      "mimetype": "text/x-python",
      "name": "python",
      "nbconvert_exporter": "python",
      "pygments_lexer": "ipython3",
      "version": "3.8.10"
    },
    "title": "CS187 Lab 1-4: Discriminative methods for classification",
    "colab": {
      "name": "lab1-4.ipynb",
      "provenance": []
    }
  },
  "cells": [
    {
      "cell_type": "code",
      "metadata": {
        "deletable": false,
        "editable": false,
        "jupyter": {
          "outputs_hidden": true,
          "source_hidden": true
        },
        "colab": {
          "base_uri": "https://localhost:8080/"
        },
        "id": "evhCcSk_0ElL",
        "outputId": "a4cb8816-a80f-41ed-eb1b-eb7b1971df48"
      },
      "source": [
        "# Please do not change this cell because some hidden tests might depend on it.\n",
        "import os\n",
        "\n",
        "# Otter grader does not handle ! commands well, so we define and use our\n",
        "# own function to execute shell commands.\n",
        "def shell(commands, warn=True):\n",
        "    \"\"\"Executes the string `commands` as a sequence of shell commands.\n",
        "     \n",
        "       Prints the result to stdout and returns the exit status. \n",
        "       Provides a printed warning on non-zero exit status unless `warn` \n",
        "       flag is unset.\n",
        "    \"\"\"\n",
        "    file = os.popen(commands)\n",
        "    print (file.read().rstrip('\\n'))\n",
        "    exit_status = file.close()\n",
        "    if warn and exit_status != None:\n",
        "        print(f\"Completed with errors. Exit status: {exit_status}\\n\")\n",
        "    return exit_status\n",
        "\n",
        "shell(\"\"\"\n",
        "ls requirements.txt >/dev/null 2>&1\n",
        "if [ ! $? = 0 ]; then\n",
        " rm -rf .tmp\n",
        " git clone https://github.com/cs187-2021/lab1-4.git .tmp\n",
        " mv .tmp/tests ./\n",
        " mv .tmp/requirements.txt ./\n",
        " rm -rf .tmp\n",
        "fi\n",
        "pip install -q -r requirements.txt\n",
        "\"\"\")"
      ],
      "execution_count": 1,
      "outputs": [
        {
          "output_type": "stream",
          "name": "stdout",
          "text": [
            "\n"
          ]
        }
      ]
    },
    {
      "cell_type": "code",
      "metadata": {
        "deletable": false,
        "editable": false,
        "id": "a82502e0"
      },
      "source": [
        "# Initialize Otter\n",
        "import otter\n",
        "grader = otter.Notebook()"
      ],
      "execution_count": 2,
      "outputs": []
    },
    {
      "cell_type": "raw",
      "metadata": {
        "jupyter": {
          "source_hidden": true
        },
        "id": "FHB5Zmwp0ElR"
      },
      "source": [
        "%%latex\n",
        "\\newcommand{\\vect}[1]{\\mathbf{#1}}\n",
        "\\newcommand{\\cnt}[1]{\\sharp(#1)}\n",
        "\\newcommand{\\argmax}[1]{\\underset{#1}{\\operatorname{argmax}}}\n",
        "\\newcommand{\\softmax}{\\operatorname{softmax}}\n",
        "\\newcommand{\\Prob}{\\Pr}\n",
        "\\newcommand{\\given}{\\,|\\,}"
      ]
    },
    {
      "cell_type": "markdown",
      "metadata": {
        "id": "zAqfsZEN0ElS"
      },
      "source": [
        "$$\n",
        "\\renewcommand{\\vect}[1]{\\mathbf{#1}}\n",
        "\\renewcommand{\\cnt}[1]{\\sharp(#1)}\n",
        "\\renewcommand{\\argmax}[1]{\\underset{#1}{\\operatorname{argmax}}}\n",
        "\\renewcommand{\\softmax}{\\operatorname{softmax}}\n",
        "\\renewcommand{\\Prob}{\\Pr}\n",
        "\\renewcommand{\\given}{\\,|\\,}\n",
        "$$"
      ]
    },
    {
      "cell_type": "markdown",
      "metadata": {
        "tags": [
          "remove_for_latex"
        ],
        "id": "yli6is3Q0ElU"
      },
      "source": [
        "# CS187\n",
        "## Lab 1-4 – Discriminative methods for classification"
      ]
    },
    {
      "cell_type": "markdown",
      "metadata": {
        "id": "60hw2QPj0ElV"
      },
      "source": [
        "In this lab, you'll apply a discriminative classification method to the _Federalist_ papers' authorship attribution problem, the logistic regression (perceptron) model. \n",
        "\n",
        "After this lab, you should be able to\n",
        "\n",
        "* Derive the basic equations for the logistic regression classification method;\n",
        "* Perform the forward computation to generate the class that a logistic regression model predicts for some input;\n",
        "* Calculate a loss for that prediction, the cross-entropy loss;\n",
        "* Update the parameters of a logistic regression model by stochastic gradient descent."
      ]
    },
    {
      "cell_type": "markdown",
      "metadata": {
        "id": "4JDJU9D20ElW"
      },
      "source": [
        "New bits of Python used for the first time in the _solution set_ for this lab, and which you may therefore find useful:\n",
        "\n",
        "* `numpy.exp`\n",
        "* `torch.dot`"
      ]
    },
    {
      "cell_type": "markdown",
      "metadata": {
        "id": "r7uCX07f0ElX"
      },
      "source": [
        "# Preparation – Loading packages and data"
      ]
    },
    {
      "cell_type": "code",
      "metadata": {
        "deletable": false,
        "id": "XjH0tLy20ElY"
      },
      "source": [
        "# Please do not change these imports because some hidden tests might depend on them.\n",
        "# You can add a cell below if you need to import anything else.\n",
        "import json\n",
        "import math\n",
        "import matplotlib\n",
        "import matplotlib.pyplot as plt\n",
        "matplotlib.style.use('tableau-colorblind10')\n",
        "import os\n",
        "import torch\n",
        "import wget\n",
        "\n",
        "from torch import log2\n",
        "from pprint import pprint"
      ],
      "execution_count": 3,
      "outputs": []
    },
    {
      "cell_type": "code",
      "metadata": {
        "id": "-KiXU_PM0ElZ"
      },
      "source": [
        "# Download and read the Federalist data from the json file\n",
        "os.makedirs('data', exist_ok=True)\n",
        "wget.download('https://github.com/nlp-course/data/raw/master/Federalist/federalist_data.json', out='data/')\n",
        "with open('data/federalist_data.json', 'r') as fin:\n",
        "    dataset = json.load(fin)"
      ],
      "execution_count": 4,
      "outputs": []
    },
    {
      "cell_type": "code",
      "metadata": {
        "id": "dDJlLVSl0ElZ"
      },
      "source": [
        "# As before, we tensorize the count vectors...\n",
        "for example in dataset:\n",
        "    example['counts'] = torch.tensor(example['counts']).type(torch.float)\n",
        "    \n",
        "# ...and extract the papers by either of Madison and Hamilton \n",
        "# to serve as training data....\n",
        "training = list(filter(lambda ex: ex['authors'] in ['Madison', 'Hamilton'],\n",
        "                       dataset))"
      ],
      "execution_count": 5,
      "outputs": []
    },
    {
      "cell_type": "markdown",
      "metadata": {
        "id": "UQzV9Sj40Ela"
      },
      "source": [
        "# Logistic regression\n",
        "\n",
        "You've read about logistic regression, a method for classification that is discriminative rather than generative. Like the generative Naive Bayes method, each example is characterized by a vector of features (the counts of word types for a text, say, as for the _Federalist_ example that we've been using). In logistic regression, each such feature is assigned a weight, and the score for an example is given by weighting each feature value by its weight and summing the result; that is, the score is the dot product of the feature vector and the weight vector. Let's take an example, one of the Federalist papers. We'll extract from the training data the counts for the first example in the training set. That's the feature vector for this example."
      ]
    },
    {
      "cell_type": "code",
      "metadata": {
        "colab": {
          "base_uri": "https://localhost:8080/"
        },
        "id": "FUtFtu8R0Elb",
        "outputId": "50edb62d-18dd-4c45-9848-6e79c7d62362"
      },
      "source": [
        "training0_counts = training[0]['counts']\n",
        "training0_counts"
      ],
      "execution_count": 6,
      "outputs": [
        {
          "output_type": "execute_result",
          "data": {
            "text/plain": [
              "tensor([9., 6., 2., 0.])"
            ]
          },
          "metadata": {},
          "execution_count": 6
        }
      ]
    },
    {
      "cell_type": "markdown",
      "metadata": {
        "id": "93GS1Bb90Elb"
      },
      "source": [
        "Suppose the weights for the features are as given by the following vector:"
      ]
    },
    {
      "cell_type": "code",
      "metadata": {
        "id": "iSVaA3DV0Elc"
      },
      "source": [
        "weights = torch.tensor([-.1, .2, .3, -1])"
      ],
      "execution_count": 7,
      "outputs": []
    },
    {
      "cell_type": "markdown",
      "metadata": {
        "deletable": false,
        "editable": false,
        "id": "EcJnucLV0Elc"
      },
      "source": [
        "What would the weighted sum of the counts with these weights be? Feel free to use `torch.dot` to take the dot product for you. (Alternatively, you can also use basic tensor operations such as `*` and `.sum()`.)\n",
        "<!--\n",
        "BEGIN QUESTION\n",
        "name: wtd_sum\n",
        "-->"
      ]
    },
    {
      "cell_type": "code",
      "metadata": {
        "id": "SCkYq9zz0Eld"
      },
      "source": [
        "#TODO: Take the weighted sum of `training0_counts` with `weights`\n",
        "wtd_sum = torch.dot(training0_counts, weights)"
      ],
      "execution_count": 10,
      "outputs": []
    },
    {
      "cell_type": "code",
      "metadata": {
        "deletable": false,
        "editable": false,
        "colab": {
          "base_uri": "https://localhost:8080/",
          "height": 46
        },
        "id": "8daed892",
        "outputId": "105bc35e-a7c5-4159-dad5-491d4df46994"
      },
      "source": [
        "grader.check(\"wtd_sum\")"
      ],
      "execution_count": 11,
      "outputs": [
        {
          "output_type": "execute_result",
          "data": {
            "text/html": [
              "\n",
              "    \n",
              "    \n",
              "        <p>All tests passed!</p>\n",
              "    \n",
              "    "
            ],
            "text/plain": [
              "\n",
              "    All tests passed!\n",
              "    "
            ]
          },
          "metadata": {},
          "execution_count": 11
        }
      ]
    },
    {
      "cell_type": "markdown",
      "metadata": {
        "deletable": false,
        "editable": false,
        "id": "l9IGyttB0Eld"
      },
      "source": [
        "<!-- BEGIN QUESTION -->\n",
        "\n",
        "**Question:** What is the range of possible values that such a weighted sum can take on?\n",
        "<!--\n",
        "BEGIN QUESTION\n",
        "name: open_response_possible_sums\n",
        "manual: true\n",
        "-->"
      ]
    },
    {
      "cell_type": "markdown",
      "metadata": {
        "id": "7ddddda5"
      },
      "source": [
        "The weighted sum can range from -infinity to +infinity, given that the weights are sufficiently small or large, respectively. "
      ]
    },
    {
      "cell_type": "markdown",
      "metadata": {
        "deletable": false,
        "editable": false,
        "id": "cFzFXfp20Ele"
      },
      "source": [
        "<!-- END QUESTION -->\n",
        "\n",
        "In order to have a standard way of comparing these numbers, it helps to be able to place them on a fixed scale, from 0 to 1, say. This way, they can be interpreted as probabilities. We use the _logistic function_ ($\\sigma$) to carry out this conversion:\n",
        "\n",
        "$$ \\sigma(x) = \\frac{1}{1 + e^{-k x}}$$\n",
        "\n",
        "In addition to its argument $x$, the function takes an additional parameter $k$, which we will explore shortly.\n",
        "\n",
        "Define a function `sigma` implementing the logistic function. (We've established a default value for `k` of 1 in the header line below.)\n",
        "\n",
        "> Hint: For exponentiation, you can use [the `exp` function provided by `torch`](https://pytorch.org/docs/stable/generated/torch.exp.html).\n",
        "<!--\n",
        "BEGIN QUESTION\n",
        "name: sigma\n",
        "-->"
      ]
    },
    {
      "cell_type": "code",
      "metadata": {
        "id": "YLCR6gMk0Ele"
      },
      "source": [
        "#TODO: Implement the logistic function.\n",
        "def sigma(x, k=1):\n",
        "    \"\"\"Computes sigma(x) = 1 / (1 + exp(-kx)).\n",
        "    Arguments:\n",
        "      x: a tensor\n",
        "    Returns: sigma applied to each element of x\"\"\"\n",
        "    return 1 / (1 + torch.exp(-k * x))"
      ],
      "execution_count": 12,
      "outputs": []
    },
    {
      "cell_type": "code",
      "metadata": {
        "deletable": false,
        "editable": false,
        "colab": {
          "base_uri": "https://localhost:8080/",
          "height": 46
        },
        "id": "703c40cd",
        "outputId": "0a56170d-f68f-46b6-b828-bf801db25f4b"
      },
      "source": [
        "grader.check(\"sigma\")"
      ],
      "execution_count": 13,
      "outputs": [
        {
          "output_type": "execute_result",
          "data": {
            "text/html": [
              "\n",
              "    \n",
              "    \n",
              "        <p>All tests passed!</p>\n",
              "    \n",
              "    "
            ],
            "text/plain": [
              "\n",
              "    All tests passed!\n",
              "    "
            ]
          },
          "metadata": {},
          "execution_count": 13
        }
      ]
    },
    {
      "cell_type": "markdown",
      "metadata": {
        "id": "jMw4zJ1f0Elf"
      },
      "source": [
        "To get a sense of the logistic function, we graph it for several values of $k$."
      ]
    },
    {
      "cell_type": "code",
      "metadata": {
        "colab": {
          "base_uri": "https://localhost:8080/",
          "height": 281
        },
        "id": "t42kzhlS0Elf",
        "outputId": "8814fced-8ede-4bb8-ed4a-0a2410b407d7"
      },
      "source": [
        "def sigma_plot():\n",
        "    x = torch.linspace(-2, 2, 100)\n",
        "    fig, ax = plt.subplots()\n",
        "    for k in [0, 1, 2, 10]:\n",
        "        ax.plot(x, sigma(x, k), label = f\"k = {k}\")\n",
        "    plt.title(\"Logistic functions\")\n",
        "    plt.legend()\n",
        "    \n",
        "sigma_plot()"
      ],
      "execution_count": 16,
      "outputs": [
        {
          "output_type": "display_data",
          "data": {
            "image/png": "[encoded data removed]",
            "text/plain": [
              "<Figure size 432x288 with 1 Axes>"
            ]
          },
          "metadata": {
            "needs_background": "light"
          }
        }
      ]
    },
    {
      "cell_type": "markdown",
      "metadata": {
        "deletable": false,
        "editable": false,
        "id": "avh4qw2X0Elg"
      },
      "source": [
        "<!-- BEGIN QUESTION -->\n",
        "\n",
        "**Question:** What does the $k$ parameter do to the logistic function?\n",
        "<!--\n",
        "BEGIN QUESTION\n",
        "manual: true\n",
        "name: open_response_k\n",
        "-->"
      ]
    },
    {
      "cell_type": "markdown",
      "metadata": {
        "id": "f36d5ea4"
      },
      "source": [
        "Increasing the k parameter increases, the slope of the middle, increasing section."
      ]
    },
    {
      "cell_type": "markdown",
      "metadata": {
        "deletable": false,
        "editable": false,
        "id": "KdTte84F0Elg"
      },
      "source": [
        "<!-- END QUESTION -->\n",
        "\n",
        "<!-- BEGIN QUESTION -->\n",
        "\n",
        "**Question:** In the figure, the logistic function looks to be radially symmetric. In particular, it appears that $\\sigma(x) = 1 - \\sigma(-x)$. (If so, we can use a simple thresholding for classificiation purposes, $\\sigma(x) > 0.5$ to capture $x > 0$.)\n",
        "\n",
        "Prove the identity $\\sigma(x) = 1 - \\sigma(-x)$.\n",
        "\n",
        "> Hint: *Don't* get hung up on this problem during the lab session. You can always come back to it later.\n",
        "\n",
        "<!--\n",
        "BEGIN QUESTION\n",
        "manual: true\n",
        "name: open_response_sigma_identity\n",
        "-->"
      ]
    },
    {
      "cell_type": "markdown",
      "metadata": {
        "id": "397d58a6"
      },
      "source": [
        "(Submit proof later)"
      ]
    },
    {
      "cell_type": "markdown",
      "metadata": {
        "id": "2E_uJUxu0Elh"
      },
      "source": [
        "<!-- END QUESTION -->\n",
        "\n",
        "\n",
        "\n",
        "The logistic function, when applied to the weighted average above is greater than 0.5."
      ]
    },
    {
      "cell_type": "code",
      "metadata": {
        "colab": {
          "base_uri": "https://localhost:8080/"
        },
        "id": "QfMMLqkA0Elh",
        "outputId": "8c95a1df-2326-429f-91b2-205bea5b1e02"
      },
      "source": [
        "sigma(wtd_sum)"
      ],
      "execution_count": 18,
      "outputs": [
        {
          "output_type": "execute_result",
          "data": {
            "text/plain": [
              "tensor(0.7109)"
            ]
          },
          "metadata": {},
          "execution_count": 18
        }
      ]
    },
    {
      "cell_type": "markdown",
      "metadata": {
        "deletable": false,
        "editable": false,
        "id": "TPaQHqRR0Elh"
      },
      "source": [
        "In the _Federalist Papers_ classification problem, there are only two classes, so we can use this single value to determine the classification. For an input feature vector $\\vect{x}$ and weight vector $\\vect{w}$, we'll take the model to predict the probability of the author being Hamilton (say), as\n",
        "\n",
        "$$\\Prob(\\mathrm{Hamilton} \\given \\mathbf{x}) = \\sigma(\\mathbf{w} \\cdot \\mathbf{x})$$\n",
        "\n",
        "Therefore, \n",
        "\n",
        "$$\\Prob(\\mathrm{Madison} \\given \\mathbf{x}) = 1 - \\sigma(\\mathbf{w} \\cdot \\mathbf{x})$$\n",
        "\n",
        "since there are only two classes.\n",
        "\n",
        "> When there are more than two classes, we'd use a generalization of the sigmoid function, called [softmax](https://en.wikipedia.org/wiki/Softmax_function).\n",
        "\n",
        "Define a function `predict_lr` that calculates the probability of Hamilton being the author of an example text, given a weight vector and the feature vector for the example text.\n",
        "<!--\n",
        "BEGIN QUESTION\n",
        "name: predict_lr\n",
        "-->"
      ]
    },
    {
      "cell_type": "code",
      "metadata": {
        "id": "Sgjkefou0Elh"
      },
      "source": [
        "#TODO: Calculate the probability of Hamilton being the author\n",
        "def predict_lr(weights, features):\n",
        "    return sigma(torch.dot(weights, features))"
      ],
      "execution_count": 19,
      "outputs": []
    },
    {
      "cell_type": "markdown",
      "metadata": {
        "id": "qJ0pB7Lv0Eli"
      },
      "source": [
        "This is the *forward computation* for the logistic regression model, calculating its output prediction from some inputs. Next we turn to the *backward computation*, calculating the updates to the parameters based on any error in the predicted output, as measured by a loss function."
      ]
    },
    {
      "cell_type": "markdown",
      "metadata": {
        "id": "0751fQqG0Eli"
      },
      "source": [
        "# Using a logistic regression model to predict Federalist authorship"
      ]
    },
    {
      "cell_type": "markdown",
      "metadata": {
        "id": "HjDk9F7S0Eli"
      },
      "source": [
        "Consider the following two training examples (examples 0 and 9) from the _Federalist_ training dataset:"
      ]
    },
    {
      "cell_type": "code",
      "metadata": {
        "colab": {
          "base_uri": "https://localhost:8080/"
        },
        "id": "WTMgmp6k0Eli",
        "outputId": "e11dcc9a-c39c-4ec0-df04-ddf940a3e580"
      },
      "source": [
        "for example in [0, 9]:\n",
        "    pprint(training[example])"
      ],
      "execution_count": 20,
      "outputs": [
        {
          "output_type": "stream",
          "name": "stdout",
          "text": [
            "{'authors': 'Hamilton',\n",
            " 'counts': tensor([9., 6., 2., 0.]),\n",
            " 'number': '1',\n",
            " 'title': 'General Introduction'}\n",
            "{'authors': 'Madison',\n",
            " 'counts': tensor([17.,  0.,  0.,  1.]),\n",
            " 'number': '14',\n",
            " 'title': 'Objections to the Proposed Constitution from Extent of Territory '\n",
            "          'Answered'}\n"
          ]
        }
      ]
    },
    {
      "cell_type": "markdown",
      "metadata": {
        "id": "3F0HfEf10Elj"
      },
      "source": [
        "As above, a logistic regression model is defined by a vector of weights $\\mathbf{w}$, like these:"
      ]
    },
    {
      "cell_type": "code",
      "metadata": {
        "colab": {
          "base_uri": "https://localhost:8080/"
        },
        "id": "0L2m8xdK0Elj",
        "outputId": "654f5ef1-cb3e-425b-f396-04671b2e93be"
      },
      "source": [
        "weights"
      ],
      "execution_count": 21,
      "outputs": [
        {
          "output_type": "execute_result",
          "data": {
            "text/plain": [
              "tensor([-0.1000,  0.2000,  0.3000, -1.0000])"
            ]
          },
          "metadata": {},
          "execution_count": 21
        }
      ]
    },
    {
      "cell_type": "markdown",
      "metadata": {
        "deletable": false,
        "editable": false,
        "id": "Kc5FzvEq0Elj"
      },
      "source": [
        "Calculate the predicted Hamilton probabilities for the two examples (examples 0 and 9) above.\n",
        "<!--\n",
        "BEGIN QUESTION\n",
        "name: prob_hamilton_examples\n",
        "-->"
      ]
    },
    {
      "cell_type": "code",
      "metadata": {
        "id": "aDo4RQ7J0Elj"
      },
      "source": [
        "#TODO\n",
        "prob_hamilton_example0 = predict_lr(weights, training0_counts)\n",
        "prob_hamilton_example9 = predict_lr(weights, training[9]['counts'])"
      ],
      "execution_count": 22,
      "outputs": []
    },
    {
      "cell_type": "code",
      "metadata": {
        "deletable": false,
        "editable": false,
        "colab": {
          "base_uri": "https://localhost:8080/",
          "height": 46
        },
        "id": "9465cce0",
        "outputId": "3b73b640-e52e-41d5-f30f-53d37a5217a1"
      },
      "source": [
        "grader.check(\"prob_hamilton_examples\")"
      ],
      "execution_count": 23,
      "outputs": [
        {
          "output_type": "execute_result",
          "data": {
            "text/html": [
              "\n",
              "    \n",
              "    \n",
              "        <p>All tests passed!</p>\n",
              "    \n",
              "    "
            ],
            "text/plain": [
              "\n",
              "    All tests passed!\n",
              "    "
            ]
          },
          "metadata": {},
          "execution_count": 23
        }
      ]
    },
    {
      "cell_type": "code",
      "metadata": {
        "colab": {
          "base_uri": "https://localhost:8080/"
        },
        "id": "flaDRF3W0Elk",
        "outputId": "36ca5715-6aa7-4b1c-d75f-897c7174f1e4"
      },
      "source": [
        "print(f\"example 0 prob of Hamilton: {prob_hamilton_example0:.3f}\\n\"\n",
        "      f\"example 9 prob of Hamilton: {prob_hamilton_example9:.3f}\")"
      ],
      "execution_count": 24,
      "outputs": [
        {
          "output_type": "stream",
          "name": "stdout",
          "text": [
            "example 0 prob of Hamilton: 0.711\n",
            "example 9 prob of Hamilton: 0.063\n"
          ]
        }
      ]
    },
    {
      "cell_type": "markdown",
      "metadata": {
        "deletable": false,
        "editable": false,
        "id": "Zi_CJ6zg0Elk"
      },
      "source": [
        "<!-- BEGIN QUESTION -->\n",
        "\n",
        "**Question:** What does this model predict about the two training examples? Is it correct?\n",
        "<!--\n",
        "BEGIN QUESTION\n",
        "name: open_response_original_model_prediction\n",
        "manual: true\n",
        "-->"
      ]
    },
    {
      "cell_type": "markdown",
      "metadata": {
        "id": "d16241b3"
      },
      "source": [
        "It appears that it is pretty accurate -- it gives a high probability for example 0, which is written by Hamilton, and a low probability for example 9, which is not."
      ]
    },
    {
      "cell_type": "markdown",
      "metadata": {
        "id": "RidNLV2m0Elk"
      },
      "source": [
        "<!-- END QUESTION -->\n",
        "\n",
        "\n",
        "\n",
        "# Training a logistic regression model\n",
        "\n",
        "Of course, this is just one of a gazillion models (weight vectors), since we could have set the weights in all kinds of ways. How should we come up with a _good_ model, i.e., a good setting of the weights? Ideally, we'd try to find a set of weights that predicts all of the training data well. This is the problem of _training_ a logistic regression model. Let's try another set of weights:"
      ]
    },
    {
      "cell_type": "code",
      "metadata": {
        "id": "hGd-KoIM0Ell"
      },
      "source": [
        "weights_new = torch.tensor([0.1, 0.2, 0.3, -5.])"
      ],
      "execution_count": 25,
      "outputs": []
    },
    {
      "cell_type": "markdown",
      "metadata": {
        "deletable": false,
        "editable": false,
        "id": "sVT3SAW70Ell"
      },
      "source": [
        "Calculate the probabilities generated by the model for these weights.\n",
        "<!--\n",
        "BEGIN QUESTION\n",
        "name: prob_hamilton_examples_new\n",
        "-->"
      ]
    },
    {
      "cell_type": "code",
      "metadata": {
        "id": "Crcu-pJO0Ell"
      },
      "source": [
        "#TODO\n",
        "prob_hamilton_example0_new = predict_lr(weights_new, training0_counts)\n",
        "prob_hamilton_example9_new = predict_lr(weights_new, training[9]['counts'])"
      ],
      "execution_count": 27,
      "outputs": []
    },
    {
      "cell_type": "code",
      "metadata": {
        "deletable": false,
        "editable": false,
        "colab": {
          "base_uri": "https://localhost:8080/",
          "height": 46
        },
        "id": "30ac9fe7",
        "outputId": "a9fb6993-8bce-4688-ed3f-1711e9ecdb60"
      },
      "source": [
        "grader.check(\"prob_hamilton_examples_new\")"
      ],
      "execution_count": 28,
      "outputs": [
        {
          "output_type": "execute_result",
          "data": {
            "text/html": [
              "\n",
              "    \n",
              "    \n",
              "        <p>All tests passed!</p>\n",
              "    \n",
              "    "
            ],
            "text/plain": [
              "\n",
              "    All tests passed!\n",
              "    "
            ]
          },
          "metadata": {},
          "execution_count": 28
        }
      ]
    },
    {
      "cell_type": "code",
      "metadata": {
        "colab": {
          "base_uri": "https://localhost:8080/"
        },
        "id": "KwFx4cII0Ell",
        "outputId": "42e6f2e5-4900-440d-ed88-cb8c9c603ddc"
      },
      "source": [
        "print(f\"example 0 prob: {prob_hamilton_example0_new:.3f}\\n\" \n",
        "      f\"example 9 prob: {prob_hamilton_example9_new:.3f}\")"
      ],
      "execution_count": 29,
      "outputs": [
        {
          "output_type": "stream",
          "name": "stdout",
          "text": [
            "example 0 prob: 0.937\n",
            "example 9 prob: 0.036\n"
          ]
        }
      ]
    },
    {
      "cell_type": "markdown",
      "metadata": {
        "deletable": false,
        "editable": false,
        "id": "YkFlb00L0Ell"
      },
      "source": [
        "<!-- BEGIN QUESTION -->\n",
        "\n",
        "**Question:**  Is this a better model, a worse model, or neither, at least as far as the two sample examples are concerned? \n",
        "<!--\n",
        "BEGIN QUESTION\n",
        "name: open_response_new_model_prediction\n",
        "manual: true\n",
        "-->"
      ]
    },
    {
      "cell_type": "markdown",
      "metadata": {
        "id": "6f5f27d3"
      },
      "source": [
        "It appears to be a better model, relatively speaking, since it gives an even higher probability for example 0, which is written by Hamilton, and an even lower probability for example 9, which is not. More test data is needed to accurately assess the model's performance, however."
      ]
    },
    {
      "cell_type": "markdown",
      "metadata": {
        "id": "6gjj6SCl0Elm"
      },
      "source": [
        "<!-- END QUESTION -->\n",
        "\n",
        "\n",
        "\n",
        "An ideal model would give a probability of 1 to the Hamilton examples and a 0 to the Madison examples.\n",
        "For the two sample examples, you'll have noticed that the new weights generate not 1 and 0, respectively, but numbers quite a bit closer to 1 and 0.\n",
        "\n",
        "We could continue trying different weight values to try to improve the performance of the model on these training examples (and others) by trial and error, but a more systematic method is needed. We define a *loss function*, which specifies how bad a model is, and try to minimize the loss function by *stochastic gradient descent*.\n",
        "\n",
        "We'll do a few steps of the process here by hand. It's sufficiently tedious that it's far better to deploy computers on the task, which we'll do in the next lab.\n",
        "\n",
        "# Cross-entropy loss function\n",
        "\n",
        "We'll use the cross-entropy loss function. For an example $i$, we'll use $\\mathbf{x}^{(i)}$ for the feature vector, and $y^{(i)}$ for the actual (gold) label (1 or 0, 1 for Hamilton and 0 for Madison). The predicted probability of the label for the $i$-th example being 1 will be as per the logistic regression model $\\sigma(\\mathbf{w} \\cdot \\mathbf{x}^{(i)})$, which we will call $\\hat{y}^{(i)}$.\n",
        "\n",
        "The cross-entropy loss for example $i$ as per a model $\\mathbf{w}$ is\n",
        "$$L_{CE}(\\mathbf{w}) = -(y^{(i)} \\log \\hat{y}^{(i)} + (1-y^{(i)}) \\log (1-\\hat{y}^{(i)}))$$\n",
        "\n"
      ]
    },
    {
      "cell_type": "markdown",
      "metadata": {
        "deletable": false,
        "editable": false,
        "id": "ml5bNyIO0Elm"
      },
      "source": [
        "<!-- BEGIN QUESTION -->\n",
        "\n",
        "**Question:** What is the minimum possible value of the cross-entropy loss above? When is that achieved? (Note that while $0\\log 0$ is undefined, $\\lim_{x\\to0^{+}}x\\log x=0$.)\n",
        "<!--\n",
        "BEGIN QUESTION\n",
        "name: open_response_ce_loss\n",
        "manual: true\n",
        "-->"
      ]
    },
    {
      "cell_type": "markdown",
      "metadata": {
        "id": "59d4cc6c"
      },
      "source": [
        "The minimum possible value of the cross-entropy loss is 0, since an ideal model should have 0 loss."
      ]
    },
    {
      "cell_type": "markdown",
      "metadata": {
        "id": "byPyODKm0Elm"
      },
      "source": [
        "<!-- END QUESTION -->\n",
        "\n",
        "\n",
        "\n",
        "We define a function to compute the cross-entropy loss for a particular model (weight vector), example (feature vector), and gold label:"
      ]
    },
    {
      "cell_type": "code",
      "metadata": {
        "id": "D0qHzYfR0Eln"
      },
      "source": [
        "def loss(weights, features, correct):\n",
        "    \"\"\"Returns the cross-entropy loss for a weight vector, a feature\n",
        "       vector and a gold label `correct`.\"\"\"\n",
        "    y_hat = predict_lr(weights, features)\n",
        "    return -(correct * log2(y_hat)\n",
        "             + (1 - correct) * log2(1 - y_hat))"
      ],
      "execution_count": 30,
      "outputs": []
    },
    {
      "cell_type": "markdown",
      "metadata": {
        "deletable": false,
        "editable": false,
        "id": "LYFxvzBD0Eln"
      },
      "source": [
        "Use the `loss` function to determine the cross-entropy loss for example 0 for the original model that we used (`weights`), and for the new model (`weights_new`).\n",
        "<!--\n",
        "BEGIN QUESTION\n",
        "name: loss_example0_old_and_new\n",
        "-->"
      ]
    },
    {
      "cell_type": "code",
      "metadata": {
        "id": "aFif2qS80Eln"
      },
      "source": [
        "#TODO: Calculate loss for training[0] under `weights` and `weights_new`\n",
        "loss_example0_old = loss(weights, training0_counts, 1)\n",
        "loss_example0_new = loss(weights_new, training0_counts, 1)"
      ],
      "execution_count": 31,
      "outputs": []
    },
    {
      "cell_type": "code",
      "metadata": {
        "deletable": false,
        "editable": false,
        "colab": {
          "base_uri": "https://localhost:8080/",
          "height": 46
        },
        "id": "084c5433",
        "outputId": "20186104-debc-4380-a56d-83db8e488039"
      },
      "source": [
        "grader.check(\"loss_example0_old_and_new\")"
      ],
      "execution_count": 32,
      "outputs": [
        {
          "output_type": "execute_result",
          "data": {
            "text/html": [
              "\n",
              "    \n",
              "    \n",
              "        <p>All tests passed!</p>\n",
              "    \n",
              "    "
            ],
            "text/plain": [
              "\n",
              "    All tests passed!\n",
              "    "
            ]
          },
          "metadata": {},
          "execution_count": 32
        }
      ]
    },
    {
      "cell_type": "code",
      "metadata": {
        "colab": {
          "base_uri": "https://localhost:8080/"
        },
        "id": "14M8tmma0Elo",
        "outputId": "4e170f7b-3748-496a-a819-1d8cbbf05d32"
      },
      "source": [
        "print(f\"Old model loss: {loss_example0_old:.3f}\\n\"\n",
        "      f\"New model loss: {loss_example0_new:.3f}\")"
      ],
      "execution_count": 33,
      "outputs": [
        {
          "output_type": "stream",
          "name": "stdout",
          "text": [
            "Old model loss: 0.492\n",
            "New model loss: 0.094\n"
          ]
        }
      ]
    },
    {
      "cell_type": "markdown",
      "metadata": {
        "deletable": false,
        "editable": false,
        "id": "QfBQoheR0Elo"
      },
      "source": [
        "<!-- BEGIN QUESTION -->\n",
        "\n",
        "**Question:** Which of the models is better (at least on this example)?\n",
        "<!--\n",
        "BEGIN QUESTION\n",
        "name: open_response_loss_on_example\n",
        "manual: true\n",
        "-->"
      ]
    },
    {
      "cell_type": "markdown",
      "metadata": {
        "id": "9a1b0600"
      },
      "source": [
        "At least, in this example, the new model appears to be the better model, since it has a smaller loss value."
      ]
    },
    {
      "cell_type": "markdown",
      "metadata": {
        "id": "ZrMyXx5I0Elo"
      },
      "source": [
        "<!-- END QUESTION -->\n",
        "\n",
        "\n",
        "\n",
        "# Optimizing the weights with the gradient of the loss function\n",
        "\n",
        "We want to find the weights that minimize the loss function. We use gradient descent:\n",
        "\n",
        "1. Find the gradient of the loss function, the direction in which it is increasing fastest.\n",
        "2. Take a step in the opposite direction.\n",
        "3. Repeat.\n",
        "\n",
        "For cross-entropy loss, recall that the partial derivative of the loss function with respect to a single weight $w_j$ is\n",
        "\n",
        "$$ \\frac{\\partial L_{CE}(\\mathbf{w})}{\\partial w_j} = (\\hat{y} - y) \\cdot x_j $$\n",
        "\n",
        "> At the end of this subsection, we give a problem that explores how this gradient is derived, but you can just assume it for the time being.\n",
        "\n",
        "The gradient combines these partial derivatives for all of the weights.\n",
        "\n",
        "$$ \\nabla L_{CE}(\\mathbf{w}) = \\left[ \\begin{array}{c}\n",
        "    \\frac{\\partial L_{CE}(\\mathbf{w})}{\\partial w_1}\\\\\n",
        "    \\frac{\\partial L_{CE}(\\mathbf{w})}{\\partial w_2}\\\\\n",
        "    \\vdots \\\\\n",
        "    \\frac{\\partial L_{CE}(\\mathbf{w})}{\\partial w_m}\n",
        "    \\end{array} \\right] $$\n",
        "\n",
        "Let's work out an example, using example 0. The counts for example 0 are"
      ]
    },
    {
      "cell_type": "code",
      "metadata": {
        "colab": {
          "base_uri": "https://localhost:8080/"
        },
        "id": "kJ57uPLv0Elp",
        "outputId": "8776ca51-3908-4a96-d26f-feccc1767709"
      },
      "source": [
        "training[0]['counts']"
      ],
      "execution_count": 34,
      "outputs": [
        {
          "output_type": "execute_result",
          "data": {
            "text/plain": [
              "tensor([9., 6., 2., 0.])"
            ]
          },
          "metadata": {},
          "execution_count": 34
        }
      ]
    },
    {
      "cell_type": "markdown",
      "metadata": {
        "id": "ZkCdP3Sh0Elp"
      },
      "source": [
        "and the original weights, recall, were"
      ]
    },
    {
      "cell_type": "code",
      "metadata": {
        "colab": {
          "base_uri": "https://localhost:8080/"
        },
        "id": "sM_3PvZV0Elp",
        "outputId": "a04f21f6-e956-4a41-e96b-1c1cacb3e198"
      },
      "source": [
        "weights"
      ],
      "execution_count": 35,
      "outputs": [
        {
          "output_type": "execute_result",
          "data": {
            "text/plain": [
              "tensor([-0.1000,  0.2000,  0.3000, -1.0000])"
            ]
          },
          "metadata": {},
          "execution_count": 35
        }
      ]
    },
    {
      "cell_type": "markdown",
      "metadata": {
        "deletable": false,
        "editable": false,
        "id": "uAlWMkhF0Elp"
      },
      "source": [
        "What is the gradient vector for these `weights` and training example `training[0]`?\n",
        "<!--\n",
        "BEGIN QUESTION\n",
        "name: grad_vector\n",
        "-->"
      ]
    },
    {
      "cell_type": "code",
      "metadata": {
        "colab": {
          "base_uri": "https://localhost:8080/"
        },
        "id": "YH1XPOip0Elp",
        "outputId": "3330928d-7317-4bf6-dd12-723a283c1d68"
      },
      "source": [
        "grad_vector = (prob_hamilton_example0 - 1) * training0_counts\n",
        "grad_vector"
      ],
      "execution_count": 37,
      "outputs": [
        {
          "output_type": "execute_result",
          "data": {
            "text/plain": [
              "tensor([-2.6015, -1.7343, -0.5781, -0.0000])"
            ]
          },
          "metadata": {},
          "execution_count": 37
        }
      ]
    },
    {
      "cell_type": "code",
      "metadata": {
        "deletable": false,
        "editable": false,
        "colab": {
          "base_uri": "https://localhost:8080/",
          "height": 46
        },
        "id": "ccc0e6f5",
        "outputId": "4b62a77f-675a-458c-d78d-20d5d3b58e58"
      },
      "source": [
        "grader.check(\"grad_vector\")"
      ],
      "execution_count": 38,
      "outputs": [
        {
          "output_type": "execute_result",
          "data": {
            "text/html": [
              "\n",
              "    \n",
              "    \n",
              "        <p>All tests passed!</p>\n",
              "    \n",
              "    "
            ],
            "text/plain": [
              "\n",
              "    All tests passed!\n",
              "    "
            ]
          },
          "metadata": {},
          "execution_count": 38
        }
      ]
    },
    {
      "cell_type": "markdown",
      "metadata": {
        "deletable": false,
        "editable": false,
        "id": "V3edGk0g0Elq"
      },
      "source": [
        "<!-- BEGIN QUESTION -->\n",
        "\n",
        "## Deriving the gradient of the cross-entropy loss\n",
        "\n",
        "> You should skip this section until after you've done the rest of the lab.\n",
        "\n",
        "Jurafsky and Martin provide a derivation for the cross-entropy loss in their section 5.8. There, they note that the derivation relies on the salutary fact that the derivative of the sigmoid has an especially simple form:\n",
        "\n",
        "$$ \\frac{d \\sigma(z)}{dz} = \\sigma(z) \\cdot (1 - \\sigma(z)) $$\n",
        "\n",
        "**Question:** Prove this identity. For simplicity, you can assume that $k=1$.\n",
        "\n",
        "> **Hint:** You may find some of the following standard formulas for the derivative of various functions – reviewed from your calculus course – useful. (In these schematic identities, $u$ and $v$ are metavariables over functions of $z$, and $a$ and $n$ are metavariables over constants.)\n",
        "\n",
        "\n",
        "\\begin{align*}\n",
        "\\frac{d}{dz} a &= 0 \\\\\n",
        "\\frac{d}{dz} (u + v) &= \\frac{du}{dz} + \\frac{dv}{dz} \\\\\n",
        "\\frac{d}{dz} (u\\,v) &= v\\frac{du}{dz} + u\\frac{dv}{dz} \\\\\n",
        "\\frac{d}{dz} \\left[\\frac{1}{u}\\right] &= - \\frac{1}{u^2} \\frac{du}{dz} \\\\\n",
        "\\frac{d}{dz} u^n &= n u^{n-1} \\frac{du}{dz} \\\\\n",
        "\\frac{d}{dz} e^u &= e^u \\frac{du}{dz} \\\\\n",
        "\\frac{d}{dz} \\log_a u &= (\\log_a e) \\frac{1}{u} \\frac{du}{dz} \n",
        "\\end{align*}\n",
        "\n",
        "\n",
        "<!--\n",
        "BEGIN QUESTION\n",
        "manual: true\n",
        "name: open_response_sigmoid_gradient\n",
        "-->"
      ]
    },
    {
      "cell_type": "markdown",
      "metadata": {
        "id": "52a50dea"
      },
      "source": [
        "![Lab1-4 Proof 2.PNG](data:image/png;base64,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)\n"
      ]
    },
    {
      "cell_type": "markdown",
      "metadata": {
        "id": "6eo3Hg630Elq"
      },
      "source": [
        "<!-- END QUESTION -->\n",
        "\n",
        "\n",
        "\n",
        "## Adjusting weights against the gradient\n",
        "\n",
        "Step 2 is to adjust the weights in the _opposite_ direction of the gradient.\n",
        "In this case, we compute the new weight vector $\\mathbf{w}'$ by adding to the weight vector a fraction of the negative gradient:\n",
        "\n",
        "$$ \\mathbf{w}' = \\mathbf{w} - \\eta \\nabla L_{CE}(\\mathbf{w}) $$\n",
        "\n",
        "Here, $\\eta$ is the _learning rate_. The larger $\\eta$ is, the more we move in each step, but if $\\eta$ is too large we risk overshooting. We'll use a learning rate of 0.1 for now. (Setting good learning rates is one aspect of the black arts of machine learning.)"
      ]
    },
    {
      "cell_type": "code",
      "metadata": {
        "id": "1zuo8S580Elr"
      },
      "source": [
        "learning_rate = 0.1"
      ],
      "execution_count": 39,
      "outputs": []
    },
    {
      "cell_type": "markdown",
      "metadata": {
        "deletable": false,
        "editable": false,
        "id": "3KZtZo0l0Elr"
      },
      "source": [
        "Calculate the new weight vector using `learning_rate` and `grad_vector`. Use `weights` (instead of `weights_new`) as the initial weights.\n",
        "<!--\n",
        "BEGIN QUESTION\n",
        "name: weights_updated\n",
        "-->"
      ]
    },
    {
      "cell_type": "code",
      "metadata": {
        "id": "fg7Ifdwt0Elr"
      },
      "source": [
        "weights_updated = weights - learning_rate * grad_vector"
      ],
      "execution_count": 41,
      "outputs": []
    },
    {
      "cell_type": "code",
      "metadata": {
        "deletable": false,
        "editable": false,
        "colab": {
          "base_uri": "https://localhost:8080/",
          "height": 46
        },
        "id": "4062944f",
        "outputId": "b4880ef4-db0e-40d9-9245-c7cef4564e19"
      },
      "source": [
        "grader.check(\"weights_updated\")"
      ],
      "execution_count": 42,
      "outputs": [
        {
          "output_type": "execute_result",
          "data": {
            "text/html": [
              "\n",
              "    \n",
              "    \n",
              "        <p>All tests passed!</p>\n",
              "    \n",
              "    "
            ],
            "text/plain": [
              "\n",
              "    All tests passed!\n",
              "    "
            ]
          },
          "metadata": {},
          "execution_count": 42
        }
      ]
    },
    {
      "cell_type": "code",
      "metadata": {
        "colab": {
          "base_uri": "https://localhost:8080/"
        },
        "id": "ucRYa1Ny0Elr",
        "outputId": "5777e436-2744-4eb6-b573-4530351d2353"
      },
      "source": [
        "print(weights_updated)"
      ],
      "execution_count": 43,
      "outputs": [
        {
          "output_type": "stream",
          "name": "stdout",
          "text": [
            "tensor([ 0.1601,  0.3734,  0.3578, -1.0000])\n"
          ]
        }
      ]
    },
    {
      "cell_type": "markdown",
      "metadata": {
        "id": "M12lIOyL0Elr"
      },
      "source": [
        "How do these weights perform on the training example we've been using? Let's see."
      ]
    },
    {
      "cell_type": "code",
      "metadata": {
        "id": "gPvNvduN0Els"
      },
      "source": [
        "loss_example0_updated = loss(weights_updated, training[0]['counts'], 1)"
      ],
      "execution_count": 44,
      "outputs": []
    },
    {
      "cell_type": "code",
      "metadata": {
        "colab": {
          "base_uri": "https://localhost:8080/"
        },
        "id": "ukQt_e8E0Els",
        "outputId": "8751c8c9-497a-48a1-8ce1-3dfee0ca4897"
      },
      "source": [
        "print(f\"Old model loss: {loss_example0_old:.3f}\\n\"\n",
        "      f\"New model loss: {loss_example0_new:.3f}\\n\"\n",
        "      f\"Updated model loss: {loss_example0_updated:.3f}\")"
      ],
      "execution_count": 45,
      "outputs": [
        {
          "output_type": "stream",
          "name": "stdout",
          "text": [
            "Old model loss: 0.492\n",
            "New model loss: 0.094\n",
            "Updated model loss: 0.018\n"
          ]
        }
      ]
    },
    {
      "cell_type": "markdown",
      "metadata": {
        "deletable": false,
        "editable": false,
        "id": "b2Lui_J20Els"
      },
      "source": [
        "If you did this all right, the loss for the updated model, which was generated by taking a single step opposite the gradient from the old model is not only better than the old model, but better than the new model we used above as well. \n",
        "\n",
        "What about the loss on the other example we've been using (example 9)? Calculate the loss for example 9 with the old model (`weights`), the new model (`weights_new`), and the updated model (`weights_updated`):\n",
        "<!--\n",
        "BEGIN QUESTION\n",
        "name: weights_updated_9\n",
        "-->"
      ]
    },
    {
      "cell_type": "code",
      "metadata": {
        "id": "_8tYZk800Elt"
      },
      "source": [
        "#TODO\n",
        "loss_example9_old = loss(weights, training[9]['counts'], 0)\n",
        "loss_example9_new = loss(weights_new, training[9]['counts'], 0)\n",
        "loss_example9_updated = loss(weights_updated, training[9]['counts'], 0)"
      ],
      "execution_count": 46,
      "outputs": []
    },
    {
      "cell_type": "code",
      "metadata": {
        "deletable": false,
        "editable": false,
        "colab": {
          "base_uri": "https://localhost:8080/",
          "height": 46
        },
        "id": "059d35ea",
        "outputId": "732b962a-f32c-4fba-8cb4-beaaec84bbd2"
      },
      "source": [
        "grader.check(\"weights_updated_9\")"
      ],
      "execution_count": 47,
      "outputs": [
        {
          "output_type": "execute_result",
          "data": {
            "text/html": [
              "\n",
              "    \n",
              "    \n",
              "        <p>All tests passed!</p>\n",
              "    \n",
              "    "
            ],
            "text/plain": [
              "\n",
              "    All tests passed!\n",
              "    "
            ]
          },
          "metadata": {},
          "execution_count": 47
        }
      ]
    },
    {
      "cell_type": "code",
      "metadata": {
        "colab": {
          "base_uri": "https://localhost:8080/"
        },
        "id": "RHdRwjCl0Elt",
        "outputId": "f8b6ebbf-2ba4-4147-ebb7-ed7fbc49b28d"
      },
      "source": [
        "print(f\"Old model loss: {loss_example9_old:.3f}\\n\"\n",
        "      f\"New model loss: {loss_example9_new:.3f}\\n\"\n",
        "      f\"Updated model loss: {loss_example9_updated:.3f}\")"
      ],
      "execution_count": 48,
      "outputs": [
        {
          "output_type": "stream",
          "name": "stdout",
          "text": [
            "Old model loss: 0.094\n",
            "New model loss: 0.052\n",
            "Updated model loss: 2.722\n"
          ]
        }
      ]
    },
    {
      "cell_type": "markdown",
      "metadata": {
        "deletable": false,
        "editable": false,
        "id": "bvbWh18z0Elt"
      },
      "source": [
        "<!-- BEGIN QUESTION -->\n",
        "\n",
        "**Question:** Did the update to the model improve its performance on example 9 or make it worse? Why?\n",
        "\n",
        "<!--\n",
        "BEGIN QUESTION\n",
        "name: open_response_updated_9\n",
        "manual: true\n",
        "-->"
      ]
    },
    {
      "cell_type": "markdown",
      "metadata": {
        "id": "326d7bda"
      },
      "source": [
        "The update to the model actually worsened its performance on example 9, since the gradient vector was trained on example 0."
      ]
    },
    {
      "cell_type": "markdown",
      "metadata": {
        "id": "AyABjPif0Elu"
      },
      "source": [
        "<!-- END QUESTION -->\n",
        "\n",
        "\n",
        "\n",
        "## Repeating the process\n",
        "\n",
        "Step 3 is to repeat the process for this and other training examples. We could recalculate the gradient and take another step to improve further, and take steps to improve the other training examples, and so on and so forth, eventually converging on a model that works well over the entire training set. But doing so manually in this way is too tedious. We need to be able to do these kinds of computations at scale. Fortunately, in the next lab we'll be turning to packages that allow specifying these larger-scale computations."
      ]
    },
    {
      "cell_type": "markdown",
      "metadata": {
        "deletable": false,
        "editable": false,
        "id": "5BRwmccJ0Elx"
      },
      "source": [
        "<!-- BEGIN QUESTION -->\n",
        "\n",
        "## Lab debrief – for consensus submission only\n",
        "\n",
        "**Question:** We're interested in any thoughts your group has about this lab so that we can improve this lab for later years, and to inform later labs for this year. Please list any issues that arose or comments you have to improve the lab. Useful things to comment on include the following: \n",
        "\n",
        "* Was the lab too long or too short?\n",
        "* Were the readings appropriate for the lab? \n",
        "* Was it clear (at least after you completed the lab) what the points of the exercises were? \n",
        "* Are there additions or changes you think would make the lab better?\n",
        "\n",
        "<!--\n",
        "BEGIN QUESTION\n",
        "name: open_response_debrief\n",
        "manual: true\n",
        "-->"
      ]
    },
    {
      "cell_type": "markdown",
      "metadata": {
        "id": "1fdd0781"
      },
      "source": [
        "_Type your answer here, replacing this text._"
      ]
    },
    {
      "cell_type": "markdown",
      "metadata": {
        "id": "HGinChbB0Ely"
      },
      "source": [
        "<!-- END QUESTION -->\n",
        "\n",
        "\n",
        "\n",
        "# End of lab 1-4"
      ]
    },
    {
      "cell_type": "markdown",
      "metadata": {
        "deletable": false,
        "editable": false,
        "id": "aeb83d1c"
      },
      "source": [
        "---\n",
        "\n",
        "To double-check your work, the cell below will rerun all of the autograder tests."
      ]
    },
    {
      "cell_type": "code",
      "metadata": {
        "deletable": false,
        "editable": false,
        "id": "a9b0e46e"
      },
      "source": [
        "grader.check_all()"
      ],
      "execution_count": null,
      "outputs": []
    }
  ]
}